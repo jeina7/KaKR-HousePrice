{
 "cells": [
  {
   "cell_type": "markdown",
   "metadata": {},
   "source": [
    "### [Regression Data Analysis]\n",
    "# KaKR House Price Prediction - Boost Models Scoring Comparison"
   ]
  },
  {
   "cell_type": "markdown",
   "metadata": {},
   "source": [
    "- 지금까지 이루어진 전처리 및 feature engineering을 함수로 합쳐서 한 번에 처리합니다.\n",
    "\n",
    "\n",
    "- scoring을 위한 여러 함수도 생성해 놓은 후 반복적으로 사용하며 점수를 비교합니다.\n",
    "\n",
    "\n",
    "- 데이터셋을 이용하여 Boosting 기반 여러가지 모델을 통해 각 feature의 유효성을 확인합니다.\n",
    "\n",
    "\n",
    "- 각 모델별로도 비교하여 어떤 모델이 좋은지 확인합니다."
   ]
  },
  {
   "cell_type": "markdown",
   "metadata": {},
   "source": [
    "---"
   ]
  },
  {
   "cell_type": "markdown",
   "metadata": {},
   "source": [
    "#### Import Modules"
   ]
  },
  {
   "cell_type": "code",
   "execution_count": 1,
   "metadata": {},
   "outputs": [],
   "source": [
    "warnings.filterwarnings(\"ignore\")\n",
    "\n",
    "from sklearn.linear_model import LinearRegression, Ridge, Lasso, ElasticNet\n",
    "from sklearn.tree import DecisionTreeRegressor\n",
    "from sklearn.ensemble import RandomForestRegressor\n",
    "from sklearn.ensemble import GradientBoostingRegressor\n",
    "from xgboost import XGBRegressor, plot_importance\n",
    "from lightgbm import LGBMRegressor, plot_importance\n",
    "\n",
    "from sklearn.model_selection import GridSearchCV, train_test_split, KFold, cross_val_score\n",
    "from sklearn.metrics import accuracy_score, precision_score, recall_score, f1_score, roc_curve, roc_auc_score\n",
    "from sklearn.metrics import classification_report\n",
    "from sklearn.metrics import mean_squared_error, r2_score\n",
    "from sklearn.preprocessing import MinMaxScaler, StandardScaler\n",
    "from scipy.stats import skew\n",
    "\n",
    "import numpy as np\n",
    "import pandas as pd\n",
    "import seaborn as sns\n",
    "import matplotlib.pyplot as plt\n",
    "%matplotlib inline"
   ]
  },
  {
   "cell_type": "markdown",
   "metadata": {},
   "source": [
    "#### Data Load"
   ]
  },
  {
   "cell_type": "code",
   "execution_count": 7,
   "metadata": {},
   "outputs": [
    {
     "data": {
      "text/plain": [
       "((15035, 20), (6468, 19))"
      ]
     },
     "execution_count": 7,
     "metadata": {},
     "output_type": "execute_result"
    }
   ],
   "source": [
    "row_data = pd.read_csv(\"./data/train.csv\", index_col=['id'])\n",
    "row_test = pd.read_csv(\"./data/test.csv\", index_col=['id'])\n",
    "\n",
    "row_data.shape, row_test.shape"
   ]
  },
  {
   "cell_type": "markdown",
   "metadata": {},
   "source": [
    "---"
   ]
  },
  {
   "cell_type": "markdown",
   "metadata": {},
   "source": [
    "# Utility Functions"
   ]
  },
  {
   "cell_type": "markdown",
   "metadata": {},
   "source": [
    "## Features Preprocessing function"
   ]
  },
  {
   "cell_type": "markdown",
   "metadata": {},
   "source": [
    "- data에 지금까지 생성해본 feature들을 한 번에 전처리 해주는 함수"
   ]
  },
  {
   "cell_type": "code",
   "execution_count": 8,
   "metadata": {},
   "outputs": [],
   "source": [
    "def feature_preprocess(row_data, zipcode_rank_dict):\n",
    "    \n",
    "    data = row_data.copy()\n",
    "    \n",
    "    # price log transformation\n",
    "    if 'price' in data.columns:\n",
    "        data['log_price'] = np.log1p(data.price)\n",
    "    \n",
    "    # Date parsing\n",
    "    data['date'] = data['date'].apply(lambda i: i[:8])\n",
    "    data['date'] = pd.to_datetime(data['date'])\n",
    "    data['year'] = data.date.dt.year\n",
    "    data['month'] = data.date.dt.month\n",
    "    data['day']= data.date.dt.day\n",
    "    data['year_month'] = data.date.dt.year * 100 + data.date.dt.month\n",
    "    data['day_of_week'] = data.date.dt.dayofweek\n",
    "    data['2015_or_not'] = data.year.apply(lambda i: 0 if i == 2014 else 1)\n",
    "    data['weekday_ohe'] = data.day_of_week.apply(lambda i: 1 if i in range(5) else 0)\n",
    "    data['saturday_ohe'] = data.day_of_week.apply(lambda i: 1 if i == 5 else 0)\n",
    "    data['sunday_ohe'] = data.day_of_week.apply(lambda i: 1 if i == 6 else 0)\n",
    "    \n",
    "    # yr_renovated\n",
    "    data['yr_renovated_ohe'] = data['yr_renovated'].apply(lambda i: 0 if i == 0 else 1)\n",
    "    \n",
    "    # zipcode : 위에서 zipcode_rank_dict를 만들어놔야 코드가 실행됨\n",
    "    data['zipcode_rank'] = 71 - data['zipcode'].apply(lambda i: zipcode_rank_dict[i])\n",
    "    \n",
    "    # lat / long\n",
    "    data['lat_scale'] = (data['lat'] - data['lat'].mean()) / data['lat'].std()\n",
    "    data['long_scale'] = (data['long'] - data['long'].mean()) / data['long'].std()\n",
    "    \n",
    "    # areas\n",
    "    data['sqft_living_scale'] = np.log1p(data['sqft_living'])\n",
    "    data['sqft_lot_scale'] = np.log1p(data['sqft_lot'])\n",
    "    data['sqft_living_diff'] = data['sqft_living15'] - data['sqft_living']\n",
    "    data['sqft_lot_diff'] = data['sqft_lot15'] - data['sqft_lot']\n",
    "    data.loc[data['sqft_living_diff'] < 0, 'sqft_living_diff_scale'] = -np.log1p(-data['sqft_living_diff'])\n",
    "    data.loc[data['sqft_living_diff'] >= 0, 'sqft_living_diff_scale'] = np.log1p(data['sqft_living_diff'])\n",
    "    data.loc[data['sqft_lot_diff'] < 0, 'sqft_lot_diff_scale'] = -np.log1p(-data['sqft_lot_diff'])\n",
    "    data.loc[data['sqft_lot_diff'] >= 0, 'sqft_lot_diff_scale'] = np.log1p(data['sqft_lot_diff'])\n",
    "    data['sqft_above_scale'] = np.log1p(data['sqft_above'])\n",
    "    data['sqft_basement_ohe'] = data.sqft_basement.apply(lambda i: 0 if i == 0 else 1)\n",
    "    \n",
    "    return data"
   ]
  },
  {
   "cell_type": "markdown",
   "metadata": {},
   "source": [
    "- `zipcode_rank` 컬럼을 생성하기 위한 zipcode_rank를 담은 딕셔너리 생성 함수"
   ]
  },
  {
   "cell_type": "code",
   "execution_count": 9,
   "metadata": {},
   "outputs": [],
   "source": [
    "def get_ziprank(data):\n",
    "    zipcode_rank = data.groupby(['zipcode']).mean().sort_values(by=['price'], \\\n",
    "                                                                ascending=False).reset_index()[['zipcode', 'price']]\n",
    "    zipcode_rank['rank'] = range(1, len(zipcode_rank)+1)\n",
    "    zipcode_rank_dict = zipcode_rank.set_index(['zipcode'])['rank'].to_dict()\n",
    "    \n",
    "    return zipcode_rank_dict"
   ]
  },
  {
   "cell_type": "code",
   "execution_count": 10,
   "metadata": {},
   "outputs": [
    {
     "data": {
      "text/html": [
       "<div>\n",
       "<style scoped>\n",
       "    .dataframe tbody tr th:only-of-type {\n",
       "        vertical-align: middle;\n",
       "    }\n",
       "\n",
       "    .dataframe tbody tr th {\n",
       "        vertical-align: top;\n",
       "    }\n",
       "\n",
       "    .dataframe thead th {\n",
       "        text-align: right;\n",
       "    }\n",
       "</style>\n",
       "<table border=\"1\" class=\"dataframe\">\n",
       "  <thead>\n",
       "    <tr style=\"text-align: right;\">\n",
       "      <th></th>\n",
       "      <th>rank</th>\n",
       "    </tr>\n",
       "  </thead>\n",
       "  <tbody>\n",
       "    <tr>\n",
       "      <th>98039</th>\n",
       "      <td>1</td>\n",
       "    </tr>\n",
       "    <tr>\n",
       "      <th>98004</th>\n",
       "      <td>2</td>\n",
       "    </tr>\n",
       "    <tr>\n",
       "      <th>98040</th>\n",
       "      <td>3</td>\n",
       "    </tr>\n",
       "    <tr>\n",
       "      <th>98112</th>\n",
       "      <td>4</td>\n",
       "    </tr>\n",
       "    <tr>\n",
       "      <th>98102</th>\n",
       "      <td>5</td>\n",
       "    </tr>\n",
       "    <tr>\n",
       "      <th>98109</th>\n",
       "      <td>6</td>\n",
       "    </tr>\n",
       "    <tr>\n",
       "      <th>98105</th>\n",
       "      <td>7</td>\n",
       "    </tr>\n",
       "    <tr>\n",
       "      <th>98119</th>\n",
       "      <td>8</td>\n",
       "    </tr>\n",
       "    <tr>\n",
       "      <th>98006</th>\n",
       "      <td>9</td>\n",
       "    </tr>\n",
       "    <tr>\n",
       "      <th>98199</th>\n",
       "      <td>10</td>\n",
       "    </tr>\n",
       "  </tbody>\n",
       "</table>\n",
       "</div>"
      ],
      "text/plain": [
       "       rank\n",
       "98039     1\n",
       "98004     2\n",
       "98040     3\n",
       "98112     4\n",
       "98102     5\n",
       "98109     6\n",
       "98105     7\n",
       "98119     8\n",
       "98006     9\n",
       "98199    10"
      ]
     },
     "execution_count": 10,
     "metadata": {},
     "output_type": "execute_result"
    }
   ],
   "source": [
    "zipcode_rank_dict = get_ziprank(row_data)\n",
    "pd.DataFrame(zipcode_rank_dict, index=['rank']).T.head(10)"
   ]
  },
  {
   "cell_type": "markdown",
   "metadata": {},
   "source": [
    "- `row_data`에 feature_preprocess 함수를 통해 여러가지 컬럼을 한 번에 생성"
   ]
  },
  {
   "cell_type": "code",
   "execution_count": 11,
   "metadata": {},
   "outputs": [
    {
     "data": {
      "text/plain": [
       "((15035, 42), (6468, 40))"
      ]
     },
     "execution_count": 11,
     "metadata": {},
     "output_type": "execute_result"
    }
   ],
   "source": [
    "data = feature_preprocess(row_data, zipcode_rank_dict)\n",
    "test = feature_preprocess(row_test, zipcode_rank_dict)\n",
    "\n",
    "data.shape, test.shape"
   ]
  },
  {
   "cell_type": "code",
   "execution_count": 12,
   "metadata": {},
   "outputs": [
    {
     "data": {
      "text/plain": [
       "{'log_price', 'price'}"
      ]
     },
     "execution_count": 12,
     "metadata": {},
     "output_type": "execute_result"
    }
   ],
   "source": [
    "set(data.columns) - set(test.columns)"
   ]
  },
  {
   "cell_type": "markdown",
   "metadata": {},
   "source": [
    "## Evaluation functions"
   ]
  },
  {
   "cell_type": "markdown",
   "metadata": {},
   "source": [
    "- `RMSLE`, `RMSE`, `R2` 점수 등을 계산하는 함수"
   ]
  },
  {
   "cell_type": "code",
   "execution_count": 17,
   "metadata": {},
   "outputs": [],
   "source": [
    "def rmsle_cv(model, train, label):\n",
    "    rmse_list = np.sqrt(-cross_val_score(model, train, label, scoring='neg_mean_squared_error', cv=5))\n",
    "#     print(\"{} RMSE lists: {}\".format(model.__class__.__name__, np.round(rmse_list, 4)))\n",
    "#     print(\"[{}] RMSE average: {}\".format(model.__class__.__name__, np.round(np.mean(rmse_list), 4)))\n",
    "    \n",
    "    return np.round(np.mean(rmse_list), 4)"
   ]
  },
  {
   "cell_type": "code",
   "execution_count": 18,
   "metadata": {},
   "outputs": [],
   "source": [
    "def r2_cv(model, train, label):\n",
    "    r2_list = cross_val_score(model, train, label, scoring='r2', cv=5)\n",
    "#     print(\"{} RMSE lists: {}\".format(model.__class__.__name__, np.round(r2_list, 4)))\n",
    "#     print(\"[{}] r2_score average: {}\".format(model.__class__.__name__, np.round(np.mean(r2_list), 4)))\n",
    "    \n",
    "    return np.round(np.mean(r2_list), 4)"
   ]
  },
  {
   "cell_type": "code",
   "execution_count": 19,
   "metadata": {},
   "outputs": [],
   "source": [
    "def rmse(model, y_test, y_pred):\n",
    "    y_test_exp = np.expm1(y_test)\n",
    "    y_pred_exp = np.expm1(y_pred)\n",
    "#     print(\"[{}] rmse: {}\".format(model.__class__.__name__, np.round(np.sqrt(mean_squared_error(y_test, y_pred)), 2)))\n",
    "    \n",
    "    return np.sqrt(mean_squared_error(y_test_exp, y_pred_exp))"
   ]
  },
  {
   "cell_type": "markdown",
   "metadata": {},
   "source": [
    "- 위의 세 가지 점수를 한 번에 출력해주는 함수"
   ]
  },
  {
   "cell_type": "code",
   "execution_count": 20,
   "metadata": {},
   "outputs": [],
   "source": [
    "def get_scores(models, train, label, rmse_=True):\n",
    "    df = {}\n",
    "    \n",
    "    for model in models:\n",
    "        model_name = model.__class__.__name__\n",
    "        df[model_name] = []\n",
    "        df[model_name].append(rmsle_cv(model, train, label))\n",
    "        df[model_name].append(r2_cv(model, train, label))\n",
    "        \n",
    "        if rmse_:\n",
    "            X_train, X_test, y_train, y_test = train_test_split(train, label, test_size=0.2)\n",
    "            model.fit(X_train, y_train)\n",
    "            y_pred = model.predict(X_test)\n",
    "            df[model_name].append(rmse(model, y_test, y_pred))\n",
    "        \n",
    "        if rmse_:\n",
    "            score_df = pd.DataFrame(df, index=['RMSLE', 'R2 score', 'RMSE']).T.sort_values('R2 score', \\\n",
    "                                                                                           ascending=False)\n",
    "        else:\n",
    "            score_df = pd.DataFrame(df, index=['RMSLE', 'R2 score']).T.sort_values('R2 score', \\\n",
    "                                                                                   ascending=False)\n",
    "            \n",
    "    return score_df"
   ]
  },
  {
   "cell_type": "markdown",
   "metadata": {},
   "source": [
    "## Coefficient"
   ]
  },
  {
   "cell_type": "markdown",
   "metadata": {},
   "source": [
    "- Linear 모델에서 계수를 확인할 수 있게 해주는 함수"
   ]
  },
  {
   "cell_type": "code",
   "execution_count": 2,
   "metadata": {},
   "outputs": [],
   "source": [
    "def get_coef(models, sort_model):\n",
    "    coef = {}\n",
    "    \n",
    "    if type(models) != list:\n",
    "        model = models\n",
    "        model_name = model.__class__.__name__\n",
    "        coef[model_name] = model.coef_\n",
    "    \n",
    "    else:\n",
    "        for model in models:\n",
    "            model_name = model.__class__.__name__\n",
    "            coef[model_name] = model.coef_\n",
    "\n",
    "    coef_df = pd.DataFrame(coef, index=train.columns)\n",
    "    \n",
    "    return coef_df.sort_values(sort_model.__class__.__name__, ascending=False)"
   ]
  },
  {
   "cell_type": "markdown",
   "metadata": {},
   "source": [
    "- 회귀계수 시각화 함수"
   ]
  },
  {
   "cell_type": "code",
   "execution_count": 4,
   "metadata": {},
   "outputs": [],
   "source": [
    "def draw_coefs(models):\n",
    "    if type(models) != list:\n",
    "        model = models\n",
    "        model_name = model.__class__.__name__\n",
    "        sns.barplot(x=get_coef(models, model)[model_name].values, \\\n",
    "                    y=get_coef(models, model)[model_name].index).set_title(model_name)\n",
    "            \n",
    "    elif len(models) == 3:\n",
    "        figure, axs = plt.subplots(nrows=1, ncols=3)\n",
    "        figure.set_size_inches(18, 6)\n",
    "\n",
    "        for idx, model in enumerate(models):\n",
    "            model_name = model.__class__.__name__\n",
    "            sns.barplot(x=get_coef(models, model)[model_name].values, \\\n",
    "                        y=get_coef(models, model)[model_name].index, \\\n",
    "                        ax=axs[idx]).set_title(model_name)\n",
    "    else:\n",
    "        figure, axs = plt.subplots(nrows=2, ncols=2)\n",
    "        figure.set_size_inches(18, 12)\n",
    "\n",
    "        for idx, model in enumerate(models):\n",
    "            model_name = model.__class__.__name__\n",
    "            sns.barplot(x=get_coef(models, model)[model_name].values, \\\n",
    "                        y=get_coef(models, model)[model_name].index, \\\n",
    "                        ax=axs[idx//2][idx%2]).set_title(model_name)\n",
    "    \n",
    "    plt.show()"
   ]
  },
  {
   "cell_type": "markdown",
   "metadata": {},
   "source": [
    "- Boosting 모델의 feature importance 시각화 함수"
   ]
  },
  {
   "cell_type": "code",
   "execution_count": 22,
   "metadata": {},
   "outputs": [],
   "source": [
    "def draw_importances(models, data):\n",
    "    if type(models) != list:\n",
    "        model = models\n",
    "        model_name = model.__class__.__name__\n",
    "        importances = [i for i in zip(data.columns, model.feature_importances_)]\n",
    "        importances = sorted([[i[0], float(i[1])] for i in importances], key=lambda i: i[1], reverse=True)\n",
    "        plt.figure(figsize=(8, 6))\n",
    "        sns.barplot(x=[i[1] for i in importances], y=[i[0] for i in importances]).set_title(model_name)\n",
    "    \n",
    "    elif len(models) == 3:\n",
    "        figure, axs = plt.subplots(nrows=1, ncols=3)\n",
    "        figure.set_size_inches(18, 6)\n",
    "\n",
    "        for idx, model in enumerate(models):\n",
    "            model_name = model.__class__.__name__\n",
    "            importances = [i for i in zip(train.columns, model.feature_importances_)]\n",
    "            importances = sorted([[i[0], float(i[1])] for i in importances], key=lambda i: i[1], reverse=True)\n",
    "            sns.barplot(x=[i[1] for i in importances], y=[i[0] for i in importances], \\\n",
    "                        ax=axs[idx]).set_title(model_name)\n",
    "\n",
    "    else:\n",
    "        figure, axs = plt.subplots(nrows=2, ncols=2)\n",
    "        figure.set_size_inches(18, 12)\n",
    "\n",
    "        for idx, model in enumerate(models):\n",
    "            model_name = model.__class__.__name__\n",
    "            importances = [i for i in zip(train.columns, model.feature_importances_)]\n",
    "            importances = sorted([[i[0], float(i[1])] for i in importances], key=lambda i: i[1], reverse=True)\n",
    "            sns.barplot(x=[i[1] for i in importances], y=[i[0] for i in importances], \\\n",
    "                        ax=axs[idx//2][idx%2]).set_title(model_name)\n",
    "\n",
    "    plt.show()"
   ]
  },
  {
   "cell_type": "markdown",
   "metadata": {},
   "source": [
    "## Skewness"
   ]
  },
  {
   "cell_type": "markdown",
   "metadata": {},
   "source": [
    "- Skewness 확인 및 높은 왜곡도를 가진 컬럼은 scaling 진행 (Linear model을 위한 전처리)"
   ]
  },
  {
   "cell_type": "code",
   "execution_count": 21,
   "metadata": {},
   "outputs": [
    {
     "data": {
      "text/html": [
       "<div>\n",
       "<style scoped>\n",
       "    .dataframe tbody tr th:only-of-type {\n",
       "        vertical-align: middle;\n",
       "    }\n",
       "\n",
       "    .dataframe tbody tr th {\n",
       "        vertical-align: top;\n",
       "    }\n",
       "\n",
       "    .dataframe thead th {\n",
       "        text-align: right;\n",
       "    }\n",
       "</style>\n",
       "<table border=\"1\" class=\"dataframe\">\n",
       "  <thead>\n",
       "    <tr style=\"text-align: right;\">\n",
       "      <th></th>\n",
       "      <th>train_skewness</th>\n",
       "    </tr>\n",
       "  </thead>\n",
       "  <tbody>\n",
       "    <tr>\n",
       "      <th>sqft_lot</th>\n",
       "      <td>13.3492</td>\n",
       "    </tr>\n",
       "    <tr>\n",
       "      <th>waterfront</th>\n",
       "      <td>11.7269</td>\n",
       "    </tr>\n",
       "    <tr>\n",
       "      <th>sunday_ohe</th>\n",
       "      <td>10.3322</td>\n",
       "    </tr>\n",
       "    <tr>\n",
       "      <th>sqft_lot15</th>\n",
       "      <td>10.0274</td>\n",
       "    </tr>\n",
       "    <tr>\n",
       "      <th>saturday_ohe</th>\n",
       "      <td>8.5409</td>\n",
       "    </tr>\n",
       "    <tr>\n",
       "      <th>yr_renovated</th>\n",
       "      <td>4.5689</td>\n",
       "    </tr>\n",
       "    <tr>\n",
       "      <th>yr_renovated_ohe</th>\n",
       "      <td>4.5685</td>\n",
       "    </tr>\n",
       "    <tr>\n",
       "      <th>price</th>\n",
       "      <td>4.2898</td>\n",
       "    </tr>\n",
       "    <tr>\n",
       "      <th>view</th>\n",
       "      <td>3.3784</td>\n",
       "    </tr>\n",
       "    <tr>\n",
       "      <th>sqft_basement</th>\n",
       "      <td>1.5564</td>\n",
       "    </tr>\n",
       "  </tbody>\n",
       "</table>\n",
       "</div>"
      ],
      "text/plain": [
       "                  train_skewness\n",
       "sqft_lot                 13.3492\n",
       "waterfront               11.7269\n",
       "sunday_ohe               10.3322\n",
       "sqft_lot15               10.0274\n",
       "saturday_ohe              8.5409\n",
       "yr_renovated              4.5689\n",
       "yr_renovated_ohe          4.5685\n",
       "price                     4.2898\n",
       "view                      3.3784\n",
       "sqft_basement             1.5564"
      ]
     },
     "execution_count": 21,
     "metadata": {},
     "output_type": "execute_result"
    }
   ],
   "source": [
    "skews = {}\n",
    "for column in data.columns[1:]:\n",
    "    skews[column] = np.round(skew(data[column]), 4)\n",
    "\n",
    "skew_df = pd.DataFrame(skews, index=['train_skewness']).T.sort_values('train_skewness', ascending=False)\n",
    "skew_df.head(10)"
   ]
  },
  {
   "cell_type": "markdown",
   "metadata": {},
   "source": [
    "## function for skewness"
   ]
  },
  {
   "cell_type": "code",
   "execution_count": 270,
   "metadata": {},
   "outputs": [],
   "source": [
    "def transform_skewness(data):\n",
    "    \n",
    "    data_skew = data.copy()\n",
    "    \n",
    "    data_skew['year_month_scale'] = (data['year_month'] - data.year_month.min()) \\\n",
    "                                / (data.year_month.max() - data.year_month.min())\n",
    "    data_skew['bedrooms_scale'] = np.log1p(data.bedrooms)\n",
    "    data_skew['bathrooms_scale'] = np.log1p(data.bathrooms)\n",
    "    data_skew['floors_scale'] = np.log1p(data.floors)\n",
    "    data_skew['grade_scale'] = np.exp((data['grade'] - data.grade.min()) \\\n",
    "                                 / (data.grade.max() - data.grade.min()))\n",
    "    data_skew['zipcode_rank_scale'] = np.exp((data['zipcode_rank'] - data.zipcode_rank.min()) \\\n",
    "                                        / (data.zipcode_rank.max() - data.zipcode_rank.min()))\n",
    "    \n",
    "    return data_skew"
   ]
  },
  {
   "cell_type": "markdown",
   "metadata": {},
   "source": [
    "- data에 scaling된 컬럼 추가"
   ]
  },
  {
   "cell_type": "code",
   "execution_count": 398,
   "metadata": {},
   "outputs": [],
   "source": [
    "data = transform_skewness(data)\n",
    "test = transform_skewness(test)"
   ]
  },
  {
   "cell_type": "markdown",
   "metadata": {},
   "source": [
    "## Blending Models"
   ]
  },
  {
   "cell_type": "markdown",
   "metadata": {},
   "source": [
    "- 여러 모델의 점수를 평균 내서 쓸 수 있게 해주는 함수\n",
    "- Baseline의 함수를 참고하였습니다. ( [Baseline model](https://www.kaggle.com/kcs93023/2019-ml-month-2nd-baseline) )"
   ]
  },
  {
   "cell_type": "code",
   "execution_count": 399,
   "metadata": {},
   "outputs": [],
   "source": [
    "def BlendingModels(models, x, y, sub_x):\n",
    "    for m in models : \n",
    "        m.fit(x.values, y)\n",
    "    \n",
    "    predictions = np.column_stack([\n",
    "        m.predict(sub_x.values) for m in models\n",
    "    ])\n",
    "    return np.mean(predictions, axis=1)"
   ]
  },
  {
   "cell_type": "markdown",
   "metadata": {},
   "source": [
    "## Submission File"
   ]
  },
  {
   "cell_type": "markdown",
   "metadata": {},
   "source": [
    "- Kaggle에 제출할 csv 파일 생성 함수"
   ]
  },
  {
   "cell_type": "code",
   "execution_count": 400,
   "metadata": {},
   "outputs": [],
   "source": [
    "def LetSubmit(y_pred, filename):\n",
    "    submission = pd.read_csv(\"./data/sample_submission.csv\")\n",
    "    submission['price'] = y_pred\n",
    "    submission.to_csv(\"./submission/{}.csv\".format(filename), index_label=False, index=False)\n",
    "    submission_test = pd.read_csv(\"./submission.csv\")\n",
    "    \n",
    "    return submission_test"
   ]
  },
  {
   "cell_type": "markdown",
   "metadata": {},
   "source": [
    "---\n",
    "---"
   ]
  },
  {
   "cell_type": "markdown",
   "metadata": {},
   "source": [
    "## \\#SUBMISSION 1 : row data"
   ]
  },
  {
   "cell_type": "markdown",
   "metadata": {},
   "source": [
    "- 아무 처리도 하지 않은 `row_data` 이용"
   ]
  },
  {
   "cell_type": "code",
   "execution_count": 421,
   "metadata": {},
   "outputs": [],
   "source": [
    "row_features = ['bedrooms', 'bathrooms', 'sqft_living', 'sqft_lot', 'floors', 'waterfront', 'view', \\\n",
    "                'condition', 'grade', 'sqft_above', 'sqft_basement', 'yr_built', 'yr_renovated', \\\n",
    "                'zipcode', 'lat', 'long', 'sqft_living15', 'sqft_lot15']\n",
    "\n",
    "row_train = data[row_features]\n",
    "row_label = data['price']"
   ]
  },
  {
   "cell_type": "code",
   "execution_count": 423,
   "metadata": {},
   "outputs": [],
   "source": [
    "linear = LinearRegression()\n",
    "ridge = Ridge()\n",
    "lasso = Lasso()\n",
    "gboost = GradientBoostingRegressor()\n",
    "xgboost = XGBRegressor()\n",
    "lightgbm = LGBMRegressor()\n",
    "rdforest = RandomForestRegressor()\n",
    "\n",
    "models = [linear, ridge, lasso, gboost, xgboost, lightgbm, rdforest]"
   ]
  },
  {
   "cell_type": "code",
   "execution_count": 428,
   "metadata": {
    "scrolled": true
   },
   "outputs": [
    {
     "name": "stdout",
     "output_type": "stream",
     "text": [
      "CPU times: user 46.4 s, sys: 2.01 s, total: 48.4 s\n",
      "Wall time: 25.6 s\n"
     ]
    }
   ],
   "source": [
    "%%time\n",
    "row_scores = get_scores(models, row_train, row_label, rmse_=False)"
   ]
  },
  {
   "cell_type": "code",
   "execution_count": 429,
   "metadata": {},
   "outputs": [
    {
     "data": {
      "text/html": [
       "<div>\n",
       "<style scoped>\n",
       "    .dataframe tbody tr th:only-of-type {\n",
       "        vertical-align: middle;\n",
       "    }\n",
       "\n",
       "    .dataframe tbody tr th {\n",
       "        vertical-align: top;\n",
       "    }\n",
       "\n",
       "    .dataframe thead th {\n",
       "        text-align: right;\n",
       "    }\n",
       "</style>\n",
       "<table border=\"1\" class=\"dataframe\">\n",
       "  <thead>\n",
       "    <tr style=\"text-align: right;\">\n",
       "      <th></th>\n",
       "      <th>RMSLE</th>\n",
       "      <th>R2 score</th>\n",
       "    </tr>\n",
       "  </thead>\n",
       "  <tbody>\n",
       "    <tr>\n",
       "      <th>LGBMRegressor</th>\n",
       "      <td>128596.0435</td>\n",
       "      <td>0.8795</td>\n",
       "    </tr>\n",
       "    <tr>\n",
       "      <th>XGBRegressor</th>\n",
       "      <td>138040.3220</td>\n",
       "      <td>0.8604</td>\n",
       "    </tr>\n",
       "    <tr>\n",
       "      <th>GradientBoostingRegressor</th>\n",
       "      <td>139118.3285</td>\n",
       "      <td>0.8587</td>\n",
       "    </tr>\n",
       "    <tr>\n",
       "      <th>RandomForestRegressor</th>\n",
       "      <td>143556.8579</td>\n",
       "      <td>0.8554</td>\n",
       "    </tr>\n",
       "    <tr>\n",
       "      <th>LinearRegression</th>\n",
       "      <td>205223.4818</td>\n",
       "      <td>0.6936</td>\n",
       "    </tr>\n",
       "    <tr>\n",
       "      <th>Ridge</th>\n",
       "      <td>205220.3373</td>\n",
       "      <td>0.6936</td>\n",
       "    </tr>\n",
       "    <tr>\n",
       "      <th>Lasso</th>\n",
       "      <td>205223.6918</td>\n",
       "      <td>0.6936</td>\n",
       "    </tr>\n",
       "  </tbody>\n",
       "</table>\n",
       "</div>"
      ],
      "text/plain": [
       "                                 RMSLE  R2 score\n",
       "LGBMRegressor              128596.0435    0.8795\n",
       "XGBRegressor               138040.3220    0.8604\n",
       "GradientBoostingRegressor  139118.3285    0.8587\n",
       "RandomForestRegressor      143556.8579    0.8554\n",
       "LinearRegression           205223.4818    0.6936\n",
       "Ridge                      205220.3373    0.6936\n",
       "Lasso                      205223.6918    0.6936"
      ]
     },
     "execution_count": 429,
     "metadata": {},
     "output_type": "execute_result"
    }
   ],
   "source": [
    "row_scores"
   ]
  },
  {
   "cell_type": "markdown",
   "metadata": {},
   "source": [
    "- LGBMRegressor 의 성능이 가장 좋다"
   ]
  },
  {
   "cell_type": "code",
   "execution_count": 431,
   "metadata": {},
   "outputs": [
    {
     "name": "stdout",
     "output_type": "stream",
     "text": [
      "RMSE:  132237.78212563155\n",
      "R2 score:  0.8388257846258557\n"
     ]
    }
   ],
   "source": [
    "X_train, X_test, y_train, y_test = train_test_split(row_train, row_label, test_size=0.2)\n",
    "lightgbm.fit(X_train, y_train)\n",
    "y_pred = lightgbm.predict(X_test)\n",
    "print(\"RMSE: \", np.sqrt(mean_squared_error(y_pred, y_test)))\n",
    "print(\"R2 score: \", r2_score(y_pred, y_test))"
   ]
  },
  {
   "cell_type": "code",
   "execution_count": 432,
   "metadata": {},
   "outputs": [],
   "source": [
    "row_sub = test[row_features]"
   ]
  },
  {
   "cell_type": "code",
   "execution_count": 433,
   "metadata": {},
   "outputs": [
    {
     "data": {
      "text/plain": [
       "array([ 516323.80882999,  427963.77502968, 1280874.89067476, ...,\n",
       "        448476.60858797,  338708.20289024,  419219.0490378 ])"
      ]
     },
     "execution_count": 433,
     "metadata": {},
     "output_type": "execute_result"
    }
   ],
   "source": [
    "lightgbm.fit(row_train, row_label)\n",
    "y_pred = lightgbm.predict(row_sub)\n",
    "y_pred"
   ]
  },
  {
   "cell_type": "code",
   "execution_count": 166,
   "metadata": {},
   "outputs": [
    {
     "data": {
      "text/html": [
       "<div>\n",
       "<style scoped>\n",
       "    .dataframe tbody tr th:only-of-type {\n",
       "        vertical-align: middle;\n",
       "    }\n",
       "\n",
       "    .dataframe tbody tr th {\n",
       "        vertical-align: top;\n",
       "    }\n",
       "\n",
       "    .dataframe thead th {\n",
       "        text-align: right;\n",
       "    }\n",
       "</style>\n",
       "<table border=\"1\" class=\"dataframe\">\n",
       "  <thead>\n",
       "    <tr style=\"text-align: right;\">\n",
       "      <th></th>\n",
       "      <th>id</th>\n",
       "      <th>price</th>\n",
       "    </tr>\n",
       "  </thead>\n",
       "  <tbody>\n",
       "    <tr>\n",
       "      <th>0</th>\n",
       "      <td>15035</td>\n",
       "      <td>4.942906e+05</td>\n",
       "    </tr>\n",
       "    <tr>\n",
       "      <th>1</th>\n",
       "      <td>15036</td>\n",
       "      <td>4.744508e+05</td>\n",
       "    </tr>\n",
       "    <tr>\n",
       "      <th>2</th>\n",
       "      <td>15037</td>\n",
       "      <td>1.256917e+06</td>\n",
       "    </tr>\n",
       "    <tr>\n",
       "      <th>3</th>\n",
       "      <td>15038</td>\n",
       "      <td>3.068664e+05</td>\n",
       "    </tr>\n",
       "    <tr>\n",
       "      <th>4</th>\n",
       "      <td>15039</td>\n",
       "      <td>2.861011e+05</td>\n",
       "    </tr>\n",
       "  </tbody>\n",
       "</table>\n",
       "</div>"
      ],
      "text/plain": [
       "      id         price\n",
       "0  15035  4.942906e+05\n",
       "1  15036  4.744508e+05\n",
       "2  15037  1.256917e+06\n",
       "3  15038  3.068664e+05\n",
       "4  15039  2.861011e+05"
      ]
     },
     "execution_count": 166,
     "metadata": {},
     "output_type": "execute_result"
    }
   ],
   "source": [
    "# row_submission = LetSubmit(np.expm1(y_pred), \"logprice_lgbm\")\n",
    "# row_submission.head()"
   ]
  },
  {
   "cell_type": "markdown",
   "metadata": {},
   "source": [
    "> Submission 결과 : 127945"
   ]
  },
  {
   "cell_type": "markdown",
   "metadata": {},
   "source": [
    "---"
   ]
  },
  {
   "cell_type": "markdown",
   "metadata": {},
   "source": [
    "## \\#SUBMISSION 2 : row data - `price` log 처리, `date` 빼고 blending models"
   ]
  },
  {
   "cell_type": "markdown",
   "metadata": {},
   "source": [
    "- `price` 를 log변환\n",
    "- `date` 컬럼 제외\n",
    "- model은 LGBM, XGB, GB 세 가지 이용, blend"
   ]
  },
  {
   "cell_type": "code",
   "execution_count": 435,
   "metadata": {},
   "outputs": [],
   "source": [
    "row_features = ['bedrooms', 'bathrooms', 'sqft_living', 'sqft_lot', 'floors', 'waterfront', 'view', \\\n",
    "                'condition', 'grade', 'sqft_above', 'sqft_basement', 'yr_built', 'yr_renovated', \\\n",
    "                'zipcode', 'lat', 'long', 'sqft_living15', 'sqft_lot15']\n",
    "\n",
    "row_train = row_data[row_features]\n",
    "row_data['log_price'] = np.log1p(row_data.price)\n",
    "row_label = row_data['log_price']"
   ]
  },
  {
   "cell_type": "code",
   "execution_count": 437,
   "metadata": {},
   "outputs": [],
   "source": [
    "linear = LinearRegression()\n",
    "ridge = Ridge()\n",
    "lasso = Lasso()\n",
    "gboost = GradientBoostingRegressor()\n",
    "xgboost = XGBRegressor()\n",
    "lightgbm = LGBMRegressor()\n",
    "rdforest = RandomForestRegressor()\n",
    "\n",
    "models = [linear, ridge, lasso, gboost, xgboost, lightgbm, rdforest]"
   ]
  },
  {
   "cell_type": "code",
   "execution_count": 438,
   "metadata": {
    "scrolled": true
   },
   "outputs": [
    {
     "name": "stdout",
     "output_type": "stream",
     "text": [
      "CPU times: user 43.7 s, sys: 1.19 s, total: 44.9 s\n",
      "Wall time: 25.8 s\n"
     ]
    }
   ],
   "source": [
    "%%time\n",
    "row_scores = get_scores(models, row_train, row_label)"
   ]
  },
  {
   "cell_type": "code",
   "execution_count": 439,
   "metadata": {},
   "outputs": [
    {
     "data": {
      "text/html": [
       "<div>\n",
       "<style scoped>\n",
       "    .dataframe tbody tr th:only-of-type {\n",
       "        vertical-align: middle;\n",
       "    }\n",
       "\n",
       "    .dataframe tbody tr th {\n",
       "        vertical-align: top;\n",
       "    }\n",
       "\n",
       "    .dataframe thead th {\n",
       "        text-align: right;\n",
       "    }\n",
       "</style>\n",
       "<table border=\"1\" class=\"dataframe\">\n",
       "  <thead>\n",
       "    <tr style=\"text-align: right;\">\n",
       "      <th></th>\n",
       "      <th>RMSLE</th>\n",
       "      <th>R2 score</th>\n",
       "      <th>RMSE</th>\n",
       "    </tr>\n",
       "  </thead>\n",
       "  <tbody>\n",
       "    <tr>\n",
       "      <th>LGBMRegressor</th>\n",
       "      <td>0.1666</td>\n",
       "      <td>0.8999</td>\n",
       "      <td>109729.327395</td>\n",
       "    </tr>\n",
       "    <tr>\n",
       "      <th>GradientBoostingRegressor</th>\n",
       "      <td>0.1841</td>\n",
       "      <td>0.8779</td>\n",
       "      <td>144937.489634</td>\n",
       "    </tr>\n",
       "    <tr>\n",
       "      <th>XGBRegressor</th>\n",
       "      <td>0.1860</td>\n",
       "      <td>0.8753</td>\n",
       "      <td>129642.090425</td>\n",
       "    </tr>\n",
       "    <tr>\n",
       "      <th>RandomForestRegressor</th>\n",
       "      <td>0.1888</td>\n",
       "      <td>0.8729</td>\n",
       "      <td>148516.106882</td>\n",
       "    </tr>\n",
       "    <tr>\n",
       "      <th>LinearRegression</th>\n",
       "      <td>0.2532</td>\n",
       "      <td>0.7687</td>\n",
       "      <td>295484.260523</td>\n",
       "    </tr>\n",
       "    <tr>\n",
       "      <th>Ridge</th>\n",
       "      <td>0.2532</td>\n",
       "      <td>0.7687</td>\n",
       "      <td>179273.596296</td>\n",
       "    </tr>\n",
       "    <tr>\n",
       "      <th>Lasso</th>\n",
       "      <td>0.3594</td>\n",
       "      <td>0.5338</td>\n",
       "      <td>319074.680311</td>\n",
       "    </tr>\n",
       "  </tbody>\n",
       "</table>\n",
       "</div>"
      ],
      "text/plain": [
       "                            RMSLE  R2 score           RMSE\n",
       "LGBMRegressor              0.1666    0.8999  109729.327395\n",
       "GradientBoostingRegressor  0.1841    0.8779  144937.489634\n",
       "XGBRegressor               0.1860    0.8753  129642.090425\n",
       "RandomForestRegressor      0.1888    0.8729  148516.106882\n",
       "LinearRegression           0.2532    0.7687  295484.260523\n",
       "Ridge                      0.2532    0.7687  179273.596296\n",
       "Lasso                      0.3594    0.5338  319074.680311"
      ]
     },
     "execution_count": 439,
     "metadata": {},
     "output_type": "execute_result"
    }
   ],
   "source": [
    "row_scores"
   ]
  },
  {
   "cell_type": "code",
   "execution_count": 442,
   "metadata": {},
   "outputs": [
    {
     "name": "stdout",
     "output_type": "stream",
     "text": [
      "RMSE:  127321.53463820937\n",
      "R2 score:  0.8750242353696186\n"
     ]
    }
   ],
   "source": [
    "X_train, X_test, y_train, y_test = train_test_split(row_train, row_label, test_size=0.2)\n",
    "y_pred = BlendingModels(models[3:], X_train, y_train, X_test)\n",
    "print(\"RMSE: \", np.sqrt(mean_squared_error(np.expm1(y_pred), np.expm1(y_test))))\n",
    "print(\"R2 score: \", r2_score(y_pred, y_test))"
   ]
  },
  {
   "cell_type": "code",
   "execution_count": 164,
   "metadata": {},
   "outputs": [],
   "source": [
    "row_sub = test[row_features]"
   ]
  },
  {
   "cell_type": "code",
   "execution_count": 443,
   "metadata": {},
   "outputs": [],
   "source": [
    "y_pred = BlendingModels(models[3:], row_train, row_label, row_sub)"
   ]
  },
  {
   "cell_type": "code",
   "execution_count": 166,
   "metadata": {},
   "outputs": [
    {
     "data": {
      "text/html": [
       "<div>\n",
       "<style scoped>\n",
       "    .dataframe tbody tr th:only-of-type {\n",
       "        vertical-align: middle;\n",
       "    }\n",
       "\n",
       "    .dataframe tbody tr th {\n",
       "        vertical-align: top;\n",
       "    }\n",
       "\n",
       "    .dataframe thead th {\n",
       "        text-align: right;\n",
       "    }\n",
       "</style>\n",
       "<table border=\"1\" class=\"dataframe\">\n",
       "  <thead>\n",
       "    <tr style=\"text-align: right;\">\n",
       "      <th></th>\n",
       "      <th>id</th>\n",
       "      <th>price</th>\n",
       "    </tr>\n",
       "  </thead>\n",
       "  <tbody>\n",
       "    <tr>\n",
       "      <th>0</th>\n",
       "      <td>15035</td>\n",
       "      <td>4.942906e+05</td>\n",
       "    </tr>\n",
       "    <tr>\n",
       "      <th>1</th>\n",
       "      <td>15036</td>\n",
       "      <td>4.744508e+05</td>\n",
       "    </tr>\n",
       "    <tr>\n",
       "      <th>2</th>\n",
       "      <td>15037</td>\n",
       "      <td>1.256917e+06</td>\n",
       "    </tr>\n",
       "    <tr>\n",
       "      <th>3</th>\n",
       "      <td>15038</td>\n",
       "      <td>3.068664e+05</td>\n",
       "    </tr>\n",
       "    <tr>\n",
       "      <th>4</th>\n",
       "      <td>15039</td>\n",
       "      <td>2.861011e+05</td>\n",
       "    </tr>\n",
       "  </tbody>\n",
       "</table>\n",
       "</div>"
      ],
      "text/plain": [
       "      id         price\n",
       "0  15035  4.942906e+05\n",
       "1  15036  4.744508e+05\n",
       "2  15037  1.256917e+06\n",
       "3  15038  3.068664e+05\n",
       "4  15039  2.861011e+05"
      ]
     },
     "execution_count": 166,
     "metadata": {},
     "output_type": "execute_result"
    }
   ],
   "source": [
    "# row_submission = LetSubmit(np.expm1(y_pred), \"logprice_lgbm\")\n",
    "# row_submission.head()"
   ]
  },
  {
   "cell_type": "markdown",
   "metadata": {},
   "source": [
    "> Submission 결과 : 127781"
   ]
  },
  {
   "cell_type": "markdown",
   "metadata": {},
   "source": [
    "- log 변환으로 조금 점수가 높아졌음을 확인할 수 있다."
   ]
  },
  {
   "cell_type": "markdown",
   "metadata": {},
   "source": [
    "---"
   ]
  },
  {
   "cell_type": "markdown",
   "metadata": {},
   "source": [
    "## \\#SUBMISSION 3 : row data - `price` log 처리, `date` 빼고 / `LightGBM`만 사용"
   ]
  },
  {
   "cell_type": "markdown",
   "metadata": {},
   "source": [
    "- model을 Blending 하는 대신 가장 성능이 좋은 LightGBM 만 사용해본다."
   ]
  },
  {
   "cell_type": "code",
   "execution_count": 158,
   "metadata": {},
   "outputs": [],
   "source": [
    "row_features = ['bedrooms', 'bathrooms', 'sqft_living', 'sqft_lot', 'floors', 'waterfront', 'view', \\\n",
    "                'condition', 'grade', 'sqft_above', 'sqft_basement', 'yr_built', 'yr_renovated', \\\n",
    "                'zipcode', 'lat', 'long', 'sqft_living15', 'sqft_lot15']\n",
    "\n",
    "row_train = row_data[row_features]"
   ]
  },
  {
   "cell_type": "code",
   "execution_count": 159,
   "metadata": {},
   "outputs": [],
   "source": [
    "row_data['log_price'] = np.log1p(row_data.price)\n",
    "row_label = row_data['log_price']"
   ]
  },
  {
   "cell_type": "code",
   "execution_count": 388,
   "metadata": {},
   "outputs": [],
   "source": [
    "linear = LinearRegression()\n",
    "ridge = Ridge()\n",
    "lasso = Lasso()\n",
    "gboost = GradientBoostingRegressor()\n",
    "xgboost = XGBRegressor()\n",
    "lightgbm = LGBMRegressor()\n",
    "rdforest = RandomForestRegressor()\n",
    "\n",
    "models = [linear, ridge, lasso, gboost, xgboost, lightgbm, rdforest]"
   ]
  },
  {
   "cell_type": "code",
   "execution_count": 389,
   "metadata": {
    "scrolled": true
   },
   "outputs": [
    {
     "name": "stdout",
     "output_type": "stream",
     "text": [
      "CPU times: user 52.4 s, sys: 1.8 s, total: 54.2 s\n",
      "Wall time: 28 s\n"
     ]
    }
   ],
   "source": [
    "%%time\n",
    "row_scores = get_scores(models, row_train, row_label)"
   ]
  },
  {
   "cell_type": "code",
   "execution_count": 390,
   "metadata": {},
   "outputs": [
    {
     "data": {
      "text/html": [
       "<div>\n",
       "<style scoped>\n",
       "    .dataframe tbody tr th:only-of-type {\n",
       "        vertical-align: middle;\n",
       "    }\n",
       "\n",
       "    .dataframe tbody tr th {\n",
       "        vertical-align: top;\n",
       "    }\n",
       "\n",
       "    .dataframe thead th {\n",
       "        text-align: right;\n",
       "    }\n",
       "</style>\n",
       "<table border=\"1\" class=\"dataframe\">\n",
       "  <thead>\n",
       "    <tr style=\"text-align: right;\">\n",
       "      <th></th>\n",
       "      <th>RMSLE</th>\n",
       "      <th>R2 score</th>\n",
       "      <th>RMSE</th>\n",
       "    </tr>\n",
       "  </thead>\n",
       "  <tbody>\n",
       "    <tr>\n",
       "      <th>LGBMRegressor</th>\n",
       "      <td>0.1666</td>\n",
       "      <td>0.8999</td>\n",
       "      <td>115280.225479</td>\n",
       "    </tr>\n",
       "    <tr>\n",
       "      <th>GradientBoostingRegressor</th>\n",
       "      <td>0.1841</td>\n",
       "      <td>0.8778</td>\n",
       "      <td>142134.984610</td>\n",
       "    </tr>\n",
       "    <tr>\n",
       "      <th>XGBRegressor</th>\n",
       "      <td>0.1860</td>\n",
       "      <td>0.8753</td>\n",
       "      <td>144708.462969</td>\n",
       "    </tr>\n",
       "    <tr>\n",
       "      <th>RandomForestRegressor</th>\n",
       "      <td>0.1882</td>\n",
       "      <td>0.8729</td>\n",
       "      <td>125718.488111</td>\n",
       "    </tr>\n",
       "    <tr>\n",
       "      <th>LinearRegression</th>\n",
       "      <td>0.2532</td>\n",
       "      <td>0.7687</td>\n",
       "      <td>201826.723238</td>\n",
       "    </tr>\n",
       "    <tr>\n",
       "      <th>Ridge</th>\n",
       "      <td>0.2532</td>\n",
       "      <td>0.7687</td>\n",
       "      <td>177429.751425</td>\n",
       "    </tr>\n",
       "    <tr>\n",
       "      <th>Lasso</th>\n",
       "      <td>0.3594</td>\n",
       "      <td>0.5338</td>\n",
       "      <td>510114.437763</td>\n",
       "    </tr>\n",
       "  </tbody>\n",
       "</table>\n",
       "</div>"
      ],
      "text/plain": [
       "                            RMSLE  R2 score           RMSE\n",
       "LGBMRegressor              0.1666    0.8999  115280.225479\n",
       "GradientBoostingRegressor  0.1841    0.8778  142134.984610\n",
       "XGBRegressor               0.1860    0.8753  144708.462969\n",
       "RandomForestRegressor      0.1882    0.8729  125718.488111\n",
       "LinearRegression           0.2532    0.7687  201826.723238\n",
       "Ridge                      0.2532    0.7687  177429.751425\n",
       "Lasso                      0.3594    0.5338  510114.437763"
      ]
     },
     "execution_count": 390,
     "metadata": {},
     "output_type": "execute_result"
    }
   ],
   "source": [
    "row_scores"
   ]
  },
  {
   "cell_type": "code",
   "execution_count": 163,
   "metadata": {},
   "outputs": [
    {
     "name": "stdout",
     "output_type": "stream",
     "text": [
      "RMSE:  132744.3285321608\n",
      "R2 score:  0.89000648394061\n"
     ]
    }
   ],
   "source": [
    "X_train, X_test, y_train, y_test = train_test_split(row_train, row_label, test_size=0.2)\n",
    "lightgbm.fit(X_train, y_train)\n",
    "y_pred = lightgbm.predict(X_test)\n",
    "print(\"RMSE: \", np.sqrt(mean_squared_error(np.expm1(y_pred), np.expm1(y_test))))\n",
    "print(\"R2 score: \", r2_score(y_pred, y_test))"
   ]
  },
  {
   "cell_type": "code",
   "execution_count": 164,
   "metadata": {},
   "outputs": [],
   "source": [
    "row_sub = test[row_features]"
   ]
  },
  {
   "cell_type": "code",
   "execution_count": 177,
   "metadata": {},
   "outputs": [
    {
     "data": {
      "text/plain": [
       "array([13.10275129, 13.11289965, 14.15058965, ..., 12.99730977,\n",
       "       12.73698013, 12.96710385])"
      ]
     },
     "execution_count": 177,
     "metadata": {},
     "output_type": "execute_result"
    }
   ],
   "source": [
    "lightgbm.fit(row_train, row_label)\n",
    "y_pred = lightgbm.predict(row_sub)\n",
    "y_pred"
   ]
  },
  {
   "cell_type": "code",
   "execution_count": 180,
   "metadata": {},
   "outputs": [
    {
     "data": {
      "text/plain": [
       "Index(['bedrooms', 'bathrooms', 'sqft_living', 'sqft_lot', 'floors',\n",
       "       'waterfront', 'view', 'condition', 'grade', 'sqft_above',\n",
       "       'sqft_basement', 'yr_built', 'yr_renovated', 'zipcode', 'lat', 'long',\n",
       "       'sqft_living15', 'sqft_lot15'],\n",
       "      dtype='object')"
      ]
     },
     "execution_count": 180,
     "metadata": {},
     "output_type": "execute_result"
    }
   ],
   "source": [
    "row_sub.columns"
   ]
  },
  {
   "cell_type": "code",
   "execution_count": 166,
   "metadata": {},
   "outputs": [
    {
     "data": {
      "text/html": [
       "<div>\n",
       "<style scoped>\n",
       "    .dataframe tbody tr th:only-of-type {\n",
       "        vertical-align: middle;\n",
       "    }\n",
       "\n",
       "    .dataframe tbody tr th {\n",
       "        vertical-align: top;\n",
       "    }\n",
       "\n",
       "    .dataframe thead th {\n",
       "        text-align: right;\n",
       "    }\n",
       "</style>\n",
       "<table border=\"1\" class=\"dataframe\">\n",
       "  <thead>\n",
       "    <tr style=\"text-align: right;\">\n",
       "      <th></th>\n",
       "      <th>id</th>\n",
       "      <th>price</th>\n",
       "    </tr>\n",
       "  </thead>\n",
       "  <tbody>\n",
       "    <tr>\n",
       "      <th>0</th>\n",
       "      <td>15035</td>\n",
       "      <td>4.942906e+05</td>\n",
       "    </tr>\n",
       "    <tr>\n",
       "      <th>1</th>\n",
       "      <td>15036</td>\n",
       "      <td>4.744508e+05</td>\n",
       "    </tr>\n",
       "    <tr>\n",
       "      <th>2</th>\n",
       "      <td>15037</td>\n",
       "      <td>1.256917e+06</td>\n",
       "    </tr>\n",
       "    <tr>\n",
       "      <th>3</th>\n",
       "      <td>15038</td>\n",
       "      <td>3.068664e+05</td>\n",
       "    </tr>\n",
       "    <tr>\n",
       "      <th>4</th>\n",
       "      <td>15039</td>\n",
       "      <td>2.861011e+05</td>\n",
       "    </tr>\n",
       "  </tbody>\n",
       "</table>\n",
       "</div>"
      ],
      "text/plain": [
       "      id         price\n",
       "0  15035  4.942906e+05\n",
       "1  15036  4.744508e+05\n",
       "2  15037  1.256917e+06\n",
       "3  15038  3.068664e+05\n",
       "4  15039  2.861011e+05"
      ]
     },
     "execution_count": 166,
     "metadata": {},
     "output_type": "execute_result"
    }
   ],
   "source": [
    "# row_submission = LetSubmit(np.expm1(y_pred), \"logprice_lgbm\")\n",
    "# row_submission.head()"
   ]
  },
  {
   "cell_type": "markdown",
   "metadata": {},
   "source": [
    "> Submission 결과 : 114322"
   ]
  },
  {
   "cell_type": "markdown",
   "metadata": {},
   "source": [
    "- Blending 했을 때보다 훨씬 높은 성능을 보인다!"
   ]
  },
  {
   "cell_type": "markdown",
   "metadata": {},
   "source": [
    "---"
   ]
  },
  {
   "cell_type": "markdown",
   "metadata": {},
   "source": [
    "## \\#SUBMISSION 4 : `zipcode` → `zipcode_rank`"
   ]
  },
  {
   "cell_type": "markdown",
   "metadata": {},
   "source": [
    "- `zipcode`컬럼 대신 전처리 시에 생성했던 `zipcode_rank` 컬럼을 사용해본다."
   ]
  },
  {
   "cell_type": "code",
   "execution_count": 13,
   "metadata": {},
   "outputs": [],
   "source": [
    "features = ['bedrooms', 'bathrooms', 'sqft_living', 'sqft_lot', 'floors', 'waterfront', 'view', \\\n",
    "            'condition', 'grade', 'sqft_above', 'sqft_basement', 'yr_built', 'yr_renovated_ohe', \\\n",
    "            'zipcode_rank', 'lat', 'long', 'sqft_living15', 'sqft_lot15']\n",
    "\n",
    "train = data[features]"
   ]
  },
  {
   "cell_type": "code",
   "execution_count": 14,
   "metadata": {},
   "outputs": [],
   "source": [
    "data['log_price'] = np.log1p(data.price)\n",
    "label = data['log_price']"
   ]
  },
  {
   "cell_type": "code",
   "execution_count": 15,
   "metadata": {},
   "outputs": [],
   "source": [
    "linear = LinearRegression()\n",
    "ridge = Ridge()\n",
    "lasso = Lasso()\n",
    "gboost = GradientBoostingRegressor()\n",
    "xgboost = XGBRegressor()\n",
    "lightgbm = LGBMRegressor()\n",
    "\n",
    "models = [linear, ridge, lasso, gboost, xgboost, lightgbm]"
   ]
  },
  {
   "cell_type": "code",
   "execution_count": 21,
   "metadata": {
    "scrolled": true
   },
   "outputs": [
    {
     "name": "stdout",
     "output_type": "stream",
     "text": [
      "CPU times: user 35.1 s, sys: 302 ms, total: 35.4 s\n",
      "Wall time: 18.9 s\n"
     ]
    }
   ],
   "source": [
    "%%time\n",
    "row_scores = get_scores(models[3:], train, label)"
   ]
  },
  {
   "cell_type": "code",
   "execution_count": 238,
   "metadata": {},
   "outputs": [
    {
     "data": {
      "text/html": [
       "<div>\n",
       "<style scoped>\n",
       "    .dataframe tbody tr th:only-of-type {\n",
       "        vertical-align: middle;\n",
       "    }\n",
       "\n",
       "    .dataframe tbody tr th {\n",
       "        vertical-align: top;\n",
       "    }\n",
       "\n",
       "    .dataframe thead th {\n",
       "        text-align: right;\n",
       "    }\n",
       "</style>\n",
       "<table border=\"1\" class=\"dataframe\">\n",
       "  <thead>\n",
       "    <tr style=\"text-align: right;\">\n",
       "      <th></th>\n",
       "      <th>RMSLE</th>\n",
       "      <th>R2 score</th>\n",
       "      <th>RMSE</th>\n",
       "    </tr>\n",
       "  </thead>\n",
       "  <tbody>\n",
       "    <tr>\n",
       "      <th>LGBMRegressor</th>\n",
       "      <td>0.1669</td>\n",
       "      <td>0.8995</td>\n",
       "      <td>117368.906974</td>\n",
       "    </tr>\n",
       "    <tr>\n",
       "      <th>GradientBoostingRegressor</th>\n",
       "      <td>0.1841</td>\n",
       "      <td>0.8777</td>\n",
       "      <td>136638.546082</td>\n",
       "    </tr>\n",
       "    <tr>\n",
       "      <th>XGBRegressor</th>\n",
       "      <td>0.1854</td>\n",
       "      <td>0.8759</td>\n",
       "      <td>178527.900646</td>\n",
       "    </tr>\n",
       "  </tbody>\n",
       "</table>\n",
       "</div>"
      ],
      "text/plain": [
       "                            RMSLE  R2 score           RMSE\n",
       "LGBMRegressor              0.1669    0.8995  117368.906974\n",
       "GradientBoostingRegressor  0.1841    0.8777  136638.546082\n",
       "XGBRegressor               0.1854    0.8759  178527.900646"
      ]
     },
     "execution_count": 238,
     "metadata": {},
     "output_type": "execute_result"
    }
   ],
   "source": [
    "row_scores"
   ]
  },
  {
   "cell_type": "code",
   "execution_count": 23,
   "metadata": {},
   "outputs": [
    {
     "data": {
      "image/png": "[encoded data removed]",
      "text/plain": [
       "<Figure size 576x432 with 1 Axes>"
      ]
     },
     "metadata": {
      "needs_background": "light"
     },
     "output_type": "display_data"
    }
   ],
   "source": [
    "draw_importances(lightgbm, train)"
   ]
  },
  {
   "cell_type": "markdown",
   "metadata": {},
   "source": [
    "- 큰 의미는 없는 것으로 확인"
   ]
  },
  {
   "cell_type": "markdown",
   "metadata": {},
   "source": [
    "---"
   ]
  },
  {
   "cell_type": "markdown",
   "metadata": {},
   "source": [
    "## \\#SUBMISSION 5 : 3번 +`yr_renovated_ohe`"
   ]
  },
  {
   "cell_type": "markdown",
   "metadata": {},
   "source": [
    "- renovated 된 집들만 년도 값을 가지고 아닌 집은 0값을 가졌던 `yr_renovated` 컬럼을 OHE 처리된 컬럼으로 사용해본다."
   ]
  },
  {
   "cell_type": "code",
   "execution_count": 234,
   "metadata": {},
   "outputs": [],
   "source": [
    "features = ['bedrooms', 'bathrooms', 'sqft_living', 'sqft_lot', 'floors', 'waterfront', 'view', \\\n",
    "            'condition', 'grade', 'sqft_above', 'sqft_basement', 'yr_built', 'yr_renovated_ohe', \\\n",
    "            'zipcode', 'lat', 'long', 'sqft_living15', 'sqft_lot15']\n",
    "\n",
    "train = data[features]\n",
    "data['log_price'] = np.log1p(data.price)\n",
    "label = data['log_price']"
   ]
  },
  {
   "cell_type": "code",
   "execution_count": 236,
   "metadata": {},
   "outputs": [],
   "source": [
    "linear = LinearRegression()\n",
    "ridge = Ridge()\n",
    "lasso = Lasso()\n",
    "gboost = GradientBoostingRegressor()\n",
    "xgboost = XGBRegressor()\n",
    "lightgbm = LGBMRegressor()\n",
    "\n",
    "models = [linear, ridge, lasso, gboost, xgboost, lightgbm]"
   ]
  },
  {
   "cell_type": "code",
   "execution_count": 237,
   "metadata": {
    "scrolled": true
   },
   "outputs": [
    {
     "name": "stdout",
     "output_type": "stream",
     "text": [
      "CPU times: user 43.1 s, sys: 810 ms, total: 43.9 s\n",
      "Wall time: 19.7 s\n"
     ]
    }
   ],
   "source": [
    "%%time\n",
    "row_scores = get_scores(models[3:], train, label)"
   ]
  },
  {
   "cell_type": "code",
   "execution_count": 238,
   "metadata": {},
   "outputs": [
    {
     "data": {
      "text/html": [
       "<div>\n",
       "<style scoped>\n",
       "    .dataframe tbody tr th:only-of-type {\n",
       "        vertical-align: middle;\n",
       "    }\n",
       "\n",
       "    .dataframe tbody tr th {\n",
       "        vertical-align: top;\n",
       "    }\n",
       "\n",
       "    .dataframe thead th {\n",
       "        text-align: right;\n",
       "    }\n",
       "</style>\n",
       "<table border=\"1\" class=\"dataframe\">\n",
       "  <thead>\n",
       "    <tr style=\"text-align: right;\">\n",
       "      <th></th>\n",
       "      <th>RMSLE</th>\n",
       "      <th>R2 score</th>\n",
       "      <th>RMSE</th>\n",
       "    </tr>\n",
       "  </thead>\n",
       "  <tbody>\n",
       "    <tr>\n",
       "      <th>LGBMRegressor</th>\n",
       "      <td>0.1669</td>\n",
       "      <td>0.8995</td>\n",
       "      <td>117368.906974</td>\n",
       "    </tr>\n",
       "    <tr>\n",
       "      <th>GradientBoostingRegressor</th>\n",
       "      <td>0.1841</td>\n",
       "      <td>0.8777</td>\n",
       "      <td>136638.546082</td>\n",
       "    </tr>\n",
       "    <tr>\n",
       "      <th>XGBRegressor</th>\n",
       "      <td>0.1854</td>\n",
       "      <td>0.8759</td>\n",
       "      <td>178527.900646</td>\n",
       "    </tr>\n",
       "  </tbody>\n",
       "</table>\n",
       "</div>"
      ],
      "text/plain": [
       "                            RMSLE  R2 score           RMSE\n",
       "LGBMRegressor              0.1669    0.8995  117368.906974\n",
       "GradientBoostingRegressor  0.1841    0.8777  136638.546082\n",
       "XGBRegressor               0.1854    0.8759  178527.900646"
      ]
     },
     "execution_count": 238,
     "metadata": {},
     "output_type": "execute_result"
    }
   ],
   "source": [
    "row_scores"
   ]
  },
  {
   "cell_type": "code",
   "execution_count": 239,
   "metadata": {},
   "outputs": [
    {
     "name": "stdout",
     "output_type": "stream",
     "text": [
      "RMSE:  127842.96704270385\n",
      "R2 score:  0.8851893889234811\n"
     ]
    }
   ],
   "source": [
    "X_train, X_test, y_train, y_test = train_test_split(train, label, test_size=0.2)\n",
    "lightgbm.fit(X_train, y_train)\n",
    "y_pred = lightgbm.predict(X_test)\n",
    "print(\"RMSE: \", np.sqrt(mean_squared_error(np.expm1(y_pred), np.expm1(y_test))))\n",
    "print(\"R2 score: \", r2_score(y_pred, y_test))"
   ]
  },
  {
   "cell_type": "code",
   "execution_count": 240,
   "metadata": {},
   "outputs": [],
   "source": [
    "X_sub = test[features]"
   ]
  },
  {
   "cell_type": "code",
   "execution_count": 241,
   "metadata": {},
   "outputs": [
    {
     "data": {
      "text/plain": [
       "array([13.14103697, 13.08843713, 14.20486239, ..., 13.00760437,\n",
       "       12.75123758, 12.96897859])"
      ]
     },
     "execution_count": 241,
     "metadata": {},
     "output_type": "execute_result"
    }
   ],
   "source": [
    "lightgbm.fit(train, label)\n",
    "y_pred_5 = lightgbm.predict(X_sub)\n",
    "y_pred_5"
   ]
  },
  {
   "cell_type": "code",
   "execution_count": 210,
   "metadata": {},
   "outputs": [
    {
     "data": {
      "text/html": [
       "<div>\n",
       "<style scoped>\n",
       "    .dataframe tbody tr th:only-of-type {\n",
       "        vertical-align: middle;\n",
       "    }\n",
       "\n",
       "    .dataframe tbody tr th {\n",
       "        vertical-align: top;\n",
       "    }\n",
       "\n",
       "    .dataframe thead th {\n",
       "        text-align: right;\n",
       "    }\n",
       "</style>\n",
       "<table border=\"1\" class=\"dataframe\">\n",
       "  <thead>\n",
       "    <tr style=\"text-align: right;\">\n",
       "      <th></th>\n",
       "      <th>id</th>\n",
       "      <th>price</th>\n",
       "    </tr>\n",
       "  </thead>\n",
       "  <tbody>\n",
       "    <tr>\n",
       "      <th>0</th>\n",
       "      <td>15035</td>\n",
       "      <td>4.942906e+05</td>\n",
       "    </tr>\n",
       "    <tr>\n",
       "      <th>1</th>\n",
       "      <td>15036</td>\n",
       "      <td>4.744508e+05</td>\n",
       "    </tr>\n",
       "    <tr>\n",
       "      <th>2</th>\n",
       "      <td>15037</td>\n",
       "      <td>1.256917e+06</td>\n",
       "    </tr>\n",
       "    <tr>\n",
       "      <th>3</th>\n",
       "      <td>15038</td>\n",
       "      <td>3.068664e+05</td>\n",
       "    </tr>\n",
       "    <tr>\n",
       "      <th>4</th>\n",
       "      <td>15039</td>\n",
       "      <td>2.861011e+05</td>\n",
       "    </tr>\n",
       "  </tbody>\n",
       "</table>\n",
       "</div>"
      ],
      "text/plain": [
       "      id         price\n",
       "0  15035  4.942906e+05\n",
       "1  15036  4.744508e+05\n",
       "2  15037  1.256917e+06\n",
       "3  15038  3.068664e+05\n",
       "4  15039  2.861011e+05"
      ]
     },
     "execution_count": 210,
     "metadata": {},
     "output_type": "execute_result"
    }
   ],
   "source": [
    "# submission = LetSubmit(np.expm1(y_pred), \"logprice_lgbm_renovohe\")\n",
    "# submission.head()"
   ]
  },
  {
   "cell_type": "markdown",
   "metadata": {},
   "source": [
    "> Submission 결과 : 115033"
   ]
  },
  {
   "cell_type": "markdown",
   "metadata": {},
   "source": [
    "- 역시 큰 의미는 없다"
   ]
  },
  {
   "cell_type": "markdown",
   "metadata": {},
   "source": [
    "---"
   ]
  },
  {
   "cell_type": "markdown",
   "metadata": {},
   "source": [
    "## \\#SUBMISSION 6 : 3번 + `year_month`"
   ]
  },
  {
   "cell_type": "markdown",
   "metadata": {},
   "source": [
    "- date를 나타내는 컬럼 중 `year_month` 컬럼 사용"
   ]
  },
  {
   "cell_type": "code",
   "execution_count": 345,
   "metadata": {},
   "outputs": [],
   "source": [
    "features = ['bedrooms', 'bathrooms', 'sqft_living', 'sqft_lot', 'floors', 'waterfront', 'view', \\\n",
    "            'condition', 'grade', 'sqft_above', 'sqft_basement', 'yr_built', 'yr_renovated', \\\n",
    "            'zipcode', 'lat', 'long', 'sqft_living15', 'sqft_lot15', 'year_month']\n",
    "\n",
    "train = data[features]"
   ]
  },
  {
   "cell_type": "code",
   "execution_count": 346,
   "metadata": {},
   "outputs": [],
   "source": [
    "data['log_price'] = np.log1p(data.price)\n",
    "label = data['log_price']"
   ]
  },
  {
   "cell_type": "code",
   "execution_count": 391,
   "metadata": {},
   "outputs": [],
   "source": [
    "linear = LinearRegression()\n",
    "ridge = Ridge()\n",
    "lasso = Lasso()\n",
    "gboost = GradientBoostingRegressor()\n",
    "xgboost = XGBRegressor()\n",
    "lightgbm = LGBMRegressor()\n",
    "rdforest = RandomForestRegressor()\n",
    "\n",
    "models = [linear, ridge, lasso, gboost, xgboost, lightgbm, rdforest]"
   ]
  },
  {
   "cell_type": "code",
   "execution_count": 392,
   "metadata": {
    "scrolled": true
   },
   "outputs": [
    {
     "name": "stdout",
     "output_type": "stream",
     "text": [
      "CPU times: user 43.2 s, sys: 1.15 s, total: 44.4 s\n",
      "Wall time: 26.3 s\n"
     ]
    }
   ],
   "source": [
    "%%time\n",
    "row_scores = get_scores(models, train, label)"
   ]
  },
  {
   "cell_type": "code",
   "execution_count": 393,
   "metadata": {},
   "outputs": [
    {
     "data": {
      "text/html": [
       "<div>\n",
       "<style scoped>\n",
       "    .dataframe tbody tr th:only-of-type {\n",
       "        vertical-align: middle;\n",
       "    }\n",
       "\n",
       "    .dataframe tbody tr th {\n",
       "        vertical-align: top;\n",
       "    }\n",
       "\n",
       "    .dataframe thead th {\n",
       "        text-align: right;\n",
       "    }\n",
       "</style>\n",
       "<table border=\"1\" class=\"dataframe\">\n",
       "  <thead>\n",
       "    <tr style=\"text-align: right;\">\n",
       "      <th></th>\n",
       "      <th>RMSLE</th>\n",
       "      <th>R2 score</th>\n",
       "      <th>RMSE</th>\n",
       "    </tr>\n",
       "  </thead>\n",
       "  <tbody>\n",
       "    <tr>\n",
       "      <th>LGBMRegressor</th>\n",
       "      <td>0.1634</td>\n",
       "      <td>0.9033</td>\n",
       "      <td>121344.899765</td>\n",
       "    </tr>\n",
       "    <tr>\n",
       "      <th>XGBRegressor</th>\n",
       "      <td>0.1831</td>\n",
       "      <td>0.8786</td>\n",
       "      <td>131035.538895</td>\n",
       "    </tr>\n",
       "    <tr>\n",
       "      <th>GradientBoostingRegressor</th>\n",
       "      <td>0.1831</td>\n",
       "      <td>0.8785</td>\n",
       "      <td>125378.071093</td>\n",
       "    </tr>\n",
       "    <tr>\n",
       "      <th>RandomForestRegressor</th>\n",
       "      <td>0.1878</td>\n",
       "      <td>0.8739</td>\n",
       "      <td>120613.126149</td>\n",
       "    </tr>\n",
       "    <tr>\n",
       "      <th>LinearRegression</th>\n",
       "      <td>0.2510</td>\n",
       "      <td>0.7717</td>\n",
       "      <td>177622.786772</td>\n",
       "    </tr>\n",
       "    <tr>\n",
       "      <th>Ridge</th>\n",
       "      <td>0.2510</td>\n",
       "      <td>0.7717</td>\n",
       "      <td>182631.804389</td>\n",
       "    </tr>\n",
       "    <tr>\n",
       "      <th>Lasso</th>\n",
       "      <td>0.3586</td>\n",
       "      <td>0.5339</td>\n",
       "      <td>249896.050268</td>\n",
       "    </tr>\n",
       "  </tbody>\n",
       "</table>\n",
       "</div>"
      ],
      "text/plain": [
       "                            RMSLE  R2 score           RMSE\n",
       "LGBMRegressor              0.1634    0.9033  121344.899765\n",
       "XGBRegressor               0.1831    0.8786  131035.538895\n",
       "GradientBoostingRegressor  0.1831    0.8785  125378.071093\n",
       "RandomForestRegressor      0.1878    0.8739  120613.126149\n",
       "LinearRegression           0.2510    0.7717  177622.786772\n",
       "Ridge                      0.2510    0.7717  182631.804389\n",
       "Lasso                      0.3586    0.5339  249896.050268"
      ]
     },
     "execution_count": 393,
     "metadata": {},
     "output_type": "execute_result"
    }
   ],
   "source": [
    "row_scores"
   ]
  },
  {
   "cell_type": "code",
   "execution_count": 258,
   "metadata": {},
   "outputs": [
    {
     "name": "stdout",
     "output_type": "stream",
     "text": [
      "RMSE:  135540.73447376766\n",
      "R2 score:  0.8916600798974885\n"
     ]
    }
   ],
   "source": [
    "X_train, X_test, y_train, y_test = train_test_split(train, label, test_size=0.2)\n",
    "lightgbm.fit(X_train, y_train)\n",
    "y_pred = lightgbm.predict(X_test)\n",
    "print(\"RMSE: \", np.sqrt(mean_squared_error(np.expm1(y_pred), np.expm1(y_test))))\n",
    "print(\"R2 score: \", r2_score(y_pred, y_test))"
   ]
  },
  {
   "cell_type": "code",
   "execution_count": 259,
   "metadata": {},
   "outputs": [
    {
     "data": {
      "image/png": "[encoded data removed]",
      "text/plain": [
       "<Figure size 576x432 with 1 Axes>"
      ]
     },
     "metadata": {
      "needs_background": "light"
     },
     "output_type": "display_data"
    }
   ],
   "source": [
    "draw_importances(lightgbm, train)"
   ]
  },
  {
   "cell_type": "code",
   "execution_count": 279,
   "metadata": {},
   "outputs": [],
   "source": [
    "X_sub = test[features]"
   ]
  },
  {
   "cell_type": "code",
   "execution_count": 261,
   "metadata": {},
   "outputs": [
    {
     "data": {
      "text/plain": [
       "array([13.11991712, 13.07210088, 14.13782266, ..., 13.00569581,\n",
       "       12.67692089, 12.97785803])"
      ]
     },
     "execution_count": 261,
     "metadata": {},
     "output_type": "execute_result"
    }
   ],
   "source": [
    "lightgbm.fit(train, label)\n",
    "y_pred_6 = lightgbm.predict(X_sub)\n",
    "y_pred_6"
   ]
  },
  {
   "cell_type": "code",
   "execution_count": 262,
   "metadata": {},
   "outputs": [
    {
     "data": {
      "text/html": [
       "<div>\n",
       "<style scoped>\n",
       "    .dataframe tbody tr th:only-of-type {\n",
       "        vertical-align: middle;\n",
       "    }\n",
       "\n",
       "    .dataframe tbody tr th {\n",
       "        vertical-align: top;\n",
       "    }\n",
       "\n",
       "    .dataframe thead th {\n",
       "        text-align: right;\n",
       "    }\n",
       "</style>\n",
       "<table border=\"1\" class=\"dataframe\">\n",
       "  <thead>\n",
       "    <tr style=\"text-align: right;\">\n",
       "      <th></th>\n",
       "      <th>id</th>\n",
       "      <th>price</th>\n",
       "    </tr>\n",
       "  </thead>\n",
       "  <tbody>\n",
       "    <tr>\n",
       "      <th>0</th>\n",
       "      <td>15035</td>\n",
       "      <td>4.942906e+05</td>\n",
       "    </tr>\n",
       "    <tr>\n",
       "      <th>1</th>\n",
       "      <td>15036</td>\n",
       "      <td>4.744508e+05</td>\n",
       "    </tr>\n",
       "    <tr>\n",
       "      <th>2</th>\n",
       "      <td>15037</td>\n",
       "      <td>1.256917e+06</td>\n",
       "    </tr>\n",
       "    <tr>\n",
       "      <th>3</th>\n",
       "      <td>15038</td>\n",
       "      <td>3.068664e+05</td>\n",
       "    </tr>\n",
       "    <tr>\n",
       "      <th>4</th>\n",
       "      <td>15039</td>\n",
       "      <td>2.861011e+05</td>\n",
       "    </tr>\n",
       "  </tbody>\n",
       "</table>\n",
       "</div>"
      ],
      "text/plain": [
       "      id         price\n",
       "0  15035  4.942906e+05\n",
       "1  15036  4.744508e+05\n",
       "2  15037  1.256917e+06\n",
       "3  15038  3.068664e+05\n",
       "4  15039  2.861011e+05"
      ]
     },
     "execution_count": 262,
     "metadata": {},
     "output_type": "execute_result"
    }
   ],
   "source": [
    "submission = LetSubmit(np.expm1(y_pred_6), \"logprice_lgbm_yearmonth\")\n",
    "submission.head()"
   ]
  },
  {
   "cell_type": "markdown",
   "metadata": {},
   "source": [
    "> Submission 결과 : 113112"
   ]
  },
  {
   "cell_type": "markdown",
   "metadata": {},
   "source": [
    "- 크게 성능이 올랐다!"
   ]
  },
  {
   "cell_type": "markdown",
   "metadata": {},
   "source": [
    "---"
   ]
  },
  {
   "cell_type": "markdown",
   "metadata": {},
   "source": [
    "## \\#SUBMISSION 7 : 6번 + `lat`, `long` outlier 삭제"
   ]
  },
  {
   "cell_type": "markdown",
   "metadata": {},
   "source": [
    "- outlier를 삭제해본다."
   ]
  },
  {
   "cell_type": "code",
   "execution_count": 350,
   "metadata": {},
   "outputs": [],
   "source": [
    "features = ['bedrooms', 'bathrooms', 'sqft_living', 'sqft_lot', 'floors', 'waterfront', 'view', \\\n",
    "            'condition', 'grade', 'sqft_above', 'sqft_basement', 'yr_built', 'yr_renovated', \\\n",
    "            'zipcode', 'lat', 'long', 'sqft_living15', 'sqft_lot15', 'year_month']\n",
    "\n",
    "train = data[features]"
   ]
  },
  {
   "cell_type": "code",
   "execution_count": 351,
   "metadata": {},
   "outputs": [],
   "source": [
    "data['log_price'] = np.log1p(data.price)\n",
    "label = data['log_price']"
   ]
  },
  {
   "cell_type": "code",
   "execution_count": 352,
   "metadata": {},
   "outputs": [
    {
     "data": {
      "text/plain": [
       "1"
      ]
     },
     "execution_count": 352,
     "metadata": {},
     "output_type": "execute_result"
    }
   ],
   "source": [
    "len(data[(data['long'] > -121.8) & (data['lat'] < 47.2)])"
   ]
  },
  {
   "cell_type": "code",
   "execution_count": 353,
   "metadata": {},
   "outputs": [
    {
     "data": {
      "text/plain": [
       "14"
      ]
     },
     "execution_count": 353,
     "metadata": {},
     "output_type": "execute_result"
    }
   ],
   "source": [
    "len(data[data['long'] > -121.6])"
   ]
  },
  {
   "cell_type": "code",
   "execution_count": 354,
   "metadata": {},
   "outputs": [
    {
     "data": {
      "text/plain": [
       "[2354,\n",
       " 1853,\n",
       " 2090,\n",
       " 2988,\n",
       " 4147,\n",
       " 4298,\n",
       " 7067,\n",
       " 7607,\n",
       " 9111,\n",
       " 9237,\n",
       " 9748,\n",
       " 10199,\n",
       " 11731,\n",
       " 13668,\n",
       " 13900]"
      ]
     },
     "execution_count": 354,
     "metadata": {},
     "output_type": "execute_result"
    }
   ],
   "source": [
    "lat_long_outliers = list(data[(data['long'] > -121.8) & (data['lat'] < 47.2)].index)\n",
    "lat_long_outliers.extend(list(data[data['long'] > -121.6].index))\n",
    "lat_long_outliers"
   ]
  },
  {
   "cell_type": "markdown",
   "metadata": {},
   "source": [
    "- 15개의 outlier 삭제"
   ]
  },
  {
   "cell_type": "code",
   "execution_count": 355,
   "metadata": {},
   "outputs": [
    {
     "name": "stdout",
     "output_type": "stream",
     "text": [
      "(15035, 19) (15035,)\n",
      "(15020, 19) (15020,)\n"
     ]
    }
   ],
   "source": [
    "print(train.shape, label.shape)\n",
    "train = train.drop(lat_long_outliers)\n",
    "label = label.drop(lat_long_outliers)\n",
    "print(train.shape, label.shape)"
   ]
  },
  {
   "cell_type": "code",
   "execution_count": 356,
   "metadata": {},
   "outputs": [],
   "source": [
    "gboost = GradientBoostingRegressor()\n",
    "xgboost = XGBRegressor()\n",
    "lightgbm = LGBMRegressor()\n",
    "\n",
    "models = [linear, ridge, lasso, gboost, xgboost, lightgbm]"
   ]
  },
  {
   "cell_type": "code",
   "execution_count": 357,
   "metadata": {
    "scrolled": true
   },
   "outputs": [
    {
     "name": "stdout",
     "output_type": "stream",
     "text": [
      "CPU times: user 32.6 s, sys: 869 ms, total: 33.5 s\n",
      "Wall time: 18.7 s\n"
     ]
    }
   ],
   "source": [
    "%%time\n",
    "row_scores = get_scores(models, train, label)"
   ]
  },
  {
   "cell_type": "code",
   "execution_count": 358,
   "metadata": {},
   "outputs": [
    {
     "data": {
      "text/html": [
       "<div>\n",
       "<style scoped>\n",
       "    .dataframe tbody tr th:only-of-type {\n",
       "        vertical-align: middle;\n",
       "    }\n",
       "\n",
       "    .dataframe tbody tr th {\n",
       "        vertical-align: top;\n",
       "    }\n",
       "\n",
       "    .dataframe thead th {\n",
       "        text-align: right;\n",
       "    }\n",
       "</style>\n",
       "<table border=\"1\" class=\"dataframe\">\n",
       "  <thead>\n",
       "    <tr style=\"text-align: right;\">\n",
       "      <th></th>\n",
       "      <th>RMSLE</th>\n",
       "      <th>R2 score</th>\n",
       "      <th>RMSE</th>\n",
       "    </tr>\n",
       "  </thead>\n",
       "  <tbody>\n",
       "    <tr>\n",
       "      <th>LGBMRegressor</th>\n",
       "      <td>0.1642</td>\n",
       "      <td>0.9025</td>\n",
       "      <td>120390.273040</td>\n",
       "    </tr>\n",
       "    <tr>\n",
       "      <th>XGBRegressor</th>\n",
       "      <td>0.1831</td>\n",
       "      <td>0.8789</td>\n",
       "      <td>154117.671528</td>\n",
       "    </tr>\n",
       "    <tr>\n",
       "      <th>GradientBoostingRegressor</th>\n",
       "      <td>0.1831</td>\n",
       "      <td>0.8788</td>\n",
       "      <td>138327.155360</td>\n",
       "    </tr>\n",
       "    <tr>\n",
       "      <th>LinearRegression</th>\n",
       "      <td>0.2515</td>\n",
       "      <td>0.7713</td>\n",
       "      <td>175719.841444</td>\n",
       "    </tr>\n",
       "    <tr>\n",
       "      <th>Ridge</th>\n",
       "      <td>0.2515</td>\n",
       "      <td>0.7713</td>\n",
       "      <td>200553.535093</td>\n",
       "    </tr>\n",
       "    <tr>\n",
       "      <th>Lasso</th>\n",
       "      <td>0.3593</td>\n",
       "      <td>0.5332</td>\n",
       "      <td>520815.968358</td>\n",
       "    </tr>\n",
       "  </tbody>\n",
       "</table>\n",
       "</div>"
      ],
      "text/plain": [
       "                            RMSLE  R2 score           RMSE\n",
       "LGBMRegressor              0.1642    0.9025  120390.273040\n",
       "XGBRegressor               0.1831    0.8789  154117.671528\n",
       "GradientBoostingRegressor  0.1831    0.8788  138327.155360\n",
       "LinearRegression           0.2515    0.7713  175719.841444\n",
       "Ridge                      0.2515    0.7713  200553.535093\n",
       "Lasso                      0.3593    0.5332  520815.968358"
      ]
     },
     "execution_count": 358,
     "metadata": {},
     "output_type": "execute_result"
    }
   ],
   "source": [
    "row_scores"
   ]
  },
  {
   "cell_type": "code",
   "execution_count": 333,
   "metadata": {},
   "outputs": [
    {
     "name": "stdout",
     "output_type": "stream",
     "text": [
      "RMSE:  110404.58014754365\n",
      "R2 score:  0.8839848093132471\n"
     ]
    }
   ],
   "source": [
    "X_train, X_test, y_train, y_test = train_test_split(train, label, test_size=0.2)\n",
    "lightgbm.fit(X_train, y_train)\n",
    "y_pred = lightgbm.predict(X_test)\n",
    "print(\"RMSE: \", np.sqrt(mean_squared_error(np.expm1(y_pred), np.expm1(y_test))))\n",
    "print(\"R2 score: \", r2_score(y_pred, y_test))"
   ]
  },
  {
   "cell_type": "code",
   "execution_count": 334,
   "metadata": {},
   "outputs": [
    {
     "data": {
      "image/png": "[encoded data removed]",
      "text/plain": [
       "<Figure size 576x432 with 1 Axes>"
      ]
     },
     "metadata": {
      "needs_background": "light"
     },
     "output_type": "display_data"
    }
   ],
   "source": [
    "draw_importances(lightgbm, train)"
   ]
  },
  {
   "cell_type": "code",
   "execution_count": 335,
   "metadata": {},
   "outputs": [],
   "source": [
    "X_sub = test[features]"
   ]
  },
  {
   "cell_type": "code",
   "execution_count": 336,
   "metadata": {},
   "outputs": [
    {
     "data": {
      "text/plain": [
       "array([13.13392358, 13.0232454 , 14.14707645, ..., 13.05463916,\n",
       "       12.68275198, 12.95069427])"
      ]
     },
     "execution_count": 336,
     "metadata": {},
     "output_type": "execute_result"
    }
   ],
   "source": [
    "lightgbm.fit(train, label)\n",
    "y_pred_6 = lightgbm.predict(X_sub)\n",
    "y_pred_6"
   ]
  },
  {
   "cell_type": "code",
   "execution_count": 338,
   "metadata": {},
   "outputs": [
    {
     "data": {
      "text/html": [
       "<div>\n",
       "<style scoped>\n",
       "    .dataframe tbody tr th:only-of-type {\n",
       "        vertical-align: middle;\n",
       "    }\n",
       "\n",
       "    .dataframe tbody tr th {\n",
       "        vertical-align: top;\n",
       "    }\n",
       "\n",
       "    .dataframe thead th {\n",
       "        text-align: right;\n",
       "    }\n",
       "</style>\n",
       "<table border=\"1\" class=\"dataframe\">\n",
       "  <thead>\n",
       "    <tr style=\"text-align: right;\">\n",
       "      <th></th>\n",
       "      <th>id</th>\n",
       "      <th>price</th>\n",
       "    </tr>\n",
       "  </thead>\n",
       "  <tbody>\n",
       "    <tr>\n",
       "      <th>0</th>\n",
       "      <td>15035</td>\n",
       "      <td>4.942906e+05</td>\n",
       "    </tr>\n",
       "    <tr>\n",
       "      <th>1</th>\n",
       "      <td>15036</td>\n",
       "      <td>4.744508e+05</td>\n",
       "    </tr>\n",
       "    <tr>\n",
       "      <th>2</th>\n",
       "      <td>15037</td>\n",
       "      <td>1.256917e+06</td>\n",
       "    </tr>\n",
       "    <tr>\n",
       "      <th>3</th>\n",
       "      <td>15038</td>\n",
       "      <td>3.068664e+05</td>\n",
       "    </tr>\n",
       "    <tr>\n",
       "      <th>4</th>\n",
       "      <td>15039</td>\n",
       "      <td>2.861011e+05</td>\n",
       "    </tr>\n",
       "  </tbody>\n",
       "</table>\n",
       "</div>"
      ],
      "text/plain": [
       "      id         price\n",
       "0  15035  4.942906e+05\n",
       "1  15036  4.744508e+05\n",
       "2  15037  1.256917e+06\n",
       "3  15038  3.068664e+05\n",
       "4  15039  2.861011e+05"
      ]
     },
     "execution_count": 338,
     "metadata": {},
     "output_type": "execute_result"
    }
   ],
   "source": [
    "submission = LetSubmit(np.expm1(y_pred_6), \"logprice_lgbm_latlongoutlier\")\n",
    "submission.head()"
   ]
  },
  {
   "cell_type": "markdown",
   "metadata": {},
   "source": [
    "> Submission 결과 : 117716"
   ]
  },
  {
   "cell_type": "markdown",
   "metadata": {},
   "source": [
    "- 큰 의미는 없다."
   ]
  },
  {
   "cell_type": "markdown",
   "metadata": {},
   "source": [
    "---"
   ]
  },
  {
   "cell_type": "markdown",
   "metadata": {},
   "source": [
    "## \\#SUBMISSION 8 : 6번 + `sqft_living`, `sqft_lot` outlier 삭제"
   ]
  },
  {
   "cell_type": "markdown",
   "metadata": {},
   "source": [
    "- 면적 컬럼에 대한 outlier를 삭제 해본다."
   ]
  },
  {
   "cell_type": "code",
   "execution_count": 359,
   "metadata": {},
   "outputs": [],
   "source": [
    "features = ['bedrooms', 'bathrooms', 'sqft_living', 'sqft_lot', 'floors', 'waterfront', 'view', \\\n",
    "            'condition', 'grade', 'sqft_above', 'sqft_basement', 'yr_built', 'yr_renovated', \\\n",
    "            'zipcode', 'lat', 'long', 'sqft_living15', 'sqft_lot15', 'year_month']\n",
    "\n",
    "train = data[features]"
   ]
  },
  {
   "cell_type": "code",
   "execution_count": 360,
   "metadata": {},
   "outputs": [],
   "source": [
    "data['log_price'] = np.log1p(data.price)\n",
    "label = data['log_price']"
   ]
  },
  {
   "cell_type": "code",
   "execution_count": 361,
   "metadata": {},
   "outputs": [
    {
     "data": {
      "text/plain": [
       "1"
      ]
     },
     "execution_count": 361,
     "metadata": {},
     "output_type": "execute_result"
    }
   ],
   "source": [
    "len(data[data['sqft_lot'] > 1250000])"
   ]
  },
  {
   "cell_type": "code",
   "execution_count": 362,
   "metadata": {},
   "outputs": [
    {
     "data": {
      "text/plain": [
       "2"
      ]
     },
     "execution_count": 362,
     "metadata": {},
     "output_type": "execute_result"
    }
   ],
   "source": [
    "len(data[data['sqft_living'] > 11000])"
   ]
  },
  {
   "cell_type": "code",
   "execution_count": 364,
   "metadata": {},
   "outputs": [
    {
     "data": {
      "text/plain": [
       "[1231, 5108, 8912]"
      ]
     },
     "execution_count": 364,
     "metadata": {},
     "output_type": "execute_result"
    }
   ],
   "source": [
    "area_outliers = list(data[data['sqft_lot'] > 1250000].index)\n",
    "area_outliers.extend(list(data[data['sqft_living'] > 11000].index))\n",
    "area_outliers"
   ]
  },
  {
   "cell_type": "markdown",
   "metadata": {},
   "source": [
    "- 3개의 outlier 삭제"
   ]
  },
  {
   "cell_type": "code",
   "execution_count": 365,
   "metadata": {},
   "outputs": [
    {
     "name": "stdout",
     "output_type": "stream",
     "text": [
      "(15035, 19) (15035,)\n",
      "(15032, 19) (15032,)\n"
     ]
    }
   ],
   "source": [
    "print(train.shape, label.shape)\n",
    "train = train.drop(area_outliers)\n",
    "label = label.drop(area_outliers)\n",
    "print(train.shape, label.shape)"
   ]
  },
  {
   "cell_type": "code",
   "execution_count": 366,
   "metadata": {},
   "outputs": [],
   "source": [
    "gboost = GradientBoostingRegressor()\n",
    "xgboost = XGBRegressor()\n",
    "lightgbm = LGBMRegressor()\n",
    "\n",
    "models = [linear, ridge, lasso, gboost, xgboost, lightgbm]"
   ]
  },
  {
   "cell_type": "code",
   "execution_count": 367,
   "metadata": {
    "scrolled": true
   },
   "outputs": [
    {
     "name": "stdout",
     "output_type": "stream",
     "text": [
      "CPU times: user 32.6 s, sys: 935 ms, total: 33.5 s\n",
      "Wall time: 18.5 s\n"
     ]
    }
   ],
   "source": [
    "%%time\n",
    "row_scores = get_scores(models, train, label)"
   ]
  },
  {
   "cell_type": "code",
   "execution_count": 368,
   "metadata": {},
   "outputs": [
    {
     "data": {
      "text/html": [
       "<div>\n",
       "<style scoped>\n",
       "    .dataframe tbody tr th:only-of-type {\n",
       "        vertical-align: middle;\n",
       "    }\n",
       "\n",
       "    .dataframe tbody tr th {\n",
       "        vertical-align: top;\n",
       "    }\n",
       "\n",
       "    .dataframe thead th {\n",
       "        text-align: right;\n",
       "    }\n",
       "</style>\n",
       "<table border=\"1\" class=\"dataframe\">\n",
       "  <thead>\n",
       "    <tr style=\"text-align: right;\">\n",
       "      <th></th>\n",
       "      <th>RMSLE</th>\n",
       "      <th>R2 score</th>\n",
       "      <th>RMSE</th>\n",
       "    </tr>\n",
       "  </thead>\n",
       "  <tbody>\n",
       "    <tr>\n",
       "      <th>LGBMRegressor</th>\n",
       "      <td>0.1642</td>\n",
       "      <td>0.9025</td>\n",
       "      <td>107383.437272</td>\n",
       "    </tr>\n",
       "    <tr>\n",
       "      <th>GradientBoostingRegressor</th>\n",
       "      <td>0.1822</td>\n",
       "      <td>0.8800</td>\n",
       "      <td>131473.268107</td>\n",
       "    </tr>\n",
       "    <tr>\n",
       "      <th>XGBRegressor</th>\n",
       "      <td>0.1833</td>\n",
       "      <td>0.8785</td>\n",
       "      <td>133247.195640</td>\n",
       "    </tr>\n",
       "    <tr>\n",
       "      <th>LinearRegression</th>\n",
       "      <td>0.2516</td>\n",
       "      <td>0.7710</td>\n",
       "      <td>184454.769129</td>\n",
       "    </tr>\n",
       "    <tr>\n",
       "      <th>Ridge</th>\n",
       "      <td>0.2516</td>\n",
       "      <td>0.7710</td>\n",
       "      <td>182678.373287</td>\n",
       "    </tr>\n",
       "    <tr>\n",
       "      <th>Lasso</th>\n",
       "      <td>0.3587</td>\n",
       "      <td>0.5345</td>\n",
       "      <td>226737.940647</td>\n",
       "    </tr>\n",
       "  </tbody>\n",
       "</table>\n",
       "</div>"
      ],
      "text/plain": [
       "                            RMSLE  R2 score           RMSE\n",
       "LGBMRegressor              0.1642    0.9025  107383.437272\n",
       "GradientBoostingRegressor  0.1822    0.8800  131473.268107\n",
       "XGBRegressor               0.1833    0.8785  133247.195640\n",
       "LinearRegression           0.2516    0.7710  184454.769129\n",
       "Ridge                      0.2516    0.7710  182678.373287\n",
       "Lasso                      0.3587    0.5345  226737.940647"
      ]
     },
     "execution_count": 368,
     "metadata": {},
     "output_type": "execute_result"
    }
   ],
   "source": [
    "row_scores"
   ]
  },
  {
   "cell_type": "code",
   "execution_count": 369,
   "metadata": {},
   "outputs": [
    {
     "name": "stdout",
     "output_type": "stream",
     "text": [
      "RMSE:  108229.45096238474\n",
      "R2 score:  0.885204614392595\n"
     ]
    }
   ],
   "source": [
    "X_train, X_test, y_train, y_test = train_test_split(train, label, test_size=0.2)\n",
    "lightgbm.fit(X_train, y_train)\n",
    "y_pred = lightgbm.predict(X_test)\n",
    "print(\"RMSE: \", np.sqrt(mean_squared_error(np.expm1(y_pred), np.expm1(y_test))))\n",
    "print(\"R2 score: \", r2_score(y_pred, y_test))"
   ]
  },
  {
   "cell_type": "code",
   "execution_count": 370,
   "metadata": {},
   "outputs": [
    {
     "data": {
      "image/png": "[encoded data removed]",
      "text/plain": [
       "<Figure size 576x432 with 1 Axes>"
      ]
     },
     "metadata": {
      "needs_background": "light"
     },
     "output_type": "display_data"
    }
   ],
   "source": [
    "draw_importances(lightgbm, train)"
   ]
  },
  {
   "cell_type": "markdown",
   "metadata": {},
   "source": [
    "---"
   ]
  },
  {
   "cell_type": "markdown",
   "metadata": {},
   "source": [
    "## \\#SUBMISSION 9 : 6번 + 7번 + 8번"
   ]
  },
  {
   "cell_type": "code",
   "execution_count": 377,
   "metadata": {},
   "outputs": [],
   "source": [
    "features = ['bedrooms', 'bathrooms', 'sqft_living', 'sqft_lot', 'floors', 'waterfront', 'view', \\\n",
    "            'condition', 'grade', 'sqft_above', 'sqft_basement', 'yr_built', 'yr_renovated', \\\n",
    "            'zipcode', 'lat', 'long', 'sqft_living15', 'sqft_lot15', 'year_month']\n",
    "\n",
    "train = data[features]"
   ]
  },
  {
   "cell_type": "code",
   "execution_count": 378,
   "metadata": {},
   "outputs": [],
   "source": [
    "data['log_price'] = np.log1p(data.price)\n",
    "label = data['log_price']"
   ]
  },
  {
   "cell_type": "code",
   "execution_count": 379,
   "metadata": {},
   "outputs": [
    {
     "data": {
      "text/plain": [
       "[2354,\n",
       " 1853,\n",
       " 2090,\n",
       " 2988,\n",
       " 4147,\n",
       " 4298,\n",
       " 7067,\n",
       " 7607,\n",
       " 9111,\n",
       " 9237,\n",
       " 9748,\n",
       " 10199,\n",
       " 11731,\n",
       " 13668,\n",
       " 13900]"
      ]
     },
     "execution_count": 379,
     "metadata": {},
     "output_type": "execute_result"
    }
   ],
   "source": [
    "lat_long_outliers = list(data[(data['long'] > -121.8) & (data['lat'] < 47.2)].index)\n",
    "lat_long_outliers.extend(list(data[data['long'] > -121.6].index))\n",
    "lat_long_outliers"
   ]
  },
  {
   "cell_type": "code",
   "execution_count": 380,
   "metadata": {},
   "outputs": [
    {
     "data": {
      "text/plain": [
       "[1231, 5108, 8912]"
      ]
     },
     "execution_count": 380,
     "metadata": {},
     "output_type": "execute_result"
    }
   ],
   "source": [
    "area_outliers = list(data[data['sqft_lot'] > 1250000].index)\n",
    "area_outliers.extend(list(data[data['sqft_living'] > 11000].index))\n",
    "area_outliers"
   ]
  },
  {
   "cell_type": "code",
   "execution_count": 381,
   "metadata": {},
   "outputs": [
    {
     "data": {
      "text/plain": [
       "18"
      ]
     },
     "execution_count": 381,
     "metadata": {},
     "output_type": "execute_result"
    }
   ],
   "source": [
    "outliers = lat_long_outliers + area_outliers\n",
    "len(outliers)"
   ]
  },
  {
   "cell_type": "markdown",
   "metadata": {},
   "source": [
    "- 18개의 outlier 삭제"
   ]
  },
  {
   "cell_type": "code",
   "execution_count": 382,
   "metadata": {},
   "outputs": [
    {
     "name": "stdout",
     "output_type": "stream",
     "text": [
      "(15035, 19) (15035,)\n",
      "(15017, 19) (15017,)\n"
     ]
    }
   ],
   "source": [
    "print(train.shape, label.shape)\n",
    "train = train.drop(outliers)\n",
    "label = label.drop(outliers)\n",
    "print(train.shape, label.shape)"
   ]
  },
  {
   "cell_type": "code",
   "execution_count": 394,
   "metadata": {},
   "outputs": [],
   "source": [
    "gboost = GradientBoostingRegressor()\n",
    "xgboost = XGBRegressor()\n",
    "lightgbm = LGBMRegressor()\n",
    "rdforest = RandomForestRegressor()\n",
    "\n",
    "models = [linear, ridge, lasso, gboost, xgboost, lightgbm, rdforest]"
   ]
  },
  {
   "cell_type": "code",
   "execution_count": 395,
   "metadata": {
    "scrolled": true
   },
   "outputs": [
    {
     "name": "stdout",
     "output_type": "stream",
     "text": [
      "CPU times: user 43.6 s, sys: 1.23 s, total: 44.9 s\n",
      "Wall time: 26.9 s\n"
     ]
    }
   ],
   "source": [
    "%%time\n",
    "row_scores = get_scores(models, train, label)"
   ]
  },
  {
   "cell_type": "code",
   "execution_count": 396,
   "metadata": {},
   "outputs": [
    {
     "data": {
      "text/html": [
       "<div>\n",
       "<style scoped>\n",
       "    .dataframe tbody tr th:only-of-type {\n",
       "        vertical-align: middle;\n",
       "    }\n",
       "\n",
       "    .dataframe tbody tr th {\n",
       "        vertical-align: top;\n",
       "    }\n",
       "\n",
       "    .dataframe thead th {\n",
       "        text-align: right;\n",
       "    }\n",
       "</style>\n",
       "<table border=\"1\" class=\"dataframe\">\n",
       "  <thead>\n",
       "    <tr style=\"text-align: right;\">\n",
       "      <th></th>\n",
       "      <th>RMSLE</th>\n",
       "      <th>R2 score</th>\n",
       "      <th>RMSE</th>\n",
       "    </tr>\n",
       "  </thead>\n",
       "  <tbody>\n",
       "    <tr>\n",
       "      <th>LGBMRegressor</th>\n",
       "      <td>0.1634</td>\n",
       "      <td>0.9033</td>\n",
       "      <td>107509.885348</td>\n",
       "    </tr>\n",
       "    <tr>\n",
       "      <th>XGBRegressor</th>\n",
       "      <td>0.1831</td>\n",
       "      <td>0.8786</td>\n",
       "      <td>124879.325767</td>\n",
       "    </tr>\n",
       "    <tr>\n",
       "      <th>GradientBoostingRegressor</th>\n",
       "      <td>0.1831</td>\n",
       "      <td>0.8785</td>\n",
       "      <td>138652.191913</td>\n",
       "    </tr>\n",
       "    <tr>\n",
       "      <th>RandomForestRegressor</th>\n",
       "      <td>0.1877</td>\n",
       "      <td>0.8728</td>\n",
       "      <td>139874.332511</td>\n",
       "    </tr>\n",
       "    <tr>\n",
       "      <th>LinearRegression</th>\n",
       "      <td>0.2510</td>\n",
       "      <td>0.7717</td>\n",
       "      <td>182264.782125</td>\n",
       "    </tr>\n",
       "    <tr>\n",
       "      <th>Ridge</th>\n",
       "      <td>0.2510</td>\n",
       "      <td>0.7717</td>\n",
       "      <td>213561.370870</td>\n",
       "    </tr>\n",
       "    <tr>\n",
       "      <th>Lasso</th>\n",
       "      <td>0.3586</td>\n",
       "      <td>0.5339</td>\n",
       "      <td>225351.323897</td>\n",
       "    </tr>\n",
       "  </tbody>\n",
       "</table>\n",
       "</div>"
      ],
      "text/plain": [
       "                            RMSLE  R2 score           RMSE\n",
       "LGBMRegressor              0.1634    0.9033  107509.885348\n",
       "XGBRegressor               0.1831    0.8786  124879.325767\n",
       "GradientBoostingRegressor  0.1831    0.8785  138652.191913\n",
       "RandomForestRegressor      0.1877    0.8728  139874.332511\n",
       "LinearRegression           0.2510    0.7717  182264.782125\n",
       "Ridge                      0.2510    0.7717  213561.370870\n",
       "Lasso                      0.3586    0.5339  225351.323897"
      ]
     },
     "execution_count": 396,
     "metadata": {},
     "output_type": "execute_result"
    }
   ],
   "source": [
    "row_scores"
   ]
  },
  {
   "cell_type": "code",
   "execution_count": 369,
   "metadata": {},
   "outputs": [
    {
     "name": "stdout",
     "output_type": "stream",
     "text": [
      "RMSE:  108229.45096238474\n",
      "R2 score:  0.885204614392595\n"
     ]
    }
   ],
   "source": [
    "X_train, X_test, y_train, y_test = train_test_split(train, label, test_size=0.2)\n",
    "lightgbm.fit(X_train, y_train)\n",
    "y_pred = lightgbm.predict(X_test)\n",
    "print(\"RMSE: \", np.sqrt(mean_squared_error(np.expm1(y_pred), np.expm1(y_test))))\n",
    "print(\"R2 score: \", r2_score(y_pred, y_test))"
   ]
  },
  {
   "cell_type": "code",
   "execution_count": 397,
   "metadata": {},
   "outputs": [
    {
     "data": {
      "image/png": "[encoded data removed]",
      "text/plain": [
       "<Figure size 1296x864 with 4 Axes>"
      ]
     },
     "metadata": {
      "needs_background": "light"
     },
     "output_type": "display_data"
    }
   ],
   "source": [
    "draw_importances(models[3:], train)"
   ]
  }
 ],
 "metadata": {
  "kernelspec": {
   "display_name": "Python 3",
   "language": "python",
   "name": "python3"
  },
  "language_info": {
   "codemirror_mode": {
    "name": "ipython",
    "version": 3
   },
   "file_extension": ".py",
   "mimetype": "text/x-python",
   "name": "python",
   "nbconvert_exporter": "python",
   "pygments_lexer": "ipython3",
   "version": "3.7.0"
  }
 },
 "nbformat": 4,
 "nbformat_minor": 2
}
