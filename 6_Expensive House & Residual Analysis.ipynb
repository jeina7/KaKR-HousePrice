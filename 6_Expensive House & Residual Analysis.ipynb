{
 "cells": [
  {
   "cell_type": "markdown",
   "metadata": {},
   "source": [
    "### [Regression Data Analysis]\n",
    "# KaKR House Price Prediction - Expensive House & Residual Analisys"
   ]
  },
  {
   "cell_type": "markdown",
   "metadata": {},
   "source": [
    "- RMSE에 큰 영향을 미치는 비싼 가격의 집에 대해 분석\n",
    "\n",
    "\n",
    "- 잔차 정규성 및 잔차의 분포 분석"
   ]
  },
  {
   "cell_type": "markdown",
   "metadata": {},
   "source": [
    "---"
   ]
  },
  {
   "cell_type": "markdown",
   "metadata": {},
   "source": [
    "#### Import Modules"
   ]
  },
  {
   "cell_type": "code",
   "execution_count": 228,
   "metadata": {},
   "outputs": [],
   "source": [
    "import warnings\n",
    "warnings.filterwarnings(\"ignore\")\n",
    "\n",
    "from sklearn.linear_model import LinearRegression, Ridge, Lasso, ElasticNet\n",
    "from sklearn.tree import DecisionTreeRegressor\n",
    "from sklearn.ensemble import RandomForestRegressor\n",
    "from sklearn.ensemble import GradientBoostingRegressor\n",
    "from xgboost import XGBRegressor, plot_importance\n",
    "from lightgbm import LGBMRegressor, plot_importance\n",
    "\n",
    "from sklearn.model_selection import GridSearchCV, train_test_split, KFold, cross_val_score\n",
    "from sklearn.metrics import accuracy_score, precision_score, recall_score, f1_score, roc_curve, roc_auc_score\n",
    "from sklearn.metrics import classification_report\n",
    "from sklearn.metrics import mean_squared_error, r2_score\n",
    "from sklearn.preprocessing import MinMaxScaler, StandardScaler\n",
    "from sklearn.preprocessing import PolynomialFeatures\n",
    "from sklearn.pipeline import Pipeline\n",
    "from scipy.stats import skew\n",
    "\n",
    "import numpy as np\n",
    "import pandas as pd\n",
    "import seaborn as sns\n",
    "import matplotlib.pyplot as plt\n",
    "from datetime import datetime\n",
    "%matplotlib inline"
   ]
  },
  {
   "cell_type": "code",
   "execution_count": 2,
   "metadata": {},
   "outputs": [
    {
     "data": {
      "text/plain": [
       "((15035, 20), (6468, 19))"
      ]
     },
     "execution_count": 2,
     "metadata": {},
     "output_type": "execute_result"
    }
   ],
   "source": [
    "row_data = pd.read_csv(\"./data/train.csv\", index_col=['id'])\n",
    "row_test = pd.read_csv(\"./data/test.csv\", index_col=['id'])\n",
    "\n",
    "row_data.shape, row_test.shape"
   ]
  },
  {
   "cell_type": "markdown",
   "metadata": {},
   "source": [
    "## Features Preprocessing function"
   ]
  },
  {
   "cell_type": "code",
   "execution_count": 3,
   "metadata": {},
   "outputs": [],
   "source": [
    "def feature_preprocess(row_data, zipcode_rank_dict):\n",
    "    \n",
    "    data = row_data.copy()\n",
    "    \n",
    "    # price log transformation\n",
    "    if 'price' in data.columns:\n",
    "        data['log_price'] = np.log1p(data.price)\n",
    "    \n",
    "    # Date parsing\n",
    "    data['date'] = data['date'].apply(lambda i: i[:8])\n",
    "    data['date'] = pd.to_datetime(data['date'])\n",
    "    data['year'] = data.date.dt.year\n",
    "    data['month'] = data.date.dt.month\n",
    "    data['day']= data.date.dt.day\n",
    "    data['year_month'] = data.date.dt.year * 100 + data.date.dt.month\n",
    "    data['day_of_week'] = data.date.dt.dayofweek\n",
    "    data['2015_or_not'] = data.year.apply(lambda i: 0 if i == 2014 else 1)\n",
    "    data['weekday_ohe'] = data.day_of_week.apply(lambda i: 1 if i in range(5) else 0)\n",
    "    data['saturday_ohe'] = data.day_of_week.apply(lambda i: 1 if i == 5 else 0)\n",
    "    data['sunday_ohe'] = data.day_of_week.apply(lambda i: 1 if i == 6 else 0)\n",
    "    \n",
    "    # yr_renovated\n",
    "    data['yr_renovated_ohe'] = data['yr_renovated'].apply(lambda i: 0 if i == 0 else 1)\n",
    "    \n",
    "    # zipcode : 위에서 zipcode_rank_dict를 만들어놔야 코드가 실행됨\n",
    "    data['zipcode_rank'] = 71 - data['zipcode'].apply(lambda i: zipcode_rank_dict[i])\n",
    "    \n",
    "    # lat / long\n",
    "    data['lat_scale'] = (data['lat'] - data['lat'].mean()) / data['lat'].std()\n",
    "    data['long_scale'] = (data['long'] - data['long'].mean()) / data['long'].std()\n",
    "    \n",
    "    # areas\n",
    "    data['sqft_living_scale'] = np.log1p(data['sqft_living'])\n",
    "    data['sqft_lot_scale'] = np.log1p(data['sqft_lot'])\n",
    "    data['sqft_living_diff'] = data['sqft_living15'] - data['sqft_living']\n",
    "    data['sqft_lot_diff'] = data['sqft_lot15'] - data['sqft_lot']\n",
    "    data.loc[data['sqft_living_diff'] < 0, 'sqft_living_diff_scale'] = -np.log1p(-data['sqft_living_diff'])\n",
    "    data.loc[data['sqft_living_diff'] >= 0, 'sqft_living_diff_scale'] = np.log1p(data['sqft_living_diff'])\n",
    "    data.loc[data['sqft_lot_diff'] < 0, 'sqft_lot_diff_scale'] = -np.log1p(-data['sqft_lot_diff'])\n",
    "    data.loc[data['sqft_lot_diff'] >= 0, 'sqft_lot_diff_scale'] = np.log1p(data['sqft_lot_diff'])\n",
    "    data['sqft_above_scale'] = np.log1p(data['sqft_above'])\n",
    "    data['sqft_basement_ohe'] = data.sqft_basement.apply(lambda i: 0 if i == 0 else 1)\n",
    "    \n",
    "    return data\n",
    "\n",
    "def get_ziprank(data):\n",
    "    zipcode_rank = data.groupby(['zipcode']).mean().sort_values(by=['price'], \\\n",
    "                                                                ascending=False).reset_index()[['zipcode', 'price']]\n",
    "    zipcode_rank['rank'] = range(1, len(zipcode_rank)+1)\n",
    "    zipcode_rank_dict = zipcode_rank.set_index(['zipcode'])['rank'].to_dict()\n",
    "    \n",
    "    return zipcode_rank_dict"
   ]
  },
  {
   "cell_type": "code",
   "execution_count": 4,
   "metadata": {
    "scrolled": true
   },
   "outputs": [
    {
     "data": {
      "text/plain": [
       "((15035, 42), (6468, 40))"
      ]
     },
     "execution_count": 4,
     "metadata": {},
     "output_type": "execute_result"
    }
   ],
   "source": [
    "zipcode_rank_dict = get_ziprank(row_data)\n",
    "\n",
    "data = feature_preprocess(row_data, zipcode_rank_dict)\n",
    "test = feature_preprocess(row_test, zipcode_rank_dict)\n",
    "\n",
    "data.shape, test.shape"
   ]
  },
  {
   "cell_type": "code",
   "execution_count": 5,
   "metadata": {},
   "outputs": [],
   "source": [
    "def transform_skewness(data):\n",
    "    \n",
    "    data_skew = data.copy()\n",
    "    \n",
    "    data_skew['year_month_scale'] = (data['year_month'] - data.year_month.min()) \\\n",
    "                                / (data.year_month.max() - data.year_month.min())\n",
    "    data_skew['bedrooms_scale'] = np.log1p(data.bedrooms)\n",
    "    data_skew['bathrooms_scale'] = np.log1p(data.bathrooms)\n",
    "    data_skew['floors_scale'] = np.log1p(data.floors)\n",
    "    data_skew['grade_scale'] = np.exp((data['grade'] - data.grade.min()) \\\n",
    "                                 / (data.grade.max() - data.grade.min()))\n",
    "    data_skew['zipcode_rank_scale'] = np.exp((data['zipcode_rank'] - data.zipcode_rank.min()) \\\n",
    "                                        / (data.zipcode_rank.max() - data.zipcode_rank.min()))\n",
    "    \n",
    "    return data_skew"
   ]
  },
  {
   "cell_type": "code",
   "execution_count": 6,
   "metadata": {},
   "outputs": [],
   "source": [
    "data = transform_skewness(data)\n",
    "test = transform_skewness(test)"
   ]
  },
  {
   "cell_type": "markdown",
   "metadata": {},
   "source": [
    "## Evaluation functions"
   ]
  },
  {
   "cell_type": "code",
   "execution_count": 247,
   "metadata": {},
   "outputs": [],
   "source": [
    "def rmsle_cv(model, train, label):\n",
    "    rmse_list = np.sqrt(-cross_val_score(model, train, label, scoring='neg_mean_squared_error', cv=5))\n",
    "    \n",
    "    return np.round(np.mean(rmse_list), 4)\n",
    "\n",
    "def r2_cv(model, train, label):\n",
    "    r2_list = cross_val_score(model, train, label, scoring='r2', cv=5)\n",
    "    \n",
    "    return np.round(np.mean(r2_list), 4)\n",
    "\n",
    "def rmse(model, y_test, y_pred):\n",
    "\n",
    "    return np.sqrt(mean_squared_error(np.expm1(y_test), np.expm1(y_pred)))\n",
    "\n",
    "def get_scores(models, train, label, rmse_=True):\n",
    "    df = {}\n",
    "    \n",
    "    for idx, model in enumerate(models):\n",
    "#         model_name = model.__class__.__name__\n",
    "        model_name = idx + 1\n",
    "        df[model_name] = []\n",
    "        df[model_name].append(rmsle_cv(model, train, label))\n",
    "        df[model_name].append(r2_cv(model, train, label))\n",
    "        \n",
    "        if rmse_:\n",
    "            X_train, X_test, y_train, y_test = train_test_split(train, label, test_size=0.2)\n",
    "            model.fit(X_train, y_train)\n",
    "            y_pred = model.predict(X_test)\n",
    "            df[model_name].append(rmse(model, y_test, y_pred))\n",
    "        \n",
    "        if rmse_:\n",
    "            score_df = pd.DataFrame(df, index=['RMSLE', 'R2 score', 'RMSE']).T.sort_values('R2 score', \\\n",
    "                                                                                           ascending=False)\n",
    "        else:\n",
    "            score_df = pd.DataFrame(df, index=['RMSLE', 'R2 score']).T.sort_values('R2 score', \\\n",
    "                                                                                   ascending=False)\n",
    "            \n",
    "    return score_df"
   ]
  },
  {
   "cell_type": "markdown",
   "metadata": {},
   "source": [
    "## Coefficient"
   ]
  },
  {
   "cell_type": "code",
   "execution_count": 8,
   "metadata": {},
   "outputs": [],
   "source": [
    "def get_coef(models, sort_model):\n",
    "    coef = {}\n",
    "    \n",
    "    for model in models:\n",
    "        model_name = model.__class__.__name__\n",
    "        coef[model_name] = model.coef_\n",
    "\n",
    "    coef_df = pd.DataFrame(coef, index=train.columns)\n",
    "    \n",
    "    return coef_df.sort_values(sort_model.__class__.__name__, ascending=False)\n",
    "\n",
    "def draw_coefs(models):\n",
    "    if len(models) == 3:\n",
    "        figure, axs = plt.subplots(nrows=1, ncols=3)\n",
    "        figure.set_size_inches(18, 6)\n",
    "\n",
    "        for idx, model in enumerate(models):\n",
    "            model_name = model.__class__.__name__\n",
    "            sns.barplot(x=get_coef(models, model)[model_name].values, \\\n",
    "                        y=get_coef(models, model)[model_name].index, \\\n",
    "                        ax=axs[idx]).set_title(model_name)\n",
    "    else:\n",
    "        figure, axs = plt.subplots(nrows=2, ncols=2)\n",
    "        figure.set_size_inches(18, 12)\n",
    "\n",
    "        for idx, model in enumerate(models):\n",
    "            model_name = model.__class__.__name__\n",
    "            sns.barplot(x=get_coef(models, model)[model_name].values, \\\n",
    "                        y=get_coef(models, model)[model_name].index, \\\n",
    "                        ax=axs[idx//2][idx%2]).set_title(model_name)\n",
    "    \n",
    "    plt.show()\n",
    "\n",
    "def draw_importances(models, data):\n",
    "    if type(models) != list:\n",
    "        model = models\n",
    "        model_name = model.__class__.__name__\n",
    "        importances = [i for i in zip(data.columns, model.feature_importances_)]\n",
    "        importances = sorted([[i[0], float(i[1])] for i in importances], key=lambda i: i[1], reverse=True)\n",
    "        plt.figure(figsize=(8, 6))\n",
    "        sns.barplot(x=[i[1] for i in importances], y=[i[0] for i in importances]).set_title(model_name)\n",
    "    \n",
    "    elif len(models) == 3:\n",
    "        figure, axs = plt.subplots(nrows=1, ncols=3)\n",
    "        figure.set_size_inches(18, 6)\n",
    "\n",
    "        for idx, model in enumerate(models):\n",
    "            model_name = model.__class__.__name__\n",
    "            importances = [i for i in zip(train.columns, model.feature_importances_)]\n",
    "            importances = sorted([[i[0], float(i[1])] for i in importances], key=lambda i: i[1], reverse=True)\n",
    "            sns.barplot(x=[i[1] for i in importances], y=[i[0] for i in importances], \\\n",
    "                        ax=axs[idx]).set_title(model_name)\n",
    "\n",
    "    else:\n",
    "        figure, axs = plt.subplots(nrows=2, ncols=2)\n",
    "        figure.set_size_inches(18, 12)\n",
    "\n",
    "        for idx, model in enumerate(models):\n",
    "            model_name = model.__class__.__name__\n",
    "            importances = [i for i in zip(train.columns, model.feature_importances_)]\n",
    "            importances = sorted([[i[0], float(i[1])] for i in importances], key=lambda i: i[1], reverse=True)\n",
    "            sns.barplot(x=[i[1] for i in importances], y=[i[0] for i in importances], \\\n",
    "                        ax=axs[idx//2][idx%2]).set_title(model_name)\n",
    "\n",
    "    plt.show()"
   ]
  },
  {
   "cell_type": "markdown",
   "metadata": {},
   "source": [
    "## Blending Models"
   ]
  },
  {
   "cell_type": "code",
   "execution_count": 9,
   "metadata": {},
   "outputs": [],
   "source": [
    "def BlendingModels(models, x, y, sub_x):\n",
    "    for m in models : \n",
    "        m.fit(x.values, y)\n",
    "    \n",
    "    predictions = np.column_stack([\n",
    "        m.predict(sub_x.values) for m in models\n",
    "    ])\n",
    "    return np.mean(predictions, axis=1)"
   ]
  },
  {
   "cell_type": "markdown",
   "metadata": {},
   "source": [
    "## Submission File"
   ]
  },
  {
   "cell_type": "code",
   "execution_count": 10,
   "metadata": {},
   "outputs": [],
   "source": [
    "def LetSubmit(y_pred, filename):\n",
    "    submission = pd.read_csv(\"./data/sample_submission.csv\")\n",
    "    submission['price'] = y_pred\n",
    "    submission.to_csv(\"./submission/{}.csv\".format(filename), index_label=False, index=False)\n",
    "    submission_test = pd.read_csv(\"./submission/{}.csv\".format(filename))\n",
    "    \n",
    "    return submission_test"
   ]
  },
  {
   "cell_type": "markdown",
   "metadata": {},
   "source": [
    "## Get Best Parameters"
   ]
  },
  {
   "cell_type": "code",
   "execution_count": 11,
   "metadata": {},
   "outputs": [],
   "source": [
    "def BestParamsGrid(model, train, label, param_grid, verbose=2, n_jobs=5):\n",
    "    grid_model = GridSearchCV(model, param_grid=param_grid, scoring='neg_mean_squared_error', \\\n",
    "                              cv=5, verbose=verbose, n_jobs=n_jobs)\n",
    "    grid_model.fit(train, label)\n",
    "    rmsle = np.sqrt(-1 * grid_model.best_score_)\n",
    "    params_df = pd.DataFrame(grid_model.best_params_, index=[grid_model.__class__.__name__]).T\n",
    "\n",
    "    return grid_model, grid_model.best_params_, rmsle\n",
    "\n",
    "def CoarseSearch(train, label, model_name='lgbm', num_epoch=100):\n",
    "    params_list = []\n",
    "    \n",
    "    start_time = datetime.now()\n",
    "    print(\"Let's start\\t\\t\\t\\t\")\n",
    "    \n",
    "    for epoch in range(1, num_epoch+1):\n",
    "        n_estimators = np.random.randint(low=100, high=1000)\n",
    "        max_depth = np.random.randint(low=2, high=100)\n",
    "        learning_rate = 10 ** -np.random.uniform(low=0, high=10)\n",
    "        subsample = np.random.uniform(low=0.4, high=1.0)\n",
    "        colsample_bytree = np.random.uniform(low=0.4, high=1.0)\n",
    "        colsample_bylevel = np.random.uniform(low=0.4, high=1.0)\n",
    "        num_leaves = np.random.randint(low=5, high=1000)\n",
    "        min_child_samples = np.random.randint(low=50, high=2000)\n",
    "        \n",
    "        if model_name == 'lgbm':\n",
    "            model = LGBMRegressor(n_estimators=n_estimators,\n",
    "                                  max_depth=max_depth,\n",
    "                                  learning_rate=learning_rate,\n",
    "                                  subsample=subsample,\n",
    "                                  colsample_bylevel=colsample_bylevel,\n",
    "                                  colsample_bytree=colsample_bytree,\n",
    "                                  num_leaves=num_leaves,\n",
    "                                  min_child_samples=min_child_samples,\n",
    "                                  seed=37)\n",
    "            \n",
    "        elif model_name == 'xgb':\n",
    "            model = XGBRegressor(n_estimators=n_estimators,\n",
    "                                 max_depth=max_depth,\n",
    "                                 learning_rate=learning_rate,\n",
    "                                 subsample=subsample,\n",
    "                                 colsample_bylevel=colsample_bylevel,\n",
    "                                 colsample_bytree=colsample_bytree,\n",
    "                                 seed=37)\n",
    "\n",
    "        score = np.sqrt(-cross_val_score(model, train, label, cv=8, scoring='neg_mean_squared_error').mean())\n",
    "\n",
    "        params = {\n",
    "            'epoch': epoch,\n",
    "            'score': score,\n",
    "            'n_estimators': n_estimators,\n",
    "            'max_depth': max_depth,\n",
    "            'learning_rate': learning_rate,\n",
    "            'subsample': subsample,\n",
    "            'colsample_bylevel': colsample_bylevel,\n",
    "            'colsample_bytree': colsample_bytree,\n",
    "            'num_leaves': num_leaves,\n",
    "            'min_child_samples': min_child_samples,\n",
    "        }\n",
    "\n",
    "        params_list.append(params)\n",
    "        \n",
    "        if (epoch == 1) | (epoch % (num_epoch//10) == 0):\n",
    "            print(\"{} epoch is now calculating . . .\\t\".format(epoch), str(datetime.now() - start_time)[:-7])\n",
    "            \n",
    "    finish_time = datetime.now()\n",
    "    print(\"All Coarse Searching is Finished\")\n",
    "    print(\"All taken:\", str(finish_time - start_time)[:-7])\n",
    "\n",
    "    params_df = pd.DataFrame.from_dict(params_list).sort_values('score')\n",
    "    print(params_df.shape)\n",
    "    \n",
    "    return params_df\n",
    "\n",
    "def BestParamsGrid(model, train, label, param_grid, verbose=2, n_jobs=5):\n",
    "    grid_model = GridSearchCV(model, param_grid=param_grid, scoring='neg_mean_squared_error', \\\n",
    "                              cv=5, verbose=verbose, n_jobs=n_jobs)\n",
    "    grid_model.fit(train, label)\n",
    "    rmsle = np.sqrt(-1 * grid_model.best_score_)\n",
    "    params_df = pd.DataFrame(grid_model.best_params_, index=[grid_model.__class__.__name__]).T\n",
    "\n",
    "    return grid_model, grid_model.best_params_, rmsle\n",
    "\n",
    "def CoarseSearch(train, label, model_name='lgbm', num_epoch=100):\n",
    "    params_list = []\n",
    "    \n",
    "    start_time = datetime.now()\n",
    "    print(\"Let's start\\t\\t\\t\\t\")\n",
    "    \n",
    "    for epoch in range(1, num_epoch+1):\n",
    "        n_estimators = np.random.randint(low=100, high=1000)\n",
    "        max_depth = np.random.randint(low=2, high=100)\n",
    "        learning_rate = 10 ** -np.random.uniform(low=0, high=10)\n",
    "        subsample = np.random.uniform(low=0.4, high=1.0)\n",
    "        colsample_bytree = np.random.uniform(low=0.4, high=1.0)\n",
    "        colsample_bylevel = np.random.uniform(low=0.4, high=1.0)\n",
    "        num_leaves = np.random.randint(low=5, high=1000)\n",
    "        min_child_samples = np.random.randint(low=50, high=2000)\n",
    "        \n",
    "        if model_name == 'lgbm':\n",
    "            model = LGBMRegressor(n_estimators=n_estimators,\n",
    "                                  max_depth=max_depth,\n",
    "                                  learning_rate=learning_rate,\n",
    "                                  subsample=subsample,\n",
    "                                  colsample_bylevel=colsample_bylevel,\n",
    "                                  colsample_bytree=colsample_bytree,\n",
    "                                  num_leaves=num_leaves,\n",
    "                                  min_child_samples=min_child_samples,\n",
    "                                  seed=37)\n",
    "            \n",
    "        elif model_name == 'xgb':\n",
    "            model = XGBRegressor(n_estimators=n_estimators,\n",
    "                                 max_depth=max_depth,\n",
    "                                 learning_rate=learning_rate,\n",
    "                                 subsample=subsample,\n",
    "                                 colsample_bylevel=colsample_bylevel,\n",
    "                                 colsample_bytree=colsample_bytree,\n",
    "                                 seed=37)\n",
    "\n",
    "        score = np.sqrt(-cross_val_score(model, train, label, cv=8, scoring='neg_mean_squared_error').mean())\n",
    "\n",
    "        params = {\n",
    "            'epoch': epoch,\n",
    "            'score': score,\n",
    "            'n_estimators': n_estimators,\n",
    "            'max_depth': max_depth,\n",
    "            'learning_rate': learning_rate,\n",
    "            'subsample': subsample,\n",
    "            'colsample_bylevel': colsample_bylevel,\n",
    "            'colsample_bytree': colsample_bytree,\n",
    "            'num_leaves': num_leaves,\n",
    "            'min_child_samples': min_child_samples,\n",
    "        }\n",
    "\n",
    "        params_list.append(params)\n",
    "        \n",
    "        if (epoch == 1) | (epoch % (num_epoch//10) == 0):\n",
    "            print(\"{} epoch is now calculating . . .\\t\".format(epoch), str(datetime.now() - start_time)[:-7])\n",
    "            \n",
    "    finish_time = datetime.now()\n",
    "    print(\"All Coarse Searching is Finished\")\n",
    "    print(\"All taken:\", str(finish_time - start_time)[:-7])\n",
    "\n",
    "    params_df = pd.DataFrame.from_dict(params_list).sort_values('score')\n",
    "    print(params_df.shape)\n",
    "    \n",
    "    return params_df\n",
    "\n",
    "def FinerSearch(train, label, param_range, model_name='lgbm', num_epoch=100):\n",
    "    params_list = []\n",
    "    \n",
    "    start_time = datetime.now()\n",
    "    print(\"Let's start\\t\\t\\t\\t\")\n",
    "    \n",
    "    for epoch in range(1, num_epoch+1):\n",
    "        n_estimators = np.random.randint(low=param_range['n_estimators'][0], \\\n",
    "                                         high=param_range['n_estimators'][1])\n",
    "        max_depth = np.random.randint(low=param_range['max_depth'][0], \\\n",
    "                                      high=param_range['max_depth'][1])\n",
    "        learning_rate = np.random.uniform(low=param_range['learning_rate'][0], \\\n",
    "                                          high=param_range['learning_rate'][1])\n",
    "#         subsample = np.random.uniform(low=param_range['subsample'][0], \\\n",
    "#                                       high=param_range['subsample'][1])\n",
    "#         colsample_bytree = np.random.uniform(low=param_range['colsample_bytree'][0], \\\n",
    "#                                              high=param_range['colsample_bytree'][1])\n",
    "#         colsample_bylevel = np.random.uniform(low=param_range['colsample_bylevel'][0], \\\n",
    "#                                               high=param_range['colsample_bylevel'][1])\n",
    "#         num_leaves = np.random.randint(low=param_range['num_leaves'][0], \\\n",
    "#                                        high=param_range['num_leaves'][1])\n",
    "#         min_child_samples = np.random.randint(low=param_range['min_child_samples'][0], \\\n",
    "#                                               high=param_range['min_child_samples'][1])\n",
    "        \n",
    "        if model_name == 'lgbm':\n",
    "            model = LGBMRegressor(n_estimators=n_estimators,\n",
    "                                  max_depth=max_depth,\n",
    "                                  learning_rate=learning_rate,\n",
    "#                                   subsample=subsample,\n",
    "#                                   colsample_bylevel=colsample_bylevel,\n",
    "#                                   colsample_bytree=colsample_bytree,\n",
    "#                                   num_leaves=num_leaves,\n",
    "#                                   min_child_samples=min_child_samples,\n",
    "                                  seed=37)\n",
    "            \n",
    "            score = np.sqrt(-cross_val_score(model, train, label, cv=8, \\\n",
    "                                             scoring='neg_mean_squared_error', n_jobs=5).mean())\n",
    "\n",
    "            params = {\n",
    "                'epoch': epoch,\n",
    "                'score': score,\n",
    "                'n_estimators': n_estimators,\n",
    "                'max_depth': max_depth,\n",
    "                'learning_rate': learning_rate,\n",
    "#                 'subsample': subsample,\n",
    "#                 'colsample_bylevel': colsample_bylevel,\n",
    "#                 'colsample_bytree': colsample_bytree,\n",
    "#                 'num_leaves': num_leaves,\n",
    "#                 'min_child_samples': min_child_samples,\n",
    "            }\n",
    "            \n",
    "        elif model_name == 'xgb':\n",
    "            model = XGBRegressor(n_estimators=n_estimators,\n",
    "                                 max_depth=max_depth,\n",
    "                                 learning_rate=learning_rate,\n",
    "                                 seed=37)\n",
    "\n",
    "            score = np.sqrt(-cross_val_score(model, train, label, cv=8, \\\n",
    "                                             scoring='neg_mean_squared_error', n_jobs=5).mean())\n",
    "\n",
    "            params = {\n",
    "                'epoch': epoch,\n",
    "                'score': score,\n",
    "                'n_estimators': n_estimators,\n",
    "                'max_depth': max_depth,\n",
    "                'learning_rate': learning_rate,\n",
    "            }\n",
    "\n",
    "        params_list.append(params)\n",
    "        \n",
    "        if (epoch == 1) | (epoch % (num_epoch//10) == 0):\n",
    "            print(\"{} epoch is now calculating . . .\\t\".format(epoch), str(datetime.now() - start_time)[:-7])\n",
    "            \n",
    "    finish_time = datetime.now()\n",
    "    print(\"All Coarse Searching is Finished\")\n",
    "    print(\"time duration:\", str(finish_time - start_time)[:-7])\n",
    "\n",
    "    params_df = pd.DataFrame.from_dict(params_list).sort_values('score')\n",
    "    print(params_df.shape)\n",
    "    \n",
    "    return params_df"
   ]
  },
  {
   "cell_type": "markdown",
   "metadata": {},
   "source": [
    "## Train / Label data"
   ]
  },
  {
   "cell_type": "code",
   "execution_count": 12,
   "metadata": {},
   "outputs": [],
   "source": [
    "features = ['bedrooms', 'bathrooms', 'sqft_living', 'sqft_lot', 'floors', 'waterfront', 'view', \\\n",
    "            'condition', 'grade', 'sqft_above', 'sqft_basement', 'yr_built', 'yr_renovated', \\\n",
    "            'zipcode', 'lat', 'long', 'sqft_living15', 'sqft_lot15', 'year_month']\n",
    "\n",
    "train = data[features]\n",
    "data['log_price'] = np.log1p(data.price)\n",
    "label = data['log_price']"
   ]
  },
  {
   "cell_type": "code",
   "execution_count": 15,
   "metadata": {},
   "outputs": [
    {
     "data": {
      "image/png": "[encoded data removed]",
      "text/plain": [
       "<Figure size 432x288 with 1 Axes>"
      ]
     },
     "metadata": {
      "needs_background": "light"
     },
     "output_type": "display_data"
    }
   ],
   "source": [
    "sns.distplot(data['price'])\n",
    "plt.show()"
   ]
  },
  {
   "cell_type": "markdown",
   "metadata": {},
   "source": [
    "## Bias : residual"
   ]
  },
  {
   "cell_type": "code",
   "execution_count": 171,
   "metadata": {},
   "outputs": [
    {
     "data": {
      "image/png": "[encoded data removed]",
      "text/plain": [
       "<Figure size 576x432 with 1 Axes>"
      ]
     },
     "metadata": {
      "needs_background": "light"
     },
     "output_type": "display_data"
    }
   ],
   "source": [
    "X_train, X_test, y_train, y_test = train_test_split(train, label, test_size=0.2)\n",
    "\n",
    "lgbm = LGBMRegressor(n_estimators=900,\n",
    "                     max_depth=7,\n",
    "                     learning_rate=0.035)\n",
    "\n",
    "lgbm.fit(X_train, y_train)\n",
    "y_pred = lgbm.predict(X_test)\n",
    "\n",
    "y_pred = np.expm1(y_pred)\n",
    "y_test = np.expm1(y_test)\n",
    "\n",
    "residual = y_pred - y_test\n",
    "\n",
    "plt.figure(figsize=(8, 6))\n",
    "sns.distplot(residual)\n",
    "plt.show()"
   ]
  },
  {
   "cell_type": "code",
   "execution_count": 172,
   "metadata": {},
   "outputs": [
    {
     "name": "stdout",
     "output_type": "stream",
     "text": [
      "(3007, 3)\n"
     ]
    },
    {
     "data": {
      "text/html": [
       "<div>\n",
       "<style scoped>\n",
       "    .dataframe tbody tr th:only-of-type {\n",
       "        vertical-align: middle;\n",
       "    }\n",
       "\n",
       "    .dataframe tbody tr th {\n",
       "        vertical-align: top;\n",
       "    }\n",
       "\n",
       "    .dataframe thead th {\n",
       "        text-align: right;\n",
       "    }\n",
       "</style>\n",
       "<table border=\"1\" class=\"dataframe\">\n",
       "  <thead>\n",
       "    <tr style=\"text-align: right;\">\n",
       "      <th></th>\n",
       "      <th>y_pred</th>\n",
       "      <th>y_test</th>\n",
       "      <th>residual</th>\n",
       "    </tr>\n",
       "  </thead>\n",
       "  <tbody>\n",
       "    <tr>\n",
       "      <th>0</th>\n",
       "      <td>367685.108765</td>\n",
       "      <td>343500.0</td>\n",
       "      <td>24185.108765</td>\n",
       "    </tr>\n",
       "    <tr>\n",
       "      <th>1</th>\n",
       "      <td>273627.687328</td>\n",
       "      <td>285000.0</td>\n",
       "      <td>-11372.312672</td>\n",
       "    </tr>\n",
       "    <tr>\n",
       "      <th>2</th>\n",
       "      <td>306152.449025</td>\n",
       "      <td>272000.0</td>\n",
       "      <td>34152.449025</td>\n",
       "    </tr>\n",
       "    <tr>\n",
       "      <th>3</th>\n",
       "      <td>287369.243294</td>\n",
       "      <td>280927.0</td>\n",
       "      <td>6442.243294</td>\n",
       "    </tr>\n",
       "    <tr>\n",
       "      <th>4</th>\n",
       "      <td>248531.281056</td>\n",
       "      <td>253500.0</td>\n",
       "      <td>-4968.718944</td>\n",
       "    </tr>\n",
       "  </tbody>\n",
       "</table>\n",
       "</div>"
      ],
      "text/plain": [
       "          y_pred    y_test      residual\n",
       "0  367685.108765  343500.0  24185.108765\n",
       "1  273627.687328  285000.0 -11372.312672\n",
       "2  306152.449025  272000.0  34152.449025\n",
       "3  287369.243294  280927.0   6442.243294\n",
       "4  248531.281056  253500.0  -4968.718944"
      ]
     },
     "execution_count": 172,
     "metadata": {},
     "output_type": "execute_result"
    }
   ],
   "source": [
    "predict_df = pd.DataFrame(np.array([y_pred, y_test, residual]).T, columns=['y_pred', 'y_test', 'residual'])\n",
    "print(predict_df.shape)\n",
    "predict_df.head()"
   ]
  },
  {
   "cell_type": "code",
   "execution_count": 176,
   "metadata": {},
   "outputs": [
    {
     "data": {
      "image/png": "[encoded data removed]",
      "text/plain": [
       "<Figure size 360x360 with 1 Axes>"
      ]
     },
     "metadata": {
      "needs_background": "light"
     },
     "output_type": "display_data"
    }
   ],
   "source": [
    "sns.lmplot(data=predict_df, x='y_pred', y='residual')\n",
    "plt.show()"
   ]
  },
  {
   "cell_type": "code",
   "execution_count": 113,
   "metadata": {},
   "outputs": [
    {
     "data": {
      "text/html": [
       "<div>\n",
       "<style scoped>\n",
       "    .dataframe tbody tr th:only-of-type {\n",
       "        vertical-align: middle;\n",
       "    }\n",
       "\n",
       "    .dataframe tbody tr th {\n",
       "        vertical-align: top;\n",
       "    }\n",
       "\n",
       "    .dataframe thead th {\n",
       "        text-align: right;\n",
       "    }\n",
       "</style>\n",
       "<table border=\"1\" class=\"dataframe\">\n",
       "  <thead>\n",
       "    <tr style=\"text-align: right;\">\n",
       "      <th></th>\n",
       "      <th>y_pred</th>\n",
       "      <th>y_test</th>\n",
       "      <th>residual</th>\n",
       "    </tr>\n",
       "  </thead>\n",
       "  <tbody>\n",
       "    <tr>\n",
       "      <th>count</th>\n",
       "      <td>3.007000e+03</td>\n",
       "      <td>3.007000e+03</td>\n",
       "      <td>3.007000e+03</td>\n",
       "    </tr>\n",
       "    <tr>\n",
       "      <th>mean</th>\n",
       "      <td>5.331007e+05</td>\n",
       "      <td>5.407512e+05</td>\n",
       "      <td>-7.650529e+03</td>\n",
       "    </tr>\n",
       "    <tr>\n",
       "      <th>std</th>\n",
       "      <td>3.457337e+05</td>\n",
       "      <td>3.680599e+05</td>\n",
       "      <td>1.133361e+05</td>\n",
       "    </tr>\n",
       "    <tr>\n",
       "      <th>min</th>\n",
       "      <td>1.277322e+05</td>\n",
       "      <td>8.100000e+04</td>\n",
       "      <td>-1.463536e+06</td>\n",
       "    </tr>\n",
       "    <tr>\n",
       "      <th>25%</th>\n",
       "      <td>3.213516e+05</td>\n",
       "      <td>3.249750e+05</td>\n",
       "      <td>-3.887414e+04</td>\n",
       "    </tr>\n",
       "    <tr>\n",
       "      <th>50%</th>\n",
       "      <td>4.529322e+05</td>\n",
       "      <td>4.500000e+05</td>\n",
       "      <td>-3.486870e+03</td>\n",
       "    </tr>\n",
       "    <tr>\n",
       "      <th>75%</th>\n",
       "      <td>6.320069e+05</td>\n",
       "      <td>6.474000e+05</td>\n",
       "      <td>3.299791e+04</td>\n",
       "    </tr>\n",
       "    <tr>\n",
       "      <th>max</th>\n",
       "      <td>5.520623e+06</td>\n",
       "      <td>5.570000e+06</td>\n",
       "      <td>8.042472e+05</td>\n",
       "    </tr>\n",
       "  </tbody>\n",
       "</table>\n",
       "</div>"
      ],
      "text/plain": [
       "             y_pred        y_test      residual\n",
       "count  3.007000e+03  3.007000e+03  3.007000e+03\n",
       "mean   5.331007e+05  5.407512e+05 -7.650529e+03\n",
       "std    3.457337e+05  3.680599e+05  1.133361e+05\n",
       "min    1.277322e+05  8.100000e+04 -1.463536e+06\n",
       "25%    3.213516e+05  3.249750e+05 -3.887414e+04\n",
       "50%    4.529322e+05  4.500000e+05 -3.486870e+03\n",
       "75%    6.320069e+05  6.474000e+05  3.299791e+04\n",
       "max    5.520623e+06  5.570000e+06  8.042472e+05"
      ]
     },
     "execution_count": 113,
     "metadata": {},
     "output_type": "execute_result"
    }
   ],
   "source": [
    "predict_df.describe()"
   ]
  },
  {
   "cell_type": "markdown",
   "metadata": {},
   "source": [
    "## LGBM Bias"
   ]
  },
  {
   "cell_type": "code",
   "execution_count": 294,
   "metadata": {},
   "outputs": [
    {
     "name": "stdout",
     "output_type": "stream",
     "text": [
      "0 epoch running . . \n",
      "10 epoch running . . \n",
      "20 epoch running . . \n",
      "30 epoch running . . \n",
      "40 epoch running . . \n",
      "50 epoch running . . \n",
      "60 epoch running . . \n",
      "70 epoch running . . \n",
      "80 epoch running . . \n",
      "90 epoch running . . \n",
      "CPU times: user 14min 21s, sys: 6.65 s, total: 14min 28s\n",
      "Wall time: 1min 13s\n"
     ]
    }
   ],
   "source": [
    "%%time\n",
    "residual_total = []\n",
    "y_pred_total = []\n",
    "y_test_total = []\n",
    "\n",
    "for i in range(100):\n",
    "    X_train, X_test, y_train, y_test = train_test_split(train, label, test_size=0.2)\n",
    "\n",
    "    lgbm = LGBMRegressor(n_estimators=900,\n",
    "                         max_depth=7,\n",
    "                         learning_rate=0.035)\n",
    "\n",
    "    lgbm.fit(X_train, y_train)\n",
    "    y_pred = lgbm.predict(X_test)\n",
    "\n",
    "    y_pred = np.expm1(y_pred)\n",
    "    y_test = np.expm1(y_test)\n",
    "\n",
    "    residual = y_pred - y_test\n",
    "    \n",
    "    y_test_total.append(y_test.values)\n",
    "    y_pred_total.append(y_pred)\n",
    "    residual_total.append(residual.values)\n",
    "    \n",
    "    if i % 10 == 0:\n",
    "        print(\"{} epoch running . . \".format(i))"
   ]
  },
  {
   "cell_type": "code",
   "execution_count": 295,
   "metadata": {},
   "outputs": [
    {
     "data": {
      "text/plain": [
       "3007"
      ]
     },
     "execution_count": 295,
     "metadata": {},
     "output_type": "execute_result"
    }
   ],
   "source": [
    "len(residual_total[0])"
   ]
  },
  {
   "cell_type": "code",
   "execution_count": 296,
   "metadata": {
    "scrolled": true
   },
   "outputs": [
    {
     "data": {
      "text/plain": [
       "3007"
      ]
     },
     "execution_count": 296,
     "metadata": {},
     "output_type": "execute_result"
    }
   ],
   "source": [
    "residual_total_mean = np.mean(residual_total, axis=0)\n",
    "len(residual_total_mean)"
   ]
  },
  {
   "cell_type": "code",
   "execution_count": 297,
   "metadata": {},
   "outputs": [
    {
     "data": {
      "text/plain": [
       "-7272.7938400807825"
      ]
     },
     "execution_count": 297,
     "metadata": {},
     "output_type": "execute_result"
    }
   ],
   "source": [
    "np.mean(residual_total_mean)"
   ]
  },
  {
   "cell_type": "markdown",
   "metadata": {},
   "source": [
    "- LGBM bias : `-7259`"
   ]
  },
  {
   "cell_type": "markdown",
   "metadata": {},
   "source": [
    "### 1000000 이상의 집들의 residual의 평균"
   ]
  },
  {
   "cell_type": "code",
   "execution_count": null,
   "metadata": {},
   "outputs": [],
   "source": []
  },
  {
   "cell_type": "markdown",
   "metadata": {},
   "source": [
    "## Big Residual"
   ]
  },
  {
   "cell_type": "code",
   "execution_count": 298,
   "metadata": {},
   "outputs": [
    {
     "name": "stdout",
     "output_type": "stream",
     "text": [
      "-145985.9227247642 \t 142170.31901176847\n"
     ]
    }
   ],
   "source": [
    "low_bound_mean = 0\n",
    "high_bound_mean = 0\n",
    "qualtile_weight = 1.5\n",
    "\n",
    "for i in range(len(residual_total)):\n",
    "    low_qualtile = np.percentile(residual_total[i], 25)\n",
    "    high_qualtile = np.percentile(residual_total[i], 75)\n",
    "    inter_qualtile = high_qualtile - low_qualtile\n",
    "    \n",
    "    low_bound = low_qualtile - qualtile_weight * inter_qualtile\n",
    "    high_bound = high_qualtile + qualtile_weight * inter_qualtile\n",
    "    \n",
    "    low_bound_mean += low_bound\n",
    "    high_bound_mean += high_bound\n",
    "    \n",
    "low_bound_mean /= len(residual_total)\n",
    "high_bound_mean /= len(residual_total)\n",
    "    \n",
    "print(low_bound_mean, '\\t', high_bound_mean)"
   ]
  },
  {
   "cell_type": "code",
   "execution_count": 299,
   "metadata": {},
   "outputs": [
    {
     "data": {
      "text/plain": [
       "144078.12086826633"
      ]
     },
     "execution_count": 299,
     "metadata": {},
     "output_type": "execute_result"
    }
   ],
   "source": [
    "bound = (high_bound_mean + (-low_bound_mean)) / 2\n",
    "bound"
   ]
  },
  {
   "cell_type": "code",
   "execution_count": 300,
   "metadata": {},
   "outputs": [
    {
     "name": "stdout",
     "output_type": "stream",
     "text": [
      "(275, 3)\n"
     ]
    },
    {
     "data": {
      "text/html": [
       "<div>\n",
       "<style scoped>\n",
       "    .dataframe tbody tr th:only-of-type {\n",
       "        vertical-align: middle;\n",
       "    }\n",
       "\n",
       "    .dataframe tbody tr th {\n",
       "        vertical-align: top;\n",
       "    }\n",
       "\n",
       "    .dataframe thead th {\n",
       "        text-align: right;\n",
       "    }\n",
       "</style>\n",
       "<table border=\"1\" class=\"dataframe\">\n",
       "  <thead>\n",
       "    <tr style=\"text-align: right;\">\n",
       "      <th></th>\n",
       "      <th>y_pred</th>\n",
       "      <th>y_test</th>\n",
       "      <th>residual</th>\n",
       "    </tr>\n",
       "  </thead>\n",
       "  <tbody>\n",
       "    <tr>\n",
       "      <th>7</th>\n",
       "      <td>773307.506370</td>\n",
       "      <td>1050000.0</td>\n",
       "      <td>-276692.493630</td>\n",
       "    </tr>\n",
       "    <tr>\n",
       "      <th>20</th>\n",
       "      <td>748018.081753</td>\n",
       "      <td>925000.0</td>\n",
       "      <td>-176981.918247</td>\n",
       "    </tr>\n",
       "    <tr>\n",
       "      <th>38</th>\n",
       "      <td>267955.803995</td>\n",
       "      <td>475000.0</td>\n",
       "      <td>-207044.196005</td>\n",
       "    </tr>\n",
       "    <tr>\n",
       "      <th>45</th>\n",
       "      <td>515161.437756</td>\n",
       "      <td>704000.0</td>\n",
       "      <td>-188838.562244</td>\n",
       "    </tr>\n",
       "    <tr>\n",
       "      <th>75</th>\n",
       "      <td>741009.155170</td>\n",
       "      <td>577288.0</td>\n",
       "      <td>163721.155170</td>\n",
       "    </tr>\n",
       "  </tbody>\n",
       "</table>\n",
       "</div>"
      ],
      "text/plain": [
       "           y_pred     y_test       residual\n",
       "7   773307.506370  1050000.0 -276692.493630\n",
       "20  748018.081753   925000.0 -176981.918247\n",
       "38  267955.803995   475000.0 -207044.196005\n",
       "45  515161.437756   704000.0 -188838.562244\n",
       "75  741009.155170   577288.0  163721.155170"
      ]
     },
     "execution_count": 300,
     "metadata": {},
     "output_type": "execute_result"
    }
   ],
   "source": [
    "big_residual = predict_df[np.abs(predict_df['residual']) > bound]\n",
    "print(big_residual.shape)\n",
    "big_residual.head()"
   ]
  },
  {
   "cell_type": "code",
   "execution_count": 301,
   "metadata": {},
   "outputs": [
    {
     "data": {
      "image/png": "[encoded data removed]",
      "text/plain": [
       "<Figure size 432x288 with 1 Axes>"
      ]
     },
     "metadata": {
      "needs_background": "light"
     },
     "output_type": "display_data"
    }
   ],
   "source": [
    "sns.distplot(big_residual['y_test'])\n",
    "plt.show()"
   ]
  },
  {
   "cell_type": "code",
   "execution_count": 302,
   "metadata": {},
   "outputs": [
    {
     "data": {
      "image/png": "[encoded data removed]",
      "text/plain": [
       "<Figure size 432x288 with 1 Axes>"
      ]
     },
     "metadata": {
      "needs_background": "light"
     },
     "output_type": "display_data"
    }
   ],
   "source": [
    "plt.scatter(x=big_residual['y_test'], y=big_residual['residual'])\n",
    "plt.show()"
   ]
  },
  {
   "cell_type": "code",
   "execution_count": 303,
   "metadata": {},
   "outputs": [
    {
     "data": {
      "text/html": [
       "<div>\n",
       "<style scoped>\n",
       "    .dataframe tbody tr th:only-of-type {\n",
       "        vertical-align: middle;\n",
       "    }\n",
       "\n",
       "    .dataframe tbody tr th {\n",
       "        vertical-align: top;\n",
       "    }\n",
       "\n",
       "    .dataframe thead th {\n",
       "        text-align: right;\n",
       "    }\n",
       "</style>\n",
       "<table border=\"1\" class=\"dataframe\">\n",
       "  <thead>\n",
       "    <tr style=\"text-align: right;\">\n",
       "      <th></th>\n",
       "      <th>y_pred</th>\n",
       "      <th>y_test</th>\n",
       "      <th>residual</th>\n",
       "    </tr>\n",
       "  </thead>\n",
       "  <tbody>\n",
       "    <tr>\n",
       "      <th>count</th>\n",
       "      <td>2.750000e+02</td>\n",
       "      <td>2.750000e+02</td>\n",
       "      <td>2.750000e+02</td>\n",
       "    </tr>\n",
       "    <tr>\n",
       "      <th>mean</th>\n",
       "      <td>9.599640e+05</td>\n",
       "      <td>1.060768e+06</td>\n",
       "      <td>-1.008044e+05</td>\n",
       "    </tr>\n",
       "    <tr>\n",
       "      <th>std</th>\n",
       "      <td>5.230489e+05</td>\n",
       "      <td>6.823333e+05</td>\n",
       "      <td>3.647302e+05</td>\n",
       "    </tr>\n",
       "    <tr>\n",
       "      <th>min</th>\n",
       "      <td>1.912641e+05</td>\n",
       "      <td>1.300000e+05</td>\n",
       "      <td>-3.920248e+06</td>\n",
       "    </tr>\n",
       "    <tr>\n",
       "      <th>25%</th>\n",
       "      <td>6.062145e+05</td>\n",
       "      <td>6.965000e+05</td>\n",
       "      <td>-2.508244e+05</td>\n",
       "    </tr>\n",
       "    <tr>\n",
       "      <th>50%</th>\n",
       "      <td>8.673776e+05</td>\n",
       "      <td>9.500000e+05</td>\n",
       "      <td>-1.799531e+05</td>\n",
       "    </tr>\n",
       "    <tr>\n",
       "      <th>75%</th>\n",
       "      <td>1.175304e+06</td>\n",
       "      <td>1.260750e+06</td>\n",
       "      <td>1.687214e+05</td>\n",
       "    </tr>\n",
       "    <tr>\n",
       "      <th>max</th>\n",
       "      <td>3.779752e+06</td>\n",
       "      <td>7.700000e+06</td>\n",
       "      <td>1.359541e+06</td>\n",
       "    </tr>\n",
       "  </tbody>\n",
       "</table>\n",
       "</div>"
      ],
      "text/plain": [
       "             y_pred        y_test      residual\n",
       "count  2.750000e+02  2.750000e+02  2.750000e+02\n",
       "mean   9.599640e+05  1.060768e+06 -1.008044e+05\n",
       "std    5.230489e+05  6.823333e+05  3.647302e+05\n",
       "min    1.912641e+05  1.300000e+05 -3.920248e+06\n",
       "25%    6.062145e+05  6.965000e+05 -2.508244e+05\n",
       "50%    8.673776e+05  9.500000e+05 -1.799531e+05\n",
       "75%    1.175304e+06  1.260750e+06  1.687214e+05\n",
       "max    3.779752e+06  7.700000e+06  1.359541e+06"
      ]
     },
     "execution_count": 303,
     "metadata": {},
     "output_type": "execute_result"
    }
   ],
   "source": [
    "big_residual.describe()"
   ]
  },
  {
   "cell_type": "markdown",
   "metadata": {},
   "source": [
    "- 평균 `1,094,793` 가격대의 집들을 엄청 틀림"
   ]
  },
  {
   "cell_type": "code",
   "execution_count": 134,
   "metadata": {},
   "outputs": [
    {
     "data": {
      "image/png": "[encoded data removed]",
      "text/plain": [
       "<Figure size 432x288 with 1 Axes>"
      ]
     },
     "metadata": {
      "needs_background": "light"
     },
     "output_type": "display_data"
    }
   ],
   "source": [
    "sns.distplot(data['price'])\n",
    "plt.show()"
   ]
  },
  {
   "cell_type": "code",
   "execution_count": 138,
   "metadata": {},
   "outputs": [
    {
     "data": {
      "text/plain": [
       "count    1.503500e+04\n",
       "mean     5.406827e+05\n",
       "std      3.715247e+05\n",
       "min      7.800000e+04\n",
       "25%      3.220000e+05\n",
       "50%      4.500000e+05\n",
       "75%      6.450000e+05\n",
       "max      7.700000e+06\n",
       "Name: price, dtype: float64"
      ]
     },
     "execution_count": 138,
     "metadata": {},
     "output_type": "execute_result"
    }
   ],
   "source": [
    "data['price'].describe()"
   ]
  },
  {
   "cell_type": "markdown",
   "metadata": {},
   "source": [
    "- 원래 데이터 평균은 `540,682`"
   ]
  },
  {
   "cell_type": "markdown",
   "metadata": {},
   "source": [
    "## High Price House"
   ]
  },
  {
   "cell_type": "code",
   "execution_count": 304,
   "metadata": {},
   "outputs": [
    {
     "name": "stdout",
     "output_type": "stream",
     "text": [
      "(1018, 48)\n"
     ]
    },
    {
     "data": {
      "image/png": "[encoded data removed]",
      "text/plain": [
       "<Figure size 432x288 with 1 Axes>"
      ]
     },
     "metadata": {
      "needs_background": "light"
     },
     "output_type": "display_data"
    }
   ],
   "source": [
    "high_price = data[data['price'] > 1000000]\n",
    "print(high_price.shape)\n",
    "sns.distplot(high_price['price'])\n",
    "plt.show()"
   ]
  },
  {
   "cell_type": "code",
   "execution_count": 158,
   "metadata": {},
   "outputs": [
    {
     "data": {
      "text/plain": [
       "331100.2765915379"
      ]
     },
     "execution_count": 158,
     "metadata": {},
     "output_type": "execute_result"
    }
   ],
   "source": [
    "train_hp = high_price[features]\n",
    "label_hp = high_price['log_price']\n",
    "\n",
    "X_train, X_test, y_train, y_test = train_test_split(train_hp, label_hp, test_size=0.2)\n",
    "\n",
    "lgbm_high = LGBMRegressor()\n",
    "lgbm_high.fit(X_train, y_train)\n",
    "y_pred = lgbm_high.predict(X_test)\n",
    "\n",
    "np.sqrt(mean_squared_error(np.expm1(y_pred), np.expm1(y_test)))"
   ]
  },
  {
   "cell_type": "markdown",
   "metadata": {},
   "source": [
    "## XGB Bias"
   ]
  },
  {
   "cell_type": "code",
   "execution_count": 16,
   "metadata": {},
   "outputs": [
    {
     "name": "stdout",
     "output_type": "stream",
     "text": [
      "0 epoch running . . \n",
      "50 epoch running . . \n",
      "100 epoch running . . \n",
      "150 epoch running . . \n",
      "200 epoch running . . \n",
      "250 epoch running . . \n",
      "300 epoch running . . \n",
      "350 epoch running . . \n",
      "400 epoch running . . \n",
      "450 epoch running . . \n",
      "CPU times: user 2h 1min 18s, sys: 1.78 s, total: 2h 1min 20s\n",
      "Wall time: 2h 1min 20s\n"
     ]
    }
   ],
   "source": [
    "%%time\n",
    "residual_total = []\n",
    "y_pred_total = []\n",
    "y_test_total = []\n",
    "num_epoch = 500\n",
    "\n",
    "for i in range(num_epoch):\n",
    "    X_train, X_test, y_train, y_test = train_test_split(train, label, test_size=0.2)\n",
    "\n",
    "    xgb = XGBRegressor(n_estimators=793,\n",
    "                       max_depth=7,\n",
    "                       learning_rate=0.03939)\n",
    "\n",
    "    xgb.fit(X_train, y_train)\n",
    "    y_pred = xgb.predict(X_test)\n",
    "\n",
    "    y_pred = np.expm1(y_pred)\n",
    "    y_test = np.expm1(y_test)\n",
    "\n",
    "    residual = y_pred - y_test\n",
    "    \n",
    "    y_test_total.append(y_test.values)\n",
    "    y_pred_total.append(y_pred)\n",
    "    residual_total.append(residual.values)\n",
    "    \n",
    "    if i % (num_epoch//10) == 0:\n",
    "        print(\"{} epoch running . . \".format(i))"
   ]
  },
  {
   "cell_type": "code",
   "execution_count": 17,
   "metadata": {},
   "outputs": [
    {
     "data": {
      "text/plain": [
       "3007"
      ]
     },
     "execution_count": 17,
     "metadata": {},
     "output_type": "execute_result"
    }
   ],
   "source": [
    "len(residual_total[0])"
   ]
  },
  {
   "cell_type": "code",
   "execution_count": 18,
   "metadata": {
    "scrolled": true
   },
   "outputs": [
    {
     "data": {
      "text/plain": [
       "3007"
      ]
     },
     "execution_count": 18,
     "metadata": {},
     "output_type": "execute_result"
    }
   ],
   "source": [
    "residual_total_mean = np.mean(residual_total, axis=0)\n",
    "len(residual_total_mean)"
   ]
  },
  {
   "cell_type": "code",
   "execution_count": 19,
   "metadata": {},
   "outputs": [
    {
     "data": {
      "text/plain": [
       "-8132.662342804303"
      ]
     },
     "execution_count": 19,
     "metadata": {},
     "output_type": "execute_result"
    }
   ],
   "source": [
    "np.mean(residual_total_mean)"
   ]
  },
  {
   "cell_type": "markdown",
   "metadata": {},
   "source": [
    "- bias로 생각 가능"
   ]
  },
  {
   "cell_type": "markdown",
   "metadata": {},
   "source": [
    "---\n",
    "---"
   ]
  },
  {
   "cell_type": "code",
   "execution_count": 20,
   "metadata": {},
   "outputs": [],
   "source": [
    "X_sub = test[features]"
   ]
  },
  {
   "cell_type": "markdown",
   "metadata": {},
   "source": [
    "## XGB best model"
   ]
  },
  {
   "cell_type": "code",
   "execution_count": 21,
   "metadata": {},
   "outputs": [],
   "source": [
    "xgb = XGBRegressor(n_estimators=793,\n",
    "                   max_depth=7,\n",
    "                   learning_rate=0.03939)"
   ]
  },
  {
   "cell_type": "code",
   "execution_count": 22,
   "metadata": {},
   "outputs": [
    {
     "data": {
      "text/plain": [
       "array([13.168792, 13.01605 , 14.110845, ..., 13.082218, 12.68552 ,\n",
       "       13.031048], dtype=float32)"
      ]
     },
     "execution_count": 22,
     "metadata": {},
     "output_type": "execute_result"
    }
   ],
   "source": [
    "xgb.fit(train, label)\n",
    "y_pred = xgb.predict(X_sub)\n",
    "y_pred"
   ]
  },
  {
   "cell_type": "code",
   "execution_count": 51,
   "metadata": {
    "scrolled": true
   },
   "outputs": [
    {
     "data": {
      "text/html": [
       "<div>\n",
       "<style scoped>\n",
       "    .dataframe tbody tr th:only-of-type {\n",
       "        vertical-align: middle;\n",
       "    }\n",
       "\n",
       "    .dataframe tbody tr th {\n",
       "        vertical-align: top;\n",
       "    }\n",
       "\n",
       "    .dataframe thead th {\n",
       "        text-align: right;\n",
       "    }\n",
       "</style>\n",
       "<table border=\"1\" class=\"dataframe\">\n",
       "  <thead>\n",
       "    <tr style=\"text-align: right;\">\n",
       "      <th></th>\n",
       "      <th>id</th>\n",
       "      <th>price</th>\n",
       "    </tr>\n",
       "  </thead>\n",
       "  <tbody>\n",
       "    <tr>\n",
       "      <th>0</th>\n",
       "      <td>15035</td>\n",
       "      <td>4.942906e+05</td>\n",
       "    </tr>\n",
       "    <tr>\n",
       "      <th>1</th>\n",
       "      <td>15036</td>\n",
       "      <td>4.744508e+05</td>\n",
       "    </tr>\n",
       "    <tr>\n",
       "      <th>2</th>\n",
       "      <td>15037</td>\n",
       "      <td>1.256917e+06</td>\n",
       "    </tr>\n",
       "    <tr>\n",
       "      <th>3</th>\n",
       "      <td>15038</td>\n",
       "      <td>3.068664e+05</td>\n",
       "    </tr>\n",
       "    <tr>\n",
       "      <th>4</th>\n",
       "      <td>15039</td>\n",
       "      <td>2.861011e+05</td>\n",
       "    </tr>\n",
       "  </tbody>\n",
       "</table>\n",
       "</div>"
      ],
      "text/plain": [
       "      id         price\n",
       "0  15035  4.942906e+05\n",
       "1  15036  4.744508e+05\n",
       "2  15037  1.256917e+06\n",
       "3  15038  3.068664e+05\n",
       "4  15039  2.861011e+05"
      ]
     },
     "execution_count": 51,
     "metadata": {},
     "output_type": "execute_result"
    }
   ],
   "source": [
    "submission = LetSubmit(np.expm1(y_pred), \"xgb_test\")\n",
    "submission.head()"
   ]
  },
  {
   "cell_type": "markdown",
   "metadata": {},
   "source": [
    "> Submission : 107718"
   ]
  },
  {
   "cell_type": "markdown",
   "metadata": {},
   "source": [
    "### Bias 더하기 : ( 8132 )"
   ]
  },
  {
   "cell_type": "code",
   "execution_count": 23,
   "metadata": {},
   "outputs": [],
   "source": [
    "xgb = XGBRegressor(n_estimators=793,\n",
    "                   max_depth=7,\n",
    "                   learning_rate=0.03939)"
   ]
  },
  {
   "cell_type": "code",
   "execution_count": 24,
   "metadata": {},
   "outputs": [
    {
     "name": "stdout",
     "output_type": "stream",
     "text": [
      "CPU times: user 19 s, sys: 17.5 ms, total: 19 s\n",
      "Wall time: 19 s\n"
     ]
    }
   ],
   "source": [
    "%%time\n",
    "xgb.fit(train, label)\n",
    "y_pred = xgb.predict(X_sub)\n",
    "y_pred"
   ]
  },
  {
   "cell_type": "code",
   "execution_count": 25,
   "metadata": {
    "scrolled": true
   },
   "outputs": [
    {
     "data": {
      "text/plain": [
       "array([ 531892.5 ,  457702.56, 1351706.1 , ...,  488455.97,  331167.38,\n",
       "        464495.8 ], dtype=float32)"
      ]
     },
     "execution_count": 25,
     "metadata": {},
     "output_type": "execute_result"
    }
   ],
   "source": [
    "y_pred = np.expm1(y_pred) + 8132\n",
    "y_pred"
   ]
  },
  {
   "cell_type": "code",
   "execution_count": 26,
   "metadata": {
    "scrolled": false
   },
   "outputs": [
    {
     "data": {
      "text/html": [
       "<div>\n",
       "<style scoped>\n",
       "    .dataframe tbody tr th:only-of-type {\n",
       "        vertical-align: middle;\n",
       "    }\n",
       "\n",
       "    .dataframe tbody tr th {\n",
       "        vertical-align: top;\n",
       "    }\n",
       "\n",
       "    .dataframe thead th {\n",
       "        text-align: right;\n",
       "    }\n",
       "</style>\n",
       "<table border=\"1\" class=\"dataframe\">\n",
       "  <thead>\n",
       "    <tr style=\"text-align: right;\">\n",
       "      <th></th>\n",
       "      <th>id</th>\n",
       "      <th>price</th>\n",
       "    </tr>\n",
       "  </thead>\n",
       "  <tbody>\n",
       "    <tr>\n",
       "      <th>0</th>\n",
       "      <td>15035</td>\n",
       "      <td>531892.50</td>\n",
       "    </tr>\n",
       "    <tr>\n",
       "      <th>1</th>\n",
       "      <td>15036</td>\n",
       "      <td>457702.56</td>\n",
       "    </tr>\n",
       "    <tr>\n",
       "      <th>2</th>\n",
       "      <td>15037</td>\n",
       "      <td>1351706.10</td>\n",
       "    </tr>\n",
       "    <tr>\n",
       "      <th>3</th>\n",
       "      <td>15038</td>\n",
       "      <td>309375.60</td>\n",
       "    </tr>\n",
       "    <tr>\n",
       "      <th>4</th>\n",
       "      <td>15039</td>\n",
       "      <td>335234.03</td>\n",
       "    </tr>\n",
       "  </tbody>\n",
       "</table>\n",
       "</div>"
      ],
      "text/plain": [
       "      id       price\n",
       "0  15035   531892.50\n",
       "1  15036   457702.56\n",
       "2  15037  1351706.10\n",
       "3  15038   309375.60\n",
       "4  15039   335234.03"
      ]
     },
     "execution_count": 26,
     "metadata": {},
     "output_type": "execute_result"
    }
   ],
   "source": [
    "submission = LetSubmit(y_pred, \"tune_xgb_bias\")\n",
    "submission.head()"
   ]
  },
  {
   "cell_type": "markdown",
   "metadata": {},
   "source": [
    "> Submission : 107346"
   ]
  },
  {
   "cell_type": "markdown",
   "metadata": {},
   "source": [
    "- 확인"
   ]
  },
  {
   "cell_type": "code",
   "execution_count": 32,
   "metadata": {},
   "outputs": [
    {
     "data": {
      "text/plain": [
       "107473.57697592465"
      ]
     },
     "execution_count": 32,
     "metadata": {},
     "output_type": "execute_result"
    }
   ],
   "source": [
    "np.sqrt(107718 ** 2 - 8132 * 6468)"
   ]
  },
  {
   "cell_type": "markdown",
   "metadata": {},
   "source": [
    "---"
   ]
  },
  {
   "cell_type": "markdown",
   "metadata": {},
   "source": [
    "### y_pred로 residual을 예측해보자"
   ]
  },
  {
   "cell_type": "code",
   "execution_count": 119,
   "metadata": {},
   "outputs": [
    {
     "name": "stdout",
     "output_type": "stream",
     "text": [
      "(15035, 19) (15035,)\n"
     ]
    }
   ],
   "source": [
    "features = ['bedrooms', 'bathrooms', 'sqft_living', 'sqft_lot', 'floors', 'waterfront', 'view', \\\n",
    "            'condition', 'grade', 'sqft_above', 'sqft_basement', 'yr_built', 'yr_renovated', \\\n",
    "            'zipcode', 'lat', 'long', 'sqft_living15', 'sqft_lot15', 'year_month']\n",
    "\n",
    "train = data[features]\n",
    "data['log_price'] = np.log1p(data.price)\n",
    "label = data['log_price']\n",
    "\n",
    "print(train.shape, label.shape)"
   ]
  },
  {
   "cell_type": "code",
   "execution_count": 124,
   "metadata": {},
   "outputs": [
    {
     "name": "stdout",
     "output_type": "stream",
     "text": [
      "0 epoch running . . \n",
      "10 epoch running . . \n",
      "20 epoch running . . \n",
      "30 epoch running . . \n",
      "40 epoch running . . \n",
      "50 epoch running . . \n",
      "60 epoch running . . \n",
      "70 epoch running . . \n",
      "80 epoch running . . \n",
      "90 epoch running . . \n",
      "CPU times: user 44min 32s, sys: 18.9 s, total: 44min 51s\n",
      "Wall time: 27min 20s\n"
     ]
    }
   ],
   "source": [
    "%%time\n",
    "xgb_residual_total = []\n",
    "xgb_y_pred_total = []\n",
    "lgbm_residual_total = []\n",
    "lgbm_y_pred_total = []\n",
    "y_true_total = []\n",
    "num_epoch = 100\n",
    "\n",
    "for i in range(num_epoch):\n",
    "    X_train, X_test, y_train, y_test = train_test_split(train, label, test_size=0.2)\n",
    "\n",
    "    xgb = XGBRegressor(n_estimators=793,\n",
    "                       max_depth=7,\n",
    "                       learning_rate=0.03939)\n",
    "\n",
    "    lgbm = LGBMRegressor(n_estimators=900,\n",
    "                         max_depth=7,\n",
    "                         learning_rate=0.035)\n",
    "\n",
    "    xgb.fit(X_train, y_train)\n",
    "    xgb_y_pred = xgb.predict(X_test)\n",
    "    xgb_y_pred = np.expm1(xgb_y_pred)\n",
    "    xgb_y_pred_total.append(xgb_y_pred)\n",
    "\n",
    "    lgbm.fit(X_train, y_train)\n",
    "    lgbm_y_pred = lgbm.predict(X_test)\n",
    "    lgbm_y_pred = np.expm1(lgbm_y_pred)\n",
    "    lgbm_y_pred_total.append(lgbm_y_pred)\n",
    "    \n",
    "    y_test = np.expm1(y_test)\n",
    "    \n",
    "    xgb_residual = xgb_y_pred - y_test\n",
    "    lgbm_residual = lgbm_y_pred - y_test\n",
    "    xgb_residual_total.append(xgb_residual.values)\n",
    "    lgbm_residual_total.append(lgbm_residual.values)\n",
    "    \n",
    "    y_true_total.append(y_test.values)\n",
    "    \n",
    "    if i % (num_epoch//10) == 0:\n",
    "        print(\"{} epoch running . . \".format(i))"
   ]
  },
  {
   "cell_type": "code",
   "execution_count": 125,
   "metadata": {
    "scrolled": false
   },
   "outputs": [
    {
     "name": "stdout",
     "output_type": "stream",
     "text": [
      "(100, 3007)\n"
     ]
    }
   ],
   "source": [
    "y_true_df = pd.DataFrame(y_true_total)\n",
    "print(y_true_df.shape)"
   ]
  },
  {
   "cell_type": "code",
   "execution_count": 126,
   "metadata": {},
   "outputs": [
    {
     "name": "stdout",
     "output_type": "stream",
     "text": [
      "(100, 3007) (100, 3007)\n"
     ]
    }
   ],
   "source": [
    "xgb_y_pred_df = pd.DataFrame(xgb_y_pred_total)\n",
    "lgbm_y_pred_df = pd.DataFrame(lgbm_y_pred_total)\n",
    "print(xgb_y_pred_df.shape, lgbm_y_pred_df.shape)"
   ]
  },
  {
   "cell_type": "code",
   "execution_count": 127,
   "metadata": {},
   "outputs": [
    {
     "name": "stdout",
     "output_type": "stream",
     "text": [
      "(100, 3007) (100, 3007)\n"
     ]
    }
   ],
   "source": [
    "xgb_resid_df = pd.DataFrame(xgb_residual_total)\n",
    "lgbm_resid_df = pd.DataFrame(lgbm_residual_total)\n",
    "print(xgb_resid_df.shape, lgbm_resid_df.shape)"
   ]
  },
  {
   "cell_type": "markdown",
   "metadata": {},
   "source": [
    "#### long_true 만들기"
   ]
  },
  {
   "cell_type": "code",
   "execution_count": 128,
   "metadata": {},
   "outputs": [],
   "source": [
    "long_true = pd.DataFrame()\n",
    "\n",
    "for col in y_true_df.columns:\n",
    "    long_true = pd.concat([long_true, y_true_df[col]])"
   ]
  },
  {
   "cell_type": "code",
   "execution_count": 129,
   "metadata": {},
   "outputs": [
    {
     "name": "stdout",
     "output_type": "stream",
     "text": [
      "(300700, 1)\n"
     ]
    },
    {
     "data": {
      "text/html": [
       "<div>\n",
       "<style scoped>\n",
       "    .dataframe tbody tr th:only-of-type {\n",
       "        vertical-align: middle;\n",
       "    }\n",
       "\n",
       "    .dataframe tbody tr th {\n",
       "        vertical-align: top;\n",
       "    }\n",
       "\n",
       "    .dataframe thead th {\n",
       "        text-align: right;\n",
       "    }\n",
       "</style>\n",
       "<table border=\"1\" class=\"dataframe\">\n",
       "  <thead>\n",
       "    <tr style=\"text-align: right;\">\n",
       "      <th></th>\n",
       "      <th>y_true</th>\n",
       "    </tr>\n",
       "  </thead>\n",
       "  <tbody>\n",
       "    <tr>\n",
       "      <th>300695</th>\n",
       "      <td>269500.0</td>\n",
       "    </tr>\n",
       "    <tr>\n",
       "      <th>300696</th>\n",
       "      <td>245000.0</td>\n",
       "    </tr>\n",
       "    <tr>\n",
       "      <th>300697</th>\n",
       "      <td>535000.0</td>\n",
       "    </tr>\n",
       "    <tr>\n",
       "      <th>300698</th>\n",
       "      <td>518000.0</td>\n",
       "    </tr>\n",
       "    <tr>\n",
       "      <th>300699</th>\n",
       "      <td>369950.0</td>\n",
       "    </tr>\n",
       "  </tbody>\n",
       "</table>\n",
       "</div>"
      ],
      "text/plain": [
       "          y_true\n",
       "300695  269500.0\n",
       "300696  245000.0\n",
       "300697  535000.0\n",
       "300698  518000.0\n",
       "300699  369950.0"
      ]
     },
     "execution_count": 129,
     "metadata": {},
     "output_type": "execute_result"
    }
   ],
   "source": [
    "long_true = long_true.reset_index(drop=True)\n",
    "long_true = long_true.rename(columns={0: 'y_true'})\n",
    "print(long_true.shape)\n",
    "long_true.tail()"
   ]
  },
  {
   "cell_type": "markdown",
   "metadata": {},
   "source": [
    "#### long_pred 만들기"
   ]
  },
  {
   "cell_type": "code",
   "execution_count": 130,
   "metadata": {},
   "outputs": [],
   "source": [
    "xgb_long_pred = pd.DataFrame()\n",
    "\n",
    "for col in xgb_y_pred_df.columns:\n",
    "    xgb_long_pred = pd.concat([xgb_long_pred, xgb_y_pred_df[col]])"
   ]
  },
  {
   "cell_type": "code",
   "execution_count": 131,
   "metadata": {},
   "outputs": [],
   "source": [
    "lgbm_long_pred = pd.DataFrame()\n",
    "\n",
    "for col in lgbm_y_pred_df.columns:\n",
    "    lgbm_long_pred = pd.concat([lgbm_long_pred, lgbm_y_pred_df[col]])"
   ]
  },
  {
   "cell_type": "code",
   "execution_count": 132,
   "metadata": {},
   "outputs": [
    {
     "name": "stdout",
     "output_type": "stream",
     "text": [
      "(300700, 1)\n"
     ]
    },
    {
     "data": {
      "text/html": [
       "<div>\n",
       "<style scoped>\n",
       "    .dataframe tbody tr th:only-of-type {\n",
       "        vertical-align: middle;\n",
       "    }\n",
       "\n",
       "    .dataframe tbody tr th {\n",
       "        vertical-align: top;\n",
       "    }\n",
       "\n",
       "    .dataframe thead th {\n",
       "        text-align: right;\n",
       "    }\n",
       "</style>\n",
       "<table border=\"1\" class=\"dataframe\">\n",
       "  <thead>\n",
       "    <tr style=\"text-align: right;\">\n",
       "      <th></th>\n",
       "      <th>xgb_y_pred</th>\n",
       "    </tr>\n",
       "  </thead>\n",
       "  <tbody>\n",
       "    <tr>\n",
       "      <th>0</th>\n",
       "      <td>726184.437500</td>\n",
       "    </tr>\n",
       "    <tr>\n",
       "      <th>1</th>\n",
       "      <td>985607.875000</td>\n",
       "    </tr>\n",
       "    <tr>\n",
       "      <th>2</th>\n",
       "      <td>207045.921875</td>\n",
       "    </tr>\n",
       "    <tr>\n",
       "      <th>3</th>\n",
       "      <td>517096.031250</td>\n",
       "    </tr>\n",
       "    <tr>\n",
       "      <th>4</th>\n",
       "      <td>715452.500000</td>\n",
       "    </tr>\n",
       "  </tbody>\n",
       "</table>\n",
       "</div>"
      ],
      "text/plain": [
       "      xgb_y_pred\n",
       "0  726184.437500\n",
       "1  985607.875000\n",
       "2  207045.921875\n",
       "3  517096.031250\n",
       "4  715452.500000"
      ]
     },
     "execution_count": 132,
     "metadata": {},
     "output_type": "execute_result"
    }
   ],
   "source": [
    "xgb_long_pred = xgb_long_pred.reset_index(drop=True)\n",
    "xgb_long_pred = xgb_long_pred.rename(columns={0: 'xgb_y_pred'})\n",
    "print(xgb_long_pred.shape)\n",
    "xgb_long_pred.head()"
   ]
  },
  {
   "cell_type": "code",
   "execution_count": 133,
   "metadata": {},
   "outputs": [
    {
     "name": "stdout",
     "output_type": "stream",
     "text": [
      "(300700, 1)\n"
     ]
    },
    {
     "data": {
      "text/html": [
       "<div>\n",
       "<style scoped>\n",
       "    .dataframe tbody tr th:only-of-type {\n",
       "        vertical-align: middle;\n",
       "    }\n",
       "\n",
       "    .dataframe tbody tr th {\n",
       "        vertical-align: top;\n",
       "    }\n",
       "\n",
       "    .dataframe thead th {\n",
       "        text-align: right;\n",
       "    }\n",
       "</style>\n",
       "<table border=\"1\" class=\"dataframe\">\n",
       "  <thead>\n",
       "    <tr style=\"text-align: right;\">\n",
       "      <th></th>\n",
       "      <th>lgbm_y_pred</th>\n",
       "    </tr>\n",
       "  </thead>\n",
       "  <tbody>\n",
       "    <tr>\n",
       "      <th>0</th>\n",
       "      <td>7.572022e+05</td>\n",
       "    </tr>\n",
       "    <tr>\n",
       "      <th>1</th>\n",
       "      <td>1.084701e+06</td>\n",
       "    </tr>\n",
       "    <tr>\n",
       "      <th>2</th>\n",
       "      <td>2.061704e+05</td>\n",
       "    </tr>\n",
       "    <tr>\n",
       "      <th>3</th>\n",
       "      <td>5.180918e+05</td>\n",
       "    </tr>\n",
       "    <tr>\n",
       "      <th>4</th>\n",
       "      <td>7.468535e+05</td>\n",
       "    </tr>\n",
       "  </tbody>\n",
       "</table>\n",
       "</div>"
      ],
      "text/plain": [
       "    lgbm_y_pred\n",
       "0  7.572022e+05\n",
       "1  1.084701e+06\n",
       "2  2.061704e+05\n",
       "3  5.180918e+05\n",
       "4  7.468535e+05"
      ]
     },
     "execution_count": 133,
     "metadata": {},
     "output_type": "execute_result"
    }
   ],
   "source": [
    "lgbm_long_pred = lgbm_long_pred.reset_index(drop=True)\n",
    "lgbm_long_pred = lgbm_long_pred.rename(columns={0: 'lgbm_y_pred'})\n",
    "print(lgbm_long_pred.shape)\n",
    "lgbm_long_pred.head()"
   ]
  },
  {
   "cell_type": "markdown",
   "metadata": {},
   "source": [
    "#### long_resid 만들기"
   ]
  },
  {
   "cell_type": "code",
   "execution_count": 138,
   "metadata": {},
   "outputs": [],
   "source": [
    "xgb_long_resid = pd.DataFrame()\n",
    "\n",
    "for col in xgb_resid_df.columns:\n",
    "    xgb_long_resid = pd.concat([xgb_long_resid, xgb_resid_df[col]])"
   ]
  },
  {
   "cell_type": "code",
   "execution_count": 139,
   "metadata": {},
   "outputs": [],
   "source": [
    "lgbm_long_resid = pd.DataFrame()\n",
    "\n",
    "for col in lgbm_resid_df.columns:\n",
    "    lgbm_long_resid = pd.concat([lgbm_long_resid, lgbm_resid_df[col]])"
   ]
  },
  {
   "cell_type": "code",
   "execution_count": 140,
   "metadata": {},
   "outputs": [
    {
     "name": "stdout",
     "output_type": "stream",
     "text": [
      "(300700, 1)\n"
     ]
    },
    {
     "data": {
      "text/html": [
       "<div>\n",
       "<style scoped>\n",
       "    .dataframe tbody tr th:only-of-type {\n",
       "        vertical-align: middle;\n",
       "    }\n",
       "\n",
       "    .dataframe tbody tr th {\n",
       "        vertical-align: top;\n",
       "    }\n",
       "\n",
       "    .dataframe thead th {\n",
       "        text-align: right;\n",
       "    }\n",
       "</style>\n",
       "<table border=\"1\" class=\"dataframe\">\n",
       "  <thead>\n",
       "    <tr style=\"text-align: right;\">\n",
       "      <th></th>\n",
       "      <th>xgb_residual</th>\n",
       "    </tr>\n",
       "  </thead>\n",
       "  <tbody>\n",
       "    <tr>\n",
       "      <th>300695</th>\n",
       "      <td>-13118.00000</td>\n",
       "    </tr>\n",
       "    <tr>\n",
       "      <th>300696</th>\n",
       "      <td>-19405.68750</td>\n",
       "    </tr>\n",
       "    <tr>\n",
       "      <th>300697</th>\n",
       "      <td>70172.56250</td>\n",
       "    </tr>\n",
       "    <tr>\n",
       "      <th>300698</th>\n",
       "      <td>132452.81250</td>\n",
       "    </tr>\n",
       "    <tr>\n",
       "      <th>300699</th>\n",
       "      <td>-44021.28125</td>\n",
       "    </tr>\n",
       "  </tbody>\n",
       "</table>\n",
       "</div>"
      ],
      "text/plain": [
       "        xgb_residual\n",
       "300695  -13118.00000\n",
       "300696  -19405.68750\n",
       "300697   70172.56250\n",
       "300698  132452.81250\n",
       "300699  -44021.28125"
      ]
     },
     "execution_count": 140,
     "metadata": {},
     "output_type": "execute_result"
    }
   ],
   "source": [
    "xgb_long_resid = xgb_long_resid.reset_index(drop=True)\n",
    "xgb_long_resid = xgb_long_resid.rename(columns={0: 'xgb_residual'})\n",
    "print(xgb_long_resid.shape)\n",
    "xgb_long_resid.tail()"
   ]
  },
  {
   "cell_type": "code",
   "execution_count": 141,
   "metadata": {},
   "outputs": [
    {
     "name": "stdout",
     "output_type": "stream",
     "text": [
      "(300700, 1)\n"
     ]
    },
    {
     "data": {
      "text/html": [
       "<div>\n",
       "<style scoped>\n",
       "    .dataframe tbody tr th:only-of-type {\n",
       "        vertical-align: middle;\n",
       "    }\n",
       "\n",
       "    .dataframe tbody tr th {\n",
       "        vertical-align: top;\n",
       "    }\n",
       "\n",
       "    .dataframe thead th {\n",
       "        text-align: right;\n",
       "    }\n",
       "</style>\n",
       "<table border=\"1\" class=\"dataframe\">\n",
       "  <thead>\n",
       "    <tr style=\"text-align: right;\">\n",
       "      <th></th>\n",
       "      <th>lgbm_residual</th>\n",
       "    </tr>\n",
       "  </thead>\n",
       "  <tbody>\n",
       "    <tr>\n",
       "      <th>300695</th>\n",
       "      <td>-17904.584980</td>\n",
       "    </tr>\n",
       "    <tr>\n",
       "      <th>300696</th>\n",
       "      <td>-8668.534570</td>\n",
       "    </tr>\n",
       "    <tr>\n",
       "      <th>300697</th>\n",
       "      <td>71445.790631</td>\n",
       "    </tr>\n",
       "    <tr>\n",
       "      <th>300698</th>\n",
       "      <td>144145.991445</td>\n",
       "    </tr>\n",
       "    <tr>\n",
       "      <th>300699</th>\n",
       "      <td>-43293.944748</td>\n",
       "    </tr>\n",
       "  </tbody>\n",
       "</table>\n",
       "</div>"
      ],
      "text/plain": [
       "        lgbm_residual\n",
       "300695  -17904.584980\n",
       "300696   -8668.534570\n",
       "300697   71445.790631\n",
       "300698  144145.991445\n",
       "300699  -43293.944748"
      ]
     },
     "execution_count": 141,
     "metadata": {},
     "output_type": "execute_result"
    }
   ],
   "source": [
    "lgbm_long_resid = lgbm_long_resid.reset_index(drop=True)\n",
    "lgbm_long_resid = lgbm_long_resid.rename(columns={0: 'lgbm_residual'})\n",
    "print(lgbm_long_resid.shape)\n",
    "lgbm_long_resid.tail()"
   ]
  },
  {
   "cell_type": "markdown",
   "metadata": {},
   "source": [
    "#### 셋 합치기"
   ]
  },
  {
   "cell_type": "code",
   "execution_count": 143,
   "metadata": {},
   "outputs": [
    {
     "name": "stdout",
     "output_type": "stream",
     "text": [
      "(300700, 1)\n",
      "(300700, 1)\n",
      "(300700, 1)\n",
      "(300700, 1)\n",
      "(300700, 1)\n"
     ]
    }
   ],
   "source": [
    "print(long_true.shape)\n",
    "print(xgb_long_pred.shape)\n",
    "print(lgbm_long_pred.shape)\n",
    "print(xgb_long_resid.shape)\n",
    "print(lgbm_long_resid.shape)"
   ]
  },
  {
   "cell_type": "code",
   "execution_count": 148,
   "metadata": {},
   "outputs": [
    {
     "name": "stdout",
     "output_type": "stream",
     "text": [
      "(300700, 5)\n"
     ]
    },
    {
     "data": {
      "text/html": [
       "<div>\n",
       "<style scoped>\n",
       "    .dataframe tbody tr th:only-of-type {\n",
       "        vertical-align: middle;\n",
       "    }\n",
       "\n",
       "    .dataframe tbody tr th {\n",
       "        vertical-align: top;\n",
       "    }\n",
       "\n",
       "    .dataframe thead th {\n",
       "        text-align: right;\n",
       "    }\n",
       "</style>\n",
       "<table border=\"1\" class=\"dataframe\">\n",
       "  <thead>\n",
       "    <tr style=\"text-align: right;\">\n",
       "      <th></th>\n",
       "      <th>y_true</th>\n",
       "      <th>xgb_y_pred</th>\n",
       "      <th>lgbm_y_pred</th>\n",
       "      <th>xgb_residual</th>\n",
       "      <th>lgbm_residual</th>\n",
       "    </tr>\n",
       "  </thead>\n",
       "  <tbody>\n",
       "    <tr>\n",
       "      <th>300695</th>\n",
       "      <td>269500.0</td>\n",
       "      <td>256382.00000</td>\n",
       "      <td>251595.415020</td>\n",
       "      <td>-13118.00000</td>\n",
       "      <td>-17904.584980</td>\n",
       "    </tr>\n",
       "    <tr>\n",
       "      <th>300696</th>\n",
       "      <td>245000.0</td>\n",
       "      <td>225594.31250</td>\n",
       "      <td>236331.465430</td>\n",
       "      <td>-19405.68750</td>\n",
       "      <td>-8668.534570</td>\n",
       "    </tr>\n",
       "    <tr>\n",
       "      <th>300697</th>\n",
       "      <td>535000.0</td>\n",
       "      <td>605172.56250</td>\n",
       "      <td>606445.790631</td>\n",
       "      <td>70172.56250</td>\n",
       "      <td>71445.790631</td>\n",
       "    </tr>\n",
       "    <tr>\n",
       "      <th>300698</th>\n",
       "      <td>518000.0</td>\n",
       "      <td>650452.81250</td>\n",
       "      <td>662145.991445</td>\n",
       "      <td>132452.81250</td>\n",
       "      <td>144145.991445</td>\n",
       "    </tr>\n",
       "    <tr>\n",
       "      <th>300699</th>\n",
       "      <td>369950.0</td>\n",
       "      <td>325928.71875</td>\n",
       "      <td>326656.055252</td>\n",
       "      <td>-44021.28125</td>\n",
       "      <td>-43293.944748</td>\n",
       "    </tr>\n",
       "  </tbody>\n",
       "</table>\n",
       "</div>"
      ],
      "text/plain": [
       "          y_true    xgb_y_pred    lgbm_y_pred  xgb_residual  lgbm_residual\n",
       "300695  269500.0  256382.00000  251595.415020  -13118.00000  -17904.584980\n",
       "300696  245000.0  225594.31250  236331.465430  -19405.68750   -8668.534570\n",
       "300697  535000.0  605172.56250  606445.790631   70172.56250   71445.790631\n",
       "300698  518000.0  650452.81250  662145.991445  132452.81250  144145.991445\n",
       "300699  369950.0  325928.71875  326656.055252  -44021.28125  -43293.944748"
      ]
     },
     "execution_count": 148,
     "metadata": {},
     "output_type": "execute_result"
    }
   ],
   "source": [
    "meta_data = pd.DataFrame(columns=['y_true', 'xgb_y_pred', 'lgbm_y_pred', 'xgb_residual', 'lgbm_residual'])\n",
    "meta_data['y_true'] = long_true['y_true'].values\n",
    "meta_data['xgb_y_pred'] = xgb_long_pred['xgb_y_pred'].values\n",
    "meta_data['lgbm_y_pred'] = lgbm_long_pred['lgbm_y_pred'].values\n",
    "meta_data['xgb_residual'] = xgb_long_resid['xgb_residual'].values\n",
    "meta_data['lgbm_residual'] = lgbm_long_resid['lgbm_residual'].values\n",
    "print(meta_data.shape)\n",
    "meta_data.tail()"
   ]
  },
  {
   "cell_type": "code",
   "execution_count": 149,
   "metadata": {},
   "outputs": [
    {
     "data": {
      "text/html": [
       "<div>\n",
       "<style scoped>\n",
       "    .dataframe tbody tr th:only-of-type {\n",
       "        vertical-align: middle;\n",
       "    }\n",
       "\n",
       "    .dataframe tbody tr th {\n",
       "        vertical-align: top;\n",
       "    }\n",
       "\n",
       "    .dataframe thead th {\n",
       "        text-align: right;\n",
       "    }\n",
       "</style>\n",
       "<table border=\"1\" class=\"dataframe\">\n",
       "  <thead>\n",
       "    <tr style=\"text-align: right;\">\n",
       "      <th></th>\n",
       "      <th>y_true</th>\n",
       "      <th>xgb_y_pred</th>\n",
       "      <th>lgbm_y_pred</th>\n",
       "      <th>xgb_residual</th>\n",
       "      <th>lgbm_residual</th>\n",
       "      <th>mean_residual</th>\n",
       "    </tr>\n",
       "  </thead>\n",
       "  <tbody>\n",
       "    <tr>\n",
       "      <th>300695</th>\n",
       "      <td>269500.0</td>\n",
       "      <td>256382.00000</td>\n",
       "      <td>251595.415020</td>\n",
       "      <td>-13118.00000</td>\n",
       "      <td>-17904.584980</td>\n",
       "      <td>-15511.292490</td>\n",
       "    </tr>\n",
       "    <tr>\n",
       "      <th>300696</th>\n",
       "      <td>245000.0</td>\n",
       "      <td>225594.31250</td>\n",
       "      <td>236331.465430</td>\n",
       "      <td>-19405.68750</td>\n",
       "      <td>-8668.534570</td>\n",
       "      <td>-14037.111035</td>\n",
       "    </tr>\n",
       "    <tr>\n",
       "      <th>300697</th>\n",
       "      <td>535000.0</td>\n",
       "      <td>605172.56250</td>\n",
       "      <td>606445.790631</td>\n",
       "      <td>70172.56250</td>\n",
       "      <td>71445.790631</td>\n",
       "      <td>70809.176566</td>\n",
       "    </tr>\n",
       "    <tr>\n",
       "      <th>300698</th>\n",
       "      <td>518000.0</td>\n",
       "      <td>650452.81250</td>\n",
       "      <td>662145.991445</td>\n",
       "      <td>132452.81250</td>\n",
       "      <td>144145.991445</td>\n",
       "      <td>138299.401972</td>\n",
       "    </tr>\n",
       "    <tr>\n",
       "      <th>300699</th>\n",
       "      <td>369950.0</td>\n",
       "      <td>325928.71875</td>\n",
       "      <td>326656.055252</td>\n",
       "      <td>-44021.28125</td>\n",
       "      <td>-43293.944748</td>\n",
       "      <td>-43657.612999</td>\n",
       "    </tr>\n",
       "  </tbody>\n",
       "</table>\n",
       "</div>"
      ],
      "text/plain": [
       "          y_true    xgb_y_pred    lgbm_y_pred  xgb_residual  lgbm_residual  \\\n",
       "300695  269500.0  256382.00000  251595.415020  -13118.00000  -17904.584980   \n",
       "300696  245000.0  225594.31250  236331.465430  -19405.68750   -8668.534570   \n",
       "300697  535000.0  605172.56250  606445.790631   70172.56250   71445.790631   \n",
       "300698  518000.0  650452.81250  662145.991445  132452.81250  144145.991445   \n",
       "300699  369950.0  325928.71875  326656.055252  -44021.28125  -43293.944748   \n",
       "\n",
       "        mean_residual  \n",
       "300695  -15511.292490  \n",
       "300696  -14037.111035  \n",
       "300697   70809.176566  \n",
       "300698  138299.401972  \n",
       "300699  -43657.612999  "
      ]
     },
     "execution_count": 149,
     "metadata": {},
     "output_type": "execute_result"
    }
   ],
   "source": [
    "meta_data['mean_residual'] = (meta_data.xgb_residual + meta_data.lgbm_residual) / 2\n",
    "meta_data.tail()"
   ]
  },
  {
   "cell_type": "code",
   "execution_count": 266,
   "metadata": {},
   "outputs": [
    {
     "name": "stdout",
     "output_type": "stream",
     "text": [
      "156161\n",
      "144539\n"
     ]
    }
   ],
   "source": [
    "print(len(meta_data[meta_data['mean_residual'] < 0]))\n",
    "print(len(meta_data[meta_data['mean_residual'] > 0]))"
   ]
  },
  {
   "cell_type": "markdown",
   "metadata": {},
   "source": [
    "### 1000000 이상의 집들의 residual의 평균"
   ]
  },
  {
   "cell_type": "code",
   "execution_count": 325,
   "metadata": {},
   "outputs": [
    {
     "data": {
      "text/html": [
       "<div>\n",
       "<style scoped>\n",
       "    .dataframe tbody tr th:only-of-type {\n",
       "        vertical-align: middle;\n",
       "    }\n",
       "\n",
       "    .dataframe tbody tr th {\n",
       "        vertical-align: top;\n",
       "    }\n",
       "\n",
       "    .dataframe thead th {\n",
       "        text-align: right;\n",
       "    }\n",
       "</style>\n",
       "<table border=\"1\" class=\"dataframe\">\n",
       "  <thead>\n",
       "    <tr style=\"text-align: right;\">\n",
       "      <th></th>\n",
       "      <th>y_true</th>\n",
       "      <th>xgb_y_pred</th>\n",
       "      <th>lgbm_y_pred</th>\n",
       "      <th>xgb_residual</th>\n",
       "      <th>lgbm_residual</th>\n",
       "      <th>mean_residual</th>\n",
       "    </tr>\n",
       "  </thead>\n",
       "  <tbody>\n",
       "    <tr>\n",
       "      <th>count</th>\n",
       "      <td>3.007000e+05</td>\n",
       "      <td>3.007000e+05</td>\n",
       "      <td>3.007000e+05</td>\n",
       "      <td>3.007000e+05</td>\n",
       "      <td>3.007000e+05</td>\n",
       "      <td>3.007000e+05</td>\n",
       "    </tr>\n",
       "    <tr>\n",
       "      <th>mean</th>\n",
       "      <td>5.401845e+05</td>\n",
       "      <td>5.321358e+05</td>\n",
       "      <td>5.329676e+05</td>\n",
       "      <td>-8.048663e+03</td>\n",
       "      <td>-7.216900e+03</td>\n",
       "      <td>-7.632782e+03</td>\n",
       "    </tr>\n",
       "    <tr>\n",
       "      <th>std</th>\n",
       "      <td>3.703837e+05</td>\n",
       "      <td>3.361013e+05</td>\n",
       "      <td>3.424060e+05</td>\n",
       "      <td>1.187099e+05</td>\n",
       "      <td>1.171557e+05</td>\n",
       "      <td>1.158514e+05</td>\n",
       "    </tr>\n",
       "    <tr>\n",
       "      <th>min</th>\n",
       "      <td>7.800000e+04</td>\n",
       "      <td>8.103916e+04</td>\n",
       "      <td>1.072561e+05</td>\n",
       "      <td>-4.929443e+06</td>\n",
       "      <td>-4.282844e+06</td>\n",
       "      <td>-4.426151e+06</td>\n",
       "    </tr>\n",
       "    <tr>\n",
       "      <th>25%</th>\n",
       "      <td>3.220000e+05</td>\n",
       "      <td>3.204992e+05</td>\n",
       "      <td>3.212875e+05</td>\n",
       "      <td>-3.772241e+04</td>\n",
       "      <td>-3.795160e+04</td>\n",
       "      <td>-3.716470e+04</td>\n",
       "    </tr>\n",
       "    <tr>\n",
       "      <th>50%</th>\n",
       "      <td>4.500000e+05</td>\n",
       "      <td>4.525043e+05</td>\n",
       "      <td>4.535405e+05</td>\n",
       "      <td>-2.372891e+03</td>\n",
       "      <td>-2.306331e+03</td>\n",
       "      <td>-2.274310e+03</td>\n",
       "    </tr>\n",
       "    <tr>\n",
       "      <th>75%</th>\n",
       "      <td>6.450000e+05</td>\n",
       "      <td>6.333663e+05</td>\n",
       "      <td>6.324377e+05</td>\n",
       "      <td>3.341533e+04</td>\n",
       "      <td>3.403920e+04</td>\n",
       "      <td>3.320996e+04</td>\n",
       "    </tr>\n",
       "    <tr>\n",
       "      <th>max</th>\n",
       "      <td>7.700000e+06</td>\n",
       "      <td>6.429766e+06</td>\n",
       "      <td>6.339121e+06</td>\n",
       "      <td>1.618376e+06</td>\n",
       "      <td>1.518676e+06</td>\n",
       "      <td>1.495833e+06</td>\n",
       "    </tr>\n",
       "  </tbody>\n",
       "</table>\n",
       "</div>"
      ],
      "text/plain": [
       "             y_true    xgb_y_pred   lgbm_y_pred  xgb_residual  lgbm_residual  \\\n",
       "count  3.007000e+05  3.007000e+05  3.007000e+05  3.007000e+05   3.007000e+05   \n",
       "mean   5.401845e+05  5.321358e+05  5.329676e+05 -8.048663e+03  -7.216900e+03   \n",
       "std    3.703837e+05  3.361013e+05  3.424060e+05  1.187099e+05   1.171557e+05   \n",
       "min    7.800000e+04  8.103916e+04  1.072561e+05 -4.929443e+06  -4.282844e+06   \n",
       "25%    3.220000e+05  3.204992e+05  3.212875e+05 -3.772241e+04  -3.795160e+04   \n",
       "50%    4.500000e+05  4.525043e+05  4.535405e+05 -2.372891e+03  -2.306331e+03   \n",
       "75%    6.450000e+05  6.333663e+05  6.324377e+05  3.341533e+04   3.403920e+04   \n",
       "max    7.700000e+06  6.429766e+06  6.339121e+06  1.618376e+06   1.518676e+06   \n",
       "\n",
       "       mean_residual  \n",
       "count   3.007000e+05  \n",
       "mean   -7.632782e+03  \n",
       "std     1.158514e+05  \n",
       "min    -4.426151e+06  \n",
       "25%    -3.716470e+04  \n",
       "50%    -2.274310e+03  \n",
       "75%     3.320996e+04  \n",
       "max     1.495833e+06  "
      ]
     },
     "execution_count": 325,
     "metadata": {},
     "output_type": "execute_result"
    }
   ],
   "source": [
    "meta_data.describe()"
   ]
  },
  {
   "cell_type": "code",
   "execution_count": 326,
   "metadata": {},
   "outputs": [
    {
     "data": {
      "text/plain": [
       "632437.7113975512"
      ]
     },
     "execution_count": 326,
     "metadata": {},
     "output_type": "execute_result"
    }
   ],
   "source": [
    "np.percentile(meta_data['lgbm_y_pred'], 75)"
   ]
  },
  {
   "cell_type": "code",
   "execution_count": 327,
   "metadata": {},
   "outputs": [
    {
     "data": {
      "text/plain": [
       "321287.4559742334"
      ]
     },
     "execution_count": 327,
     "metadata": {},
     "output_type": "execute_result"
    }
   ],
   "source": [
    "np.percentile(meta_data['lgbm_y_pred'], 25)"
   ]
  },
  {
   "cell_type": "code",
   "execution_count": 329,
   "metadata": {},
   "outputs": [
    {
     "data": {
      "text/plain": [
       "466725.0"
      ]
     },
     "execution_count": 329,
     "metadata": {},
     "output_type": "execute_result"
    }
   ],
   "source": [
    "(632437 - 321287) * 1.5"
   ]
  },
  {
   "cell_type": "code",
   "execution_count": 330,
   "metadata": {},
   "outputs": [
    {
     "data": {
      "text/plain": [
       "1099162"
      ]
     },
     "execution_count": 330,
     "metadata": {},
     "output_type": "execute_result"
    }
   ],
   "source": [
    "632437 + 466725"
   ]
  },
  {
   "cell_type": "code",
   "execution_count": 331,
   "metadata": {},
   "outputs": [
    {
     "data": {
      "text/plain": [
       "15507"
      ]
     },
     "execution_count": 331,
     "metadata": {},
     "output_type": "execute_result"
    }
   ],
   "source": [
    "len(meta_data[meta_data['lgbm_y_pred'] > 1099162])"
   ]
  },
  {
   "cell_type": "code",
   "execution_count": 332,
   "metadata": {},
   "outputs": [
    {
     "data": {
      "text/plain": [
       "-53874.015455148896"
      ]
     },
     "execution_count": 332,
     "metadata": {},
     "output_type": "execute_result"
    }
   ],
   "source": [
    "meta_data[meta_data['lgbm_y_pred'] > 1099162]['mean_residual'].mean()"
   ]
  },
  {
   "cell_type": "markdown",
   "metadata": {},
   "source": [
    "- y_pred가 1099162 이상인 집들은 53874을 더해보자"
   ]
  },
  {
   "cell_type": "markdown",
   "metadata": {},
   "source": [
    "### y_test, residual로 학습시키기"
   ]
  },
  {
   "cell_type": "code",
   "execution_count": 287,
   "metadata": {},
   "outputs": [
    {
     "data": {
      "text/plain": [
       "(300700, 300700)"
      ]
     },
     "execution_count": 287,
     "metadata": {},
     "output_type": "execute_result"
    }
   ],
   "source": [
    "# meta_train = meta_data[np.abs(meta_data['lgbm_y_pred']) > 3000000][['lgbm_y_pred']]\n",
    "# meta_label = meta_data[np.abs(meta_data['lgbm_y_pred']) > 3000000]['mean_residual']\n",
    "meta_train = meta_data[['lgbm_y_pred']]\n",
    "meta_label = meta_data['mean_residual']\n",
    "len(meta_train), len(meta_label)"
   ]
  },
  {
   "cell_type": "code",
   "execution_count": 290,
   "metadata": {},
   "outputs": [
    {
     "data": {
      "text/html": [
       "<div>\n",
       "<style scoped>\n",
       "    .dataframe tbody tr th:only-of-type {\n",
       "        vertical-align: middle;\n",
       "    }\n",
       "\n",
       "    .dataframe tbody tr th {\n",
       "        vertical-align: top;\n",
       "    }\n",
       "\n",
       "    .dataframe thead th {\n",
       "        text-align: right;\n",
       "    }\n",
       "</style>\n",
       "<table border=\"1\" class=\"dataframe\">\n",
       "  <thead>\n",
       "    <tr style=\"text-align: right;\">\n",
       "      <th></th>\n",
       "      <th>y_test</th>\n",
       "      <th>y_pred</th>\n",
       "      <th>meta_resid</th>\n",
       "    </tr>\n",
       "  </thead>\n",
       "  <tbody>\n",
       "    <tr>\n",
       "      <th>60135</th>\n",
       "      <td>95706.310383</td>\n",
       "      <td>-3635.773804</td>\n",
       "      <td>-99342.084187</td>\n",
       "    </tr>\n",
       "    <tr>\n",
       "      <th>60136</th>\n",
       "      <td>-82021.226442</td>\n",
       "      <td>-6621.089898</td>\n",
       "      <td>75400.136544</td>\n",
       "    </tr>\n",
       "    <tr>\n",
       "      <th>60137</th>\n",
       "      <td>12235.528941</td>\n",
       "      <td>2593.517651</td>\n",
       "      <td>-9642.011290</td>\n",
       "    </tr>\n",
       "    <tr>\n",
       "      <th>60138</th>\n",
       "      <td>-2149.419468</td>\n",
       "      <td>-1022.880672</td>\n",
       "      <td>1126.538796</td>\n",
       "    </tr>\n",
       "    <tr>\n",
       "      <th>60139</th>\n",
       "      <td>717429.672906</td>\n",
       "      <td>-52834.806768</td>\n",
       "      <td>-770264.479674</td>\n",
       "    </tr>\n",
       "  </tbody>\n",
       "</table>\n",
       "</div>"
      ],
      "text/plain": [
       "              y_test        y_pred     meta_resid\n",
       "60135   95706.310383  -3635.773804  -99342.084187\n",
       "60136  -82021.226442  -6621.089898   75400.136544\n",
       "60137   12235.528941   2593.517651   -9642.011290\n",
       "60138   -2149.419468  -1022.880672    1126.538796\n",
       "60139  717429.672906 -52834.806768 -770264.479674"
      ]
     },
     "execution_count": 290,
     "metadata": {},
     "output_type": "execute_result"
    }
   ],
   "source": [
    "X_train, X_test, y_train, y_test = train_test_split(meta_train, meta_label, test_size=0.2)\n",
    "\n",
    "# pipeline_model = Pipeline([('poly', PolynomialFeatures(degree=2)), ('linear', LinearRegression())])\n",
    "# pipeline_model.fit(X_train, y_train)\n",
    "# y_pred = pipeline_model.predict(X_test)\n",
    "\n",
    "meta_model = LinearRegression()\n",
    "meta_model.fit(X_train, y_train)\n",
    "y_pred = meta_model.predict(X_test)\n",
    "\n",
    "# np.sqrt(mean_squared_error(y_pred, y_test))\n",
    "meta_df = pd.DataFrame([y_test.values, y_pred]).T\n",
    "meta_df = meta_df.rename(columns={0: 'y_test', 1: 'y_pred'})\n",
    "meta_df['meta_resid'] = meta_df.y_pred - meta_df.y_test\n",
    "meta_df.tail()"
   ]
  },
  {
   "cell_type": "code",
   "execution_count": 291,
   "metadata": {},
   "outputs": [
    {
     "data": {
      "image/png": "[encoded data removed]",
      "text/plain": [
       "<Figure size 432x288 with 1 Axes>"
      ]
     },
     "metadata": {
      "needs_background": "light"
     },
     "output_type": "display_data"
    }
   ],
   "source": [
    "plt.scatter(x=X_test.values, y=y_test)\n",
    "plt.scatter(x=X_test.values, y=y_pred)\n",
    "plt.show()"
   ]
  },
  {
   "cell_type": "code",
   "execution_count": 284,
   "metadata": {},
   "outputs": [
    {
     "data": {
      "text/plain": [
       "1103259.7866817715"
      ]
     },
     "execution_count": 284,
     "metadata": {},
     "output_type": "execute_result"
    }
   ],
   "source": [
    "np.sqrt(mean_squared_error(y_pred, y_test))"
   ]
  },
  {
   "cell_type": "code",
   "execution_count": 285,
   "metadata": {},
   "outputs": [],
   "source": [
    "# meta_linear = LinearRegression()\n",
    "# meta_lgbm = LGBMRegressor()\n",
    "# meta_xgb = XGBRegressor()\n",
    "\n",
    "pipeline_1 = Pipeline([('poly', PolynomialFeatures(degree=1)), ('linear', LinearRegression())])\n",
    "pipeline_2 = Pipeline([('poly', PolynomialFeatures(degree=2)), ('linear', LinearRegression())])\n",
    "pipeline_3 = Pipeline([('poly', PolynomialFeatures(degree=3)), ('linear', LinearRegression())])\n",
    "pipeline_4 = Pipeline([('poly', PolynomialFeatures(degree=4)), ('linear', LinearRegression())])\n",
    "pipeline_5 = Pipeline([('poly', PolynomialFeatures(degree=5)), ('linear', LinearRegression())])\n",
    "pipeline_6 = Pipeline([('poly', PolynomialFeatures(degree=6)), ('linear', LinearRegression())])\n",
    "pipeline_7 = Pipeline([('poly', PolynomialFeatures(degree=7)), ('linear', LinearRegression())])\n",
    "\n",
    "\n",
    "models = [pipeline_1, pipeline_2, pipeline_3, pipeline_4, pipeline_5, pipeline_6, pipeline_7]\n",
    "\n",
    "scores = get_scores(models, meta_train, meta_label, rmse_=False)"
   ]
  },
  {
   "cell_type": "code",
   "execution_count": 286,
   "metadata": {},
   "outputs": [
    {
     "data": {
      "text/html": [
       "<div>\n",
       "<style scoped>\n",
       "    .dataframe tbody tr th:only-of-type {\n",
       "        vertical-align: middle;\n",
       "    }\n",
       "\n",
       "    .dataframe tbody tr th {\n",
       "        vertical-align: top;\n",
       "    }\n",
       "\n",
       "    .dataframe thead th {\n",
       "        text-align: right;\n",
       "    }\n",
       "</style>\n",
       "<table border=\"1\" class=\"dataframe\">\n",
       "  <thead>\n",
       "    <tr style=\"text-align: right;\">\n",
       "      <th></th>\n",
       "      <th>RMSLE</th>\n",
       "      <th>R2 score</th>\n",
       "    </tr>\n",
       "  </thead>\n",
       "  <tbody>\n",
       "    <tr>\n",
       "      <th>2</th>\n",
       "      <td>1.117989e+06</td>\n",
       "      <td>0.0193</td>\n",
       "    </tr>\n",
       "    <tr>\n",
       "      <th>7</th>\n",
       "      <td>1.118736e+06</td>\n",
       "      <td>0.0182</td>\n",
       "    </tr>\n",
       "    <tr>\n",
       "      <th>6</th>\n",
       "      <td>1.119281e+06</td>\n",
       "      <td>0.0166</td>\n",
       "    </tr>\n",
       "    <tr>\n",
       "      <th>5</th>\n",
       "      <td>1.119971e+06</td>\n",
       "      <td>0.0149</td>\n",
       "    </tr>\n",
       "    <tr>\n",
       "      <th>4</th>\n",
       "      <td>1.120585e+06</td>\n",
       "      <td>0.0136</td>\n",
       "    </tr>\n",
       "    <tr>\n",
       "      <th>3</th>\n",
       "      <td>1.122662e+06</td>\n",
       "      <td>0.0096</td>\n",
       "    </tr>\n",
       "    <tr>\n",
       "      <th>1</th>\n",
       "      <td>1.139480e+06</td>\n",
       "      <td>-0.0150</td>\n",
       "    </tr>\n",
       "  </tbody>\n",
       "</table>\n",
       "</div>"
      ],
      "text/plain": [
       "          RMSLE  R2 score\n",
       "2  1.117989e+06    0.0193\n",
       "7  1.118736e+06    0.0182\n",
       "6  1.119281e+06    0.0166\n",
       "5  1.119971e+06    0.0149\n",
       "4  1.120585e+06    0.0136\n",
       "3  1.122662e+06    0.0096\n",
       "1  1.139480e+06   -0.0150"
      ]
     },
     "execution_count": 286,
     "metadata": {},
     "output_type": "execute_result"
    }
   ],
   "source": [
    "scores"
   ]
  },
  {
   "cell_type": "markdown",
   "metadata": {},
   "source": [
    "## LGBM best model"
   ]
  },
  {
   "cell_type": "code",
   "execution_count": 52,
   "metadata": {},
   "outputs": [],
   "source": [
    "lgbm = LGBMRegressor(n_estimators=900,\n",
    "                     max_depth=7,\n",
    "                     learning_rate=0.035)"
   ]
  },
  {
   "cell_type": "code",
   "execution_count": 53,
   "metadata": {
    "scrolled": true
   },
   "outputs": [
    {
     "data": {
      "text/plain": [
       "array([13.13494496, 13.10383562, 14.08974416, ..., 13.08982018,\n",
       "       12.6919973 , 12.97130319])"
      ]
     },
     "execution_count": 53,
     "metadata": {},
     "output_type": "execute_result"
    }
   ],
   "source": [
    "lgbm.fit(train, label)\n",
    "y_pred = lgbm.predict(X_sub)\n",
    "y_pred"
   ]
  },
  {
   "cell_type": "code",
   "execution_count": 54,
   "metadata": {
    "scrolled": true
   },
   "outputs": [
    {
     "data": {
      "text/html": [
       "<div>\n",
       "<style scoped>\n",
       "    .dataframe tbody tr th:only-of-type {\n",
       "        vertical-align: middle;\n",
       "    }\n",
       "\n",
       "    .dataframe tbody tr th {\n",
       "        vertical-align: top;\n",
       "    }\n",
       "\n",
       "    .dataframe thead th {\n",
       "        text-align: right;\n",
       "    }\n",
       "</style>\n",
       "<table border=\"1\" class=\"dataframe\">\n",
       "  <thead>\n",
       "    <tr style=\"text-align: right;\">\n",
       "      <th></th>\n",
       "      <th>id</th>\n",
       "      <th>price</th>\n",
       "    </tr>\n",
       "  </thead>\n",
       "  <tbody>\n",
       "    <tr>\n",
       "      <th>0</th>\n",
       "      <td>15035</td>\n",
       "      <td>4.942906e+05</td>\n",
       "    </tr>\n",
       "    <tr>\n",
       "      <th>1</th>\n",
       "      <td>15036</td>\n",
       "      <td>4.744508e+05</td>\n",
       "    </tr>\n",
       "    <tr>\n",
       "      <th>2</th>\n",
       "      <td>15037</td>\n",
       "      <td>1.256917e+06</td>\n",
       "    </tr>\n",
       "    <tr>\n",
       "      <th>3</th>\n",
       "      <td>15038</td>\n",
       "      <td>3.068664e+05</td>\n",
       "    </tr>\n",
       "    <tr>\n",
       "      <th>4</th>\n",
       "      <td>15039</td>\n",
       "      <td>2.861011e+05</td>\n",
       "    </tr>\n",
       "  </tbody>\n",
       "</table>\n",
       "</div>"
      ],
      "text/plain": [
       "      id         price\n",
       "0  15035  4.942906e+05\n",
       "1  15036  4.744508e+05\n",
       "2  15037  1.256917e+06\n",
       "3  15038  3.068664e+05\n",
       "4  15039  2.861011e+05"
      ]
     },
     "execution_count": 54,
     "metadata": {},
     "output_type": "execute_result"
    }
   ],
   "source": [
    "submission = LetSubmit(np.expm1(y_pred), \"lgbm_test\")\n",
    "submission.head()"
   ]
  },
  {
   "cell_type": "markdown",
   "metadata": {},
   "source": [
    "> Submission : 110482"
   ]
  },
  {
   "cell_type": "markdown",
   "metadata": {},
   "source": [
    "### Bias 더하기 (7412)"
   ]
  },
  {
   "cell_type": "code",
   "execution_count": 98,
   "metadata": {},
   "outputs": [],
   "source": [
    "lgbm = LGBMRegressor(n_estimators=900,\n",
    "                     max_depth=7,\n",
    "                     learning_rate=0.035)"
   ]
  },
  {
   "cell_type": "code",
   "execution_count": 99,
   "metadata": {},
   "outputs": [
    {
     "data": {
      "text/plain": [
       "array([13.13494496, 13.10383562, 14.08974416, ..., 13.08982018,\n",
       "       12.6919973 , 12.97130319])"
      ]
     },
     "execution_count": 99,
     "metadata": {},
     "output_type": "execute_result"
    }
   ],
   "source": [
    "lgbm.fit(train, label)\n",
    "y_pred = lgbm.predict(X_sub)\n",
    "y_pred"
   ]
  },
  {
   "cell_type": "code",
   "execution_count": 100,
   "metadata": {
    "scrolled": true
   },
   "outputs": [
    {
     "data": {
      "text/plain": [
       "array([ 513741.53059298,  498232.41378685, 1322933.08052284, ...,\n",
       "        491401.31673186,  332546.49962948,  437308.9743007 ])"
      ]
     },
     "execution_count": 100,
     "metadata": {},
     "output_type": "execute_result"
    }
   ],
   "source": [
    "y_pred = np.expm1(y_pred) + 7412\n",
    "y_pred"
   ]
  },
  {
   "cell_type": "code",
   "execution_count": 101,
   "metadata": {},
   "outputs": [
    {
     "data": {
      "text/html": [
       "<div>\n",
       "<style scoped>\n",
       "    .dataframe tbody tr th:only-of-type {\n",
       "        vertical-align: middle;\n",
       "    }\n",
       "\n",
       "    .dataframe tbody tr th {\n",
       "        vertical-align: top;\n",
       "    }\n",
       "\n",
       "    .dataframe thead th {\n",
       "        text-align: right;\n",
       "    }\n",
       "</style>\n",
       "<table border=\"1\" class=\"dataframe\">\n",
       "  <thead>\n",
       "    <tr style=\"text-align: right;\">\n",
       "      <th></th>\n",
       "      <th>id</th>\n",
       "      <th>price</th>\n",
       "    </tr>\n",
       "  </thead>\n",
       "  <tbody>\n",
       "    <tr>\n",
       "      <th>0</th>\n",
       "      <td>15035</td>\n",
       "      <td>5.137415e+05</td>\n",
       "    </tr>\n",
       "    <tr>\n",
       "      <th>1</th>\n",
       "      <td>15036</td>\n",
       "      <td>4.982324e+05</td>\n",
       "    </tr>\n",
       "    <tr>\n",
       "      <th>2</th>\n",
       "      <td>15037</td>\n",
       "      <td>1.322933e+06</td>\n",
       "    </tr>\n",
       "    <tr>\n",
       "      <th>3</th>\n",
       "      <td>15038</td>\n",
       "      <td>3.031602e+05</td>\n",
       "    </tr>\n",
       "    <tr>\n",
       "      <th>4</th>\n",
       "      <td>15039</td>\n",
       "      <td>3.361485e+05</td>\n",
       "    </tr>\n",
       "  </tbody>\n",
       "</table>\n",
       "</div>"
      ],
      "text/plain": [
       "      id         price\n",
       "0  15035  5.137415e+05\n",
       "1  15036  4.982324e+05\n",
       "2  15037  1.322933e+06\n",
       "3  15038  3.031602e+05\n",
       "4  15039  3.361485e+05"
      ]
     },
     "execution_count": 101,
     "metadata": {},
     "output_type": "execute_result"
    }
   ],
   "source": [
    "submission = LetSubmit(y_pred, \"tune_lgbm_bias\")\n",
    "submission.head()"
   ]
  },
  {
   "cell_type": "markdown",
   "metadata": {},
   "source": [
    "> Submission : 110167"
   ]
  },
  {
   "cell_type": "markdown",
   "metadata": {},
   "source": [
    "### `y_pred`가 1000000 이상인 집들은 46076 Bias 더하기"
   ]
  },
  {
   "cell_type": "code",
   "execution_count": 335,
   "metadata": {},
   "outputs": [],
   "source": [
    "lgbm = LGBMRegressor(n_estimators=900,\n",
    "                     max_depth=7,\n",
    "                     learning_rate=0.035)"
   ]
  },
  {
   "cell_type": "code",
   "execution_count": 336,
   "metadata": {},
   "outputs": [
    {
     "data": {
      "text/plain": [
       "array([13.13494496, 13.10383562, 14.08974416, ..., 13.08982018,\n",
       "       12.6919973 , 12.97130319])"
      ]
     },
     "execution_count": 336,
     "metadata": {},
     "output_type": "execute_result"
    }
   ],
   "source": [
    "lgbm.fit(train, label)\n",
    "y_pred = lgbm.predict(X_sub)\n",
    "y_pred"
   ]
  },
  {
   "cell_type": "code",
   "execution_count": 337,
   "metadata": {
    "scrolled": true
   },
   "outputs": [
    {
     "data": {
      "text/plain": [
       "array([ 513741.53059298,  498232.41378685, 1322933.08052284, ...,\n",
       "        491401.31673186,  332546.49962948,  437308.9743007 ])"
      ]
     },
     "execution_count": 337,
     "metadata": {},
     "output_type": "execute_result"
    }
   ],
   "source": [
    "y_pred = np.expm1(y_pred) + 7412\n",
    "y_pred"
   ]
  },
  {
   "cell_type": "code",
   "execution_count": 344,
   "metadata": {},
   "outputs": [
    {
     "data": {
      "image/png": "[encoded data removed]",
      "text/plain": [
       "<Figure size 432x288 with 1 Axes>"
      ]
     },
     "metadata": {
      "needs_background": "light"
     },
     "output_type": "display_data"
    }
   ],
   "source": [
    "plt.scatter(x=range(len(y_pred)), y=sorted(y_pred))\n",
    "plt.show()"
   ]
  },
  {
   "cell_type": "code",
   "execution_count": 338,
   "metadata": {},
   "outputs": [
    {
     "data": {
      "text/plain": [
       "537716.743279088"
      ]
     },
     "execution_count": 338,
     "metadata": {},
     "output_type": "execute_result"
    }
   ],
   "source": [
    "np.mean(y_pred)"
   ]
  },
  {
   "cell_type": "code",
   "execution_count": 342,
   "metadata": {},
   "outputs": [
    {
     "data": {
      "text/plain": [
       "6468"
      ]
     },
     "execution_count": 342,
     "metadata": {},
     "output_type": "execute_result"
    }
   ],
   "source": [
    "len(y_pred > 4000000)"
   ]
  },
  {
   "cell_type": "code",
   "execution_count": 320,
   "metadata": {},
   "outputs": [
    {
     "data": {
      "text/plain": [
       "array([ 513741.53059298,  498232.41378685, 1369009.08052284, ...,\n",
       "        491401.31673186,  332546.49962948,  437308.9743007 ])"
      ]
     },
     "execution_count": 320,
     "metadata": {},
     "output_type": "execute_result"
    }
   ],
   "source": [
    "y_pred = np.array([i + 46076 if i > 1000000 else i for i in y_pred])\n",
    "y_pred"
   ]
  },
  {
   "cell_type": "code",
   "execution_count": 321,
   "metadata": {},
   "outputs": [
    {
     "data": {
      "text/plain": [
       "540851.1650477955"
      ]
     },
     "execution_count": 321,
     "metadata": {},
     "output_type": "execute_result"
    }
   ],
   "source": [
    "np.mean(y_pred)"
   ]
  },
  {
   "cell_type": "code",
   "execution_count": 322,
   "metadata": {},
   "outputs": [
    {
     "data": {
      "text/html": [
       "<div>\n",
       "<style scoped>\n",
       "    .dataframe tbody tr th:only-of-type {\n",
       "        vertical-align: middle;\n",
       "    }\n",
       "\n",
       "    .dataframe tbody tr th {\n",
       "        vertical-align: top;\n",
       "    }\n",
       "\n",
       "    .dataframe thead th {\n",
       "        text-align: right;\n",
       "    }\n",
       "</style>\n",
       "<table border=\"1\" class=\"dataframe\">\n",
       "  <thead>\n",
       "    <tr style=\"text-align: right;\">\n",
       "      <th></th>\n",
       "      <th>id</th>\n",
       "      <th>price</th>\n",
       "    </tr>\n",
       "  </thead>\n",
       "  <tbody>\n",
       "    <tr>\n",
       "      <th>0</th>\n",
       "      <td>15035</td>\n",
       "      <td>5.137415e+05</td>\n",
       "    </tr>\n",
       "    <tr>\n",
       "      <th>1</th>\n",
       "      <td>15036</td>\n",
       "      <td>4.982324e+05</td>\n",
       "    </tr>\n",
       "    <tr>\n",
       "      <th>2</th>\n",
       "      <td>15037</td>\n",
       "      <td>1.369009e+06</td>\n",
       "    </tr>\n",
       "    <tr>\n",
       "      <th>3</th>\n",
       "      <td>15038</td>\n",
       "      <td>3.031602e+05</td>\n",
       "    </tr>\n",
       "    <tr>\n",
       "      <th>4</th>\n",
       "      <td>15039</td>\n",
       "      <td>3.361485e+05</td>\n",
       "    </tr>\n",
       "  </tbody>\n",
       "</table>\n",
       "</div>"
      ],
      "text/plain": [
       "      id         price\n",
       "0  15035  5.137415e+05\n",
       "1  15036  4.982324e+05\n",
       "2  15037  1.369009e+06\n",
       "3  15038  3.031602e+05\n",
       "4  15039  3.361485e+05"
      ]
     },
     "execution_count": 322,
     "metadata": {},
     "output_type": "execute_result"
    }
   ],
   "source": [
    "submission = LetSubmit(y_pred, \"tune_lgbm_bigbias\")\n",
    "submission.head()"
   ]
  },
  {
   "cell_type": "markdown",
   "metadata": {},
   "source": [
    "> Submission : 110167"
   ]
  },
  {
   "cell_type": "code",
   "execution_count": null,
   "metadata": {},
   "outputs": [],
   "source": []
  }
 ],
 "metadata": {
  "kernelspec": {
   "display_name": "Python 3",
   "language": "python",
   "name": "python3"
  },
  "language_info": {
   "codemirror_mode": {
    "name": "ipython",
    "version": 3
   },
   "file_extension": ".py",
   "mimetype": "text/x-python",
   "name": "python",
   "nbconvert_exporter": "python",
   "pygments_lexer": "ipython3",
   "version": "3.7.0"
  }
 },
 "nbformat": 4,
 "nbformat_minor": 2
}
